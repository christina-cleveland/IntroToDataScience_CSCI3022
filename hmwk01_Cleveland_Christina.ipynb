{
 "cells": [
  {
   "cell_type": "markdown",
   "metadata": {},
   "source": [
    "<a/ id='top'></a>\n",
    "\n",
    "### Homework 1: Exploratory Data Analysis and Data Cleaning\n",
    "***\n",
    "\n",
    "**Name**:\n",
    "\n",
    "***\n",
    "\n",
    "This assignment is due on Moodle by **12 PM noon on Friday 8 June**. Your solutions to theoretical questions should be done in Markdown directly below the associated question.  Your solutions to computational questions should include any specified Python code and results as well as written commentary on your conclusions.  Remember that you are encouraged to discuss the problems with your classmates, but **you must write all code and solutions on your own**.   \n",
    "\n",
    "**NOTES**: \n",
    "\n",
    "- Unless a URL is given for a data set, you will find the required data on Piazza in the Resources tab, under the Data section.\n",
    "- If you are not familiar with typesetting math directly into Markdown then by all means, do your work on paper first and then typeset it later.  There is a [reference guide](https://math.meta.stackexchange.com/questions/5020/mathjax-basic-tutorial-and-quick-reference) linked on Piazza on writing math in Markdown. \n",
    "- It is **bad form** to make your reader interpret numerical output from your code.  If a question asks you to compute some value from the data you should show your code output **AND** write a summary of the results in Markdown directly below your code. It is always advisable to do what you can to make the person grading your work happy :)\n",
    "\n",
    "---\n",
    "**Shortcuts:**  [Problem 1](#p1) | [Problem 2](#p2) | [Problem 3](#p3) | [Problem 4](#p4)\n",
    "\n",
    "---"
   ]
  },
  {
   "cell_type": "code",
   "execution_count": 2,
   "metadata": {},
   "outputs": [],
   "source": [
    "import pandas as pd\n",
    "import numpy as np\n",
    "import math\n",
    "import matplotlib.pylab as plt\n",
    "%matplotlib inline"
   ]
  },
  {
   "cell_type": "markdown",
   "metadata": {},
   "source": [
    "<br>\n",
    "\n",
    "<a/ id='p1'></a>\n",
    "[Back to top](#top)\n",
    "*** \n",
    "### [10 pts] Problem 1\n",
    "\n",
    "Dan has just finished baking a bunch of cookies for his wonderful friends. But, because he is also a good friend, he wants to test the cookies to estimate how delicious they are.  After all, if he baked gross cookies, he probably shouldn't give them to his friends, right?\n",
    "\n",
    "In Dan's batch, there are 50 chocolate chip, 20 oatmeal raisin, 20 macadamia nut and 10 snickerdoodle cookies.  To estimate the deliciousness of the batch, Dan randomly selects 10 cookies and tastes them.  Dan is quite methodical, so he has a log of all of the cookies he has baked, and he intentionally selects 5 chocolate chip, 2 oatmeal raisin, 2 macadamia nut and 1 snickerdoodle cookie from his log to test.\n",
    "\n",
    "Identify the following: \n",
    "\n",
    "- the population \n",
    "- the sample frame \n",
    "- the sample \n",
    "- the type of sample \n",
    "- the quantity of interest"
   ]
  },
  {
   "cell_type": "markdown",
   "metadata": {},
   "source": [
    "Population: all the cookies in Dan's batch (100 total)\n",
    "Sample Frame: Dan's Cookie Log\n",
    "Sample: the set of 10 cookies he picked from the population\n",
    "Type of Sample: stratified sample\n",
    "Quantity of interest: Deliciousness "
   ]
  },
  {
   "cell_type": "markdown",
   "metadata": {},
   "source": [
    "<br>\n",
    "\n",
    "<a/ id='p2'></a>\n",
    "[Back to top](#top)\n",
    "*** \n",
    "### [20 pts] Problem 2 \n",
    "\n",
    "A method to investigate the sensitivity of the sample mean and the sample median to extreme outliers is to replace one or more elements in a given dataset by a number $y$ and investigate the eﬀect when $y$ goes to inﬁnity. To illustrate this, consider the dataset\n",
    "\n",
    "$$\n",
    "4.6 \\quad \n",
    "5.0 \\quad\n",
    "6.5 \\quad\n",
    "7.2 \\quad\n",
    "4.2 \\quad\n",
    "3.0 \\quad\n",
    "6.6\n",
    "$$\n",
    "\n",
    "**Part A**: Compute the sample mean and sample median.\n"
   ]
  },
  {
   "cell_type": "code",
   "execution_count": 3,
   "metadata": {},
   "outputs": [
    {
     "name": "stdout",
     "output_type": "stream",
     "text": [
      "Mean:  5.3\n",
      "Median:  5.0\n"
     ]
    }
   ],
   "source": [
    "nums = np.array([4.6,5.0,6.5,7.2,4.2,3.0,6.6])\n",
    "samMean = np.mean(nums)\n",
    "samMedian = np.median(nums)\n",
    "sort = np.sort(nums)\n",
    "#for x in sort: print(x)\n",
    "print(\"Mean: \", samMean)\n",
    "print(\"Median: \", samMedian)"
   ]
  },
  {
   "cell_type": "markdown",
   "metadata": {},
   "source": [
    "**Part B**: We replace the element $5.0$ by some real number $z$. What happens with the sample mean and the sample median of this new dataset as $z \\rightarrow \\infty$?"
   ]
  },
  {
   "cell_type": "markdown",
   "metadata": {},
   "source": [
    "Mean:\n",
    "\n",
    "The mean will also go to infinity.\n",
    "\n",
    "Median:\n",
    "\n",
    "The median will change depending on z.\n",
    "\n",
    "For z < 4.6, median = 4.6\n",
    "4.6 <= z <= 6.5, median = z\n",
    "6.5 < z, median = z\n",
    "\n",
    "So as z approaches infinity, the median will remain at 6.5."
   ]
  },
  {
   "cell_type": "markdown",
   "metadata": {},
   "source": [
    "**Part C**: We replace a number of elements by some real number $z$. How many elements do we need to replace so that the sample median of the new dataset goes to infinity as $z \\rightarrow \\infty$?"
   ]
  },
  {
   "cell_type": "markdown",
   "metadata": {},
   "source": [
    "4,\n",
    "This way none of the three original values remaining could be the median, only one of the z's"
   ]
  },
  {
   "cell_type": "markdown",
   "metadata": {},
   "source": [
    "**Part D**: Suppose we have another data set of size $n$. How many elements do we need to replace by some real number $z$, so that the sample mean of the new dataset diverges as $z \\rightarrow \\infty$? And how many elements do we need to replace, so that the sample median of the new dataset goes to infinity? "
   ]
  },
  {
   "cell_type": "markdown",
   "metadata": {},
   "source": [
    "Mean:\n",
    "\n",
    "any single element\n",
    "\n",
    "Median:\n",
    "\n",
    "if n is even, need to replace $\\frac{n}{2}$ elements\n",
    "\n",
    "if n is odd, need to replace $\\frac{n+1}{2}$ elements\n"
   ]
  },
  {
   "cell_type": "markdown",
   "metadata": {},
   "source": [
    "<br>\n",
    "\n",
    "<a/ id='p3'></a>\n",
    "[Back to top](#top)\n",
    "*** \n",
    "### [35 pts] Problem 3 \n",
    "\n",
    "Let $x_1, x_2, \\ldots, x_n$ be $n$ observations of a variable of interest.  Recall that the sample mean $\\bar{x}_n$ and sample variance $s^2_n$ are given by \n",
    "\n",
    "$$\n",
    "\\bar{x}_n = \\frac{1}{n}\\sum_{k=1}^n x_k \\quad \\textrm{and} \\quad s^2_n = \\frac{1}{n-1}\\sum_{k=1}^n \\left( x_k - \\bar{x}_n\\right)^2\n",
    "$$\n",
    "\n",
    "where here the subscript $n$'s indicate the number of observations in the sample. Notice that a natural computation of the variance requires two passes over the data: one to compute the mean, and a second to subtract the mean from each observation and compute the sum of squares. It is often useful to be able to compute the variance in a single pass, inspecting each value $x_k$ only once; for example, when the data are being collected without enough storage to keep all the values, or when costs of memory access dominate those of computation. In this problem you will explore two methods for such an _online_ computation of the mean and variance.  \n",
    "\n",
    "**Part A**: Show algebraically that the following relation holds between the mean of the first $n-1$ observations and the mean of all $n$ observations: \n",
    "\n",
    "$$\n",
    "\\bar{x}_n = \\bar{x}_{n-1} + \\frac{x_n - \\bar{x}_{n-1}}{n}\n",
    "$$"
   ]
  },
  {
   "cell_type": "markdown",
   "metadata": {},
   "source": [
    "Solution:\n",
    "$$\n",
    "\\bar{x}_{n-1}  (n-1) = \\sum_{k=1}^{n-1} x_k  \\quad \\textrm{and} \\quad \\bar{x}_n = \\frac{(\\sum_{k=1}^{n-1} x_k)+ x_n}{n}\n",
    "$$\n",
    "$$\n",
    "\\bar{x}_n = \\frac{\\bar{x}_{n-1}  (n-1) + x_n}{n}\n",
    "$$\n",
    "\n",
    "Which simplifies to:\n",
    "\n",
    "$$\n",
    "\\bar{x}_n = \\bar{x}_{n-1} + \\frac{x_n - \\bar{x}_{n-1}}{n}\n",
    "$$"
   ]
  },
  {
   "cell_type": "markdown",
   "metadata": {},
   "source": [
    "**Part B**: Write a function `my_sample_mean` that takes as its input a numpy array and returns the mean of that numpy array using the formulas from class (written above). Write another function `my_sample_var` that takes as its input a numpy array and returns the variance of that numpy array, again using the formulas from class (written above). You may **not** use any built-in sample mean or variance functions."
   ]
  },
  {
   "cell_type": "code",
   "execution_count": 4,
   "metadata": {},
   "outputs": [],
   "source": [
    "def my_sample_mean(arr):\n",
    "    mean = sum(arr)/len(arr)\n",
    "    return mean\n",
    "\n",
    "def my_sample_var(arr):\n",
    "    currMean = my_sample_mean(arr)\n",
    "    squareDifs = (arr - currMean)**2\n",
    "    return (1/(len(arr)-1))*squareDifs.sum()    "
   ]
  },
  {
   "cell_type": "markdown",
   "metadata": {},
   "source": [
    "**Part C**: Use your functions from Part B to compute the sample mean and sample variance of the following array of bicycle ride lengths.\n",
    "\n",
    "`ride_lengths = [25, 23, 12, 38, 6, 6, 28, 45, 64, 17, 20, 100]`"
   ]
  },
  {
   "cell_type": "code",
   "execution_count": 5,
   "metadata": {},
   "outputs": [
    {
     "name": "stdout",
     "output_type": "stream",
     "text": [
      "Mean:  32.0\n",
      "Variance:  738.1818181818182\n"
     ]
    }
   ],
   "source": [
    "arr = np.array([25, 23, 12, 38, 6, 6, 28, 45, 64, 17, 20, 100])\n",
    "#print(arr.mean())\n",
    "print(\"Mean: \", my_sample_mean(arr))\n",
    "#print(arr.var())\n",
    "print(\"Variance: \", my_sample_var(arr))"
   ]
  },
  {
   "cell_type": "markdown",
   "metadata": {},
   "source": [
    "**Part D**: Implement a third function called `update_mean` that implements the formula whose validity you proved in Part A. (Note: this function will need to take as its input three things: $x_n$, $\\bar{x}_{n-1}$ and $n$.)\n",
    "\n",
    "Use this function to compute the values that you get from taking the mean of the first one ride, the first two rides, the first three rides, and so on up to all the bike rides. Store your ride length means in a numpy array called `rolling_means`.  Report all 12 estimates in `rolling_means`."
   ]
  },
  {
   "cell_type": "code",
   "execution_count": 6,
   "metadata": {},
   "outputs": [
    {
     "name": "stdout",
     "output_type": "stream",
     "text": [
      "Rolling Means:  [25.         24.         20.         24.5        20.8        18.33333333\n",
      " 19.71428571 22.875      27.44444444 26.4        25.81818182 32.        ]\n"
     ]
    }
   ],
   "source": [
    "def update_mean(xn, xnmin1Mean, n):\n",
    "    return xnmin1Mean + (xn - xnmin1Mean)/(n)\n",
    "def calc_store_means(arr):\n",
    "    rolling_means = np.empty(len(arr))\n",
    "    currMean = 0\n",
    "    for i,x in enumerate(arr):\n",
    "        rolling_means[i] = update_mean(x, currMean, i+1)\n",
    "        currMean = rolling_means[i]\n",
    "    return (rolling_means)\n",
    "rolling_means = calc_store_means(arr)\n",
    "print(\"Rolling Means: \", rolling_means)\n"
   ]
  },
  {
   "cell_type": "markdown",
   "metadata": {},
   "source": [
    "**Part E:** There is a similar relation for an online update of the variance. This relation between the variance of the first $n-1$ observations and the variance of all $n$ observations is:\n",
    "\n",
    "$$\n",
    "s^2_n = \\frac{(n-2)}{(n-1)}s^2_{n-1} + \\frac{(x_n - \\bar{x}_{n-1})^2}{n}\n",
    "$$\n",
    "\n",
    "Implement a function called `update_var` that implements this update for the variance.  Note that the function will require four things as input: $\\bar{x}_{n-1}$, $s^2_{n-1}$, $x_n$ and $n$. You may start the recurrence with $s^2_1 = 0$.\n",
    "\n",
    "Then, use this function to compute the values that you get for the variance of the first two rides, the first three rides, and so on up to all of the bike rides. Store your ride length variances in a numpy array called `rolling_vars`. Report all variance estimates from `rolling_vars`, and be sure your final estimate using all of the data agrees with your answer from **Part C**."
   ]
  },
  {
   "cell_type": "code",
   "execution_count": 7,
   "metadata": {},
   "outputs": [
    {
     "name": "stdout",
     "output_type": "stream",
     "text": [
      "Rolling Variances:  [  0.           2.          49.         113.66666667 153.7\n",
      " 159.46666667 146.23809524 205.26785714 367.52777778 337.6\n",
      " 307.56363636 738.18181818]\n"
     ]
    }
   ],
   "source": [
    "def update_var(xnmin1Mean, s2nmin1, x, n):\n",
    "    return (((n-2)/(n-1))*s2nmin1+((x-xnmin1Mean)**2)/n)\n",
    "def calc_store_vars(arr):\n",
    "    rolling_vars = np.empty(len(arr))\n",
    "    for i,x in enumerate(arr):\n",
    "        if i == 0:\n",
    "            rolling_vars[i] = 0\n",
    "        else:\n",
    "            rolling_vars[i] = update_var(rolling_means[i-1], rolling_vars[i-1], x, i+1)\n",
    "    return rolling_vars\n",
    "rolling_vars = calc_store_vars(arr)\n",
    "print(\"Rolling Variances: \", rolling_vars)"
   ]
  },
  {
   "cell_type": "markdown",
   "metadata": {},
   "source": [
    "<br>\n",
    "\n",
    "<a/ id='p4'></a>\n",
    "[Back to top](#top)\n",
    "*** \n",
    "### [35 pts] Problem 4\n",
    "\n",
    "Some claim that the final hours aboard the RMS Titanic were marked by class warfare; others claim it was characterized by male chivalry.  We have the data on survival rates by class and by sex, so let's figure out whether there is evidence for these scenarios.\n",
    "\n",
    "Access the dirty Titanic data in [`titanic_data.csv`](https://piazza.com/class_profile/get_resource/jhaqogsdelf76h/jhz5hca2axb6zw) (linked here) and store it in a Pandas DataFrame. The data contains information pertaining to class status (**Pclass**), survival of passengers (**Survived**), and gender (**Sex**), among others.\n",
    "\n",
    "Please make sure you do **NOT** accidentally use the `clean_titanic_data.csv` data set from the first in-class notebook."
   ]
  },
  {
   "cell_type": "code",
   "execution_count": 8,
   "metadata": {},
   "outputs": [
    {
     "data": {
      "text/html": [
       "<div>\n",
       "<style scoped>\n",
       "    .dataframe tbody tr th:only-of-type {\n",
       "        vertical-align: middle;\n",
       "    }\n",
       "\n",
       "    .dataframe tbody tr th {\n",
       "        vertical-align: top;\n",
       "    }\n",
       "\n",
       "    .dataframe thead th {\n",
       "        text-align: right;\n",
       "    }\n",
       "</style>\n",
       "<table border=\"1\" class=\"dataframe\">\n",
       "  <thead>\n",
       "    <tr style=\"text-align: right;\">\n",
       "      <th></th>\n",
       "      <th>PassengerId</th>\n",
       "      <th>Survived</th>\n",
       "      <th>Pclass</th>\n",
       "      <th>Name</th>\n",
       "      <th>Sex</th>\n",
       "      <th>Age</th>\n",
       "      <th>SibSp</th>\n",
       "      <th>Parch</th>\n",
       "      <th>Ticket</th>\n",
       "      <th>Fare</th>\n",
       "      <th>Cabin</th>\n",
       "      <th>Embarked</th>\n",
       "    </tr>\n",
       "  </thead>\n",
       "  <tbody>\n",
       "    <tr>\n",
       "      <th>0</th>\n",
       "      <td>1</td>\n",
       "      <td>0</td>\n",
       "      <td>3</td>\n",
       "      <td>Braund, Mr. Owen Harris</td>\n",
       "      <td>male</td>\n",
       "      <td>36.0</td>\n",
       "      <td>1</td>\n",
       "      <td>0</td>\n",
       "      <td>A/5 21171</td>\n",
       "      <td>7.2500</td>\n",
       "      <td>NaN</td>\n",
       "      <td>S</td>\n",
       "    </tr>\n",
       "    <tr>\n",
       "      <th>1</th>\n",
       "      <td>2</td>\n",
       "      <td>1</td>\n",
       "      <td>1</td>\n",
       "      <td>Cumings, Mrs. John Bradley (Florence Briggs Th...</td>\n",
       "      <td>female</td>\n",
       "      <td>18.0</td>\n",
       "      <td>1</td>\n",
       "      <td>0</td>\n",
       "      <td>PC 17599</td>\n",
       "      <td>71.2833</td>\n",
       "      <td>C85</td>\n",
       "      <td>C</td>\n",
       "    </tr>\n",
       "    <tr>\n",
       "      <th>2</th>\n",
       "      <td>3</td>\n",
       "      <td>1</td>\n",
       "      <td>3</td>\n",
       "      <td>Heikkinen, Miss. Laina</td>\n",
       "      <td>female</td>\n",
       "      <td>14.0</td>\n",
       "      <td>0</td>\n",
       "      <td>0</td>\n",
       "      <td>STON/O2. 3101282</td>\n",
       "      <td>7.9250</td>\n",
       "      <td>NaN</td>\n",
       "      <td>S</td>\n",
       "    </tr>\n",
       "    <tr>\n",
       "      <th>3</th>\n",
       "      <td>4</td>\n",
       "      <td>1</td>\n",
       "      <td>1</td>\n",
       "      <td>Futrelle, Mrs. Jacques Heath (Lily May Peel)</td>\n",
       "      <td>female</td>\n",
       "      <td>27.0</td>\n",
       "      <td>1</td>\n",
       "      <td>0</td>\n",
       "      <td>113803</td>\n",
       "      <td>53.1000</td>\n",
       "      <td>C123</td>\n",
       "      <td>S</td>\n",
       "    </tr>\n",
       "    <tr>\n",
       "      <th>4</th>\n",
       "      <td>5</td>\n",
       "      <td>0</td>\n",
       "      <td>3</td>\n",
       "      <td>Allen, Mr. William Henry</td>\n",
       "      <td>male</td>\n",
       "      <td>63.0</td>\n",
       "      <td>0</td>\n",
       "      <td>0</td>\n",
       "      <td>373450</td>\n",
       "      <td>8.0500</td>\n",
       "      <td>NaN</td>\n",
       "      <td>S</td>\n",
       "    </tr>\n",
       "  </tbody>\n",
       "</table>\n",
       "</div>"
      ],
      "text/plain": [
       "   PassengerId  Survived  Pclass  \\\n",
       "0            1         0       3   \n",
       "1            2         1       1   \n",
       "2            3         1       3   \n",
       "3            4         1       1   \n",
       "4            5         0       3   \n",
       "\n",
       "                                                Name     Sex   Age  SibSp  \\\n",
       "0                            Braund, Mr. Owen Harris    male  36.0      1   \n",
       "1  Cumings, Mrs. John Bradley (Florence Briggs Th...  female  18.0      1   \n",
       "2                             Heikkinen, Miss. Laina  female  14.0      0   \n",
       "3       Futrelle, Mrs. Jacques Heath (Lily May Peel)  female  27.0      1   \n",
       "4                           Allen, Mr. William Henry    male  63.0      0   \n",
       "\n",
       "   Parch            Ticket     Fare Cabin Embarked  \n",
       "0      0         A/5 21171   7.2500   NaN        S  \n",
       "1      0          PC 17599  71.2833   C85        C  \n",
       "2      0  STON/O2. 3101282   7.9250   NaN        S  \n",
       "3      0            113803  53.1000  C123        S  \n",
       "4      0            373450   8.0500   NaN        S  "
      ]
     },
     "execution_count": 8,
     "metadata": {},
     "output_type": "execute_result"
    }
   ],
   "source": [
    "# Two different paths to the data\n",
    "# Modify the `local path` to wherever it lives on your machine\n",
    "local_path = '../data/titanic_data.csv'\n",
    "web_path = 'https://piazza.com/class_profile/get_resource/jhaqogsdelf76h/jhz5hca2axb6zw'\n",
    "\n",
    "# Select the path that works for you \n",
    "file_path = web_path \n",
    "\n",
    "# Load the data into a DataFrame \n",
    "df = pd.read_csv(file_path)\n",
    "df.head()"
   ]
  },
  {
   "cell_type": "markdown",
   "metadata": {},
   "source": [
    "**Part A**: Consider the two claims: class warfare, and male chivalry. Suppose that class warfare occurred in the final hours aboard the Titanic.  What patterns might you expect to see in the data?  Suppose that male chivalry was widespread during the final hours insteas. What patterns might you then expect to see in the data?  Explain both of these hypothesized patterns in words. Are these two hypotheses mutually exclusive or not?"
   ]
  },
  {
   "cell_type": "markdown",
   "metadata": {},
   "source": [
    "Class warfare: there would be a correlation between class and survival rate \n",
    "\n",
    "Male Chivalry: there would be a positive correlation between being female and survival"
   ]
  },
  {
   "cell_type": "markdown",
   "metadata": {},
   "source": [
    "**Part B**: Create a clean data set by removing any rows from the DataFrame that are missing values corresponding to **Survived**, **Pclass**, **Age**, or **Sex**. Store the clean data in a DataFrame called dfTitanic. \n",
    "\n",
    "Also, answer these questions and display any relevant codes:\n",
    "1. How many rows were in the original DataFrame?\n",
    "2. How many rows are in the cleaned DataFrame?"
   ]
  },
  {
   "cell_type": "code",
   "execution_count": 9,
   "metadata": {},
   "outputs": [
    {
     "name": "stdout",
     "output_type": "stream",
     "text": [
      "Original:  891\n",
      "Clean:  714\n"
     ]
    }
   ],
   "source": [
    "condition1 = df[\"Age\"] >= 0\n",
    "condition2 = df[\"Survived\"] >= 0\n",
    "condition3 = df[\"Pclass\"] >= 1\n",
    "condition4 = df[\"Sex\"] != \"\"\n",
    "dfTitanic = df.loc[condition1&condition2&condition3&condition4].copy()\n",
    "\n",
    "print(\"Original: \", len(df))\n",
    "print(\"Clean: \", len(dfTitanic))\n"
   ]
  },
  {
   "cell_type": "markdown",
   "metadata": {},
   "source": [
    "**Part C**: Determine the fraction of survivors from each passenger class. Round your answers to **3 decimal places**."
   ]
  },
  {
   "cell_type": "code",
   "execution_count": 10,
   "metadata": {},
   "outputs": [
    {
     "name": "stdout",
     "output_type": "stream",
     "text": [
      "Class:  Fraction of Survivors\n",
      "Class 1:  0.381\n",
      "Class 2:  0.237\n",
      "Class 3:  0.381\n"
     ]
    }
   ],
   "source": [
    "dfWinners = dfTitanic.loc[dfTitanic[\"Survived\"]==1]\n",
    "tot = len(dfWinners)\n",
    "print(\"Class: \", \"Fraction of Survivors\")\n",
    "print(\"Class 1: \", \"%.3f\" % (len(dfWinners[dfWinners[\"Pclass\"]==1])/tot))\n",
    "print(\"Class 2: \", \"%.3f\" % (len(dfWinners[dfWinners[\"Pclass\"]==2])/tot))\n",
    "print(\"Class 3: \", \"%.3f\" % (len(dfWinners[dfWinners[\"Pclass\"]==3])/tot))"
   ]
  },
  {
   "cell_type": "markdown",
   "metadata": {},
   "source": [
    "**Part D**: Compute the fraction of survivors according to class and gender.  Did men in first class or women in third class have a higher survival rate? \n",
    "\n",
    "Note that there are 6 class-gender combinations to report survival fractions for."
   ]
  },
  {
   "cell_type": "code",
   "execution_count": 11,
   "metadata": {},
   "outputs": [
    {
     "name": "stdout",
     "output_type": "stream",
     "text": [
      "Gender, Class:  Fraction Survived\n",
      "Male, Class 1:  0.376\n",
      "Male, Class 2:  0.172\n",
      "Male, Class 3:  0.155\n",
      "Female, Class 1:  0.947\n",
      "Female, Class 2:  0.879\n",
      "Female, Class 3:  0.525\n",
      "Women in third class survived at a greater rate than men in first class\n"
     ]
    }
   ],
   "source": [
    "winnersClasses = [dfWinners[\"Pclass\"]==1, dfWinners[\"Pclass\"]==2, dfWinners[\"Pclass\"]==3]\n",
    "allClasses = [dfTitanic[\"Pclass\"]==1, dfTitanic[\"Pclass\"]==2, dfTitanic[\"Pclass\"]==3]\n",
    "winnersGender = [dfWinners[\"Sex\"]==\"male\",dfWinners[\"Sex\"]==\"female\"]\n",
    "allGender = [dfTitanic[\"Sex\"]==\"male\",dfTitanic[\"Sex\"]==\"female\"]\n",
    "survivalGroups = [\"Male, Class 1: \", \"Male, Class 2: \", \"Male, Class 3: \", \"Female, Class 1: \", \"Female, Class 2: \", \"Female, Class 3: \"]\n",
    "survivalRates = []\n",
    "for i in range(len(allGender)):\n",
    "    for j in range(len(allClasses)):\n",
    "        survivalRates.append(len((dfWinners.loc[winnersClasses[j]&winnersGender[i]]))/len((dfTitanic.loc[allClasses[j]&allGender[i]])))\n",
    "print(\"Gender, Class: \", \"Fraction Survived\")\n",
    "for i in range(len(survivalRates)):\n",
    "    print(survivalGroups[i], \"%.3f\" % survivalRates[i])\n",
    "print(\"Women in third class survived at a greater rate than men in first class\")"
   ]
  },
  {
   "cell_type": "markdown",
   "metadata": {},
   "source": [
    "**Part E**: How would you characterize the distribution of **AGE**? (By _characterize_ we mean that you should indicate whether the data are unimodal, bimodal, multimodal, symmetric, negatively skewed, positively skewed, etc.)  Make any necessary graphical summaries to justify your conclusion. "
   ]
  },
  {
   "cell_type": "code",
   "execution_count": 14,
   "metadata": {},
   "outputs": [
    {
     "data": {
      "image/png": "[encoded data removed]",
      "text/plain": [
       "<Figure size 576x576 with 1 Axes>"
      ]
     },
     "metadata": {},
     "output_type": "display_data"
    }
   ],
   "source": [
    "my_bins = range(0,90,3)\n",
    "fig, axes = plt.subplots(figsize=(8,8))\n",
    "\n",
    "plot = dfTitanic.hist(column=\"Age\", ax=axes, bins = my_bins, facecolor=\"steelblue\", edgecolor=\"white\")\n",
    "\n",
    "axes.set_title(\"Age Distribution of Titanic Passengers\", fontsize=20)\n",
    "axes.set_xlabel(\"Age (years)\", fontsize=16)\n",
    "axes.set_ylabel(\"Number of Passengers\", fontsize=16)\n",
    "\n",
    "axes.grid(alpha=0.25)\n",
    "axes.set_axisbelow(True)\n"
   ]
  },
  {
   "cell_type": "markdown",
   "metadata": {},
   "source": [
    "Based on the histogram above, the age distribution is positively skewed.\n",
    "\n",
    "There is a clear mode around ages 24-27, however there is a smaller, barely distinct peak around ages 0-3, so the data is weakly bimodal."
   ]
  },
  {
   "cell_type": "markdown",
   "metadata": {},
   "source": [
    "**Part F**: Were the median and mean ages for females who survived higher or lower than for females who did not survive?  "
   ]
  },
  {
   "cell_type": "code",
   "execution_count": 12,
   "metadata": {},
   "outputs": [
    {
     "name": "stdout",
     "output_type": "stream",
     "text": [
      "Survived Mean Median\n",
      "Yes!\t 28.4 \t 26.0\n",
      "No :(\t 29.0 \t 29.0\n"
     ]
    }
   ],
   "source": [
    "dfRIPladies = dfTitanic.loc[(dfTitanic[\"Survived\"]==0)&(dfTitanic[\"Sex\"]==\"female\")]\n",
    "dfAliveLadies = dfWinners.loc[dfWinners[\"Sex\"]==\"female\"]\n",
    "print(\"Survived\", \"Mean\", \"Median\")\n",
    "aliveMean = dfAliveLadies[\"Age\"].mean()\n",
    "deadMean = dfRIPladies[\"Age\"].mean()\n",
    "aliveMedian = dfAliveLadies[\"Age\"].median()\n",
    "deadMedian = dfRIPladies[\"Age\"].median()\n",
    "print(\"Yes!\\t\", \"%.1f\" % aliveMean, \"\\t\", aliveMedian)\n",
    "print(\"No :(\\t\", \"%.1f\" % deadMean, \"\\t\", deadMedian)\n"
   ]
  },
  {
   "cell_type": "markdown",
   "metadata": {},
   "source": [
    "The mean and median ages of the surviving women was lower than the mean and median ages of the women who did not survive."
   ]
  },
  {
   "cell_type": "markdown",
   "metadata": {},
   "source": [
    "**Part G**: Do the data suggest class warfare, male chivalry, or some combination of both characteristics in the final hours aboard the Titanic?  Justify your conclusion based on the computations done above, or do any other analysis that you like, but be sure to clearly justify your conclusion. "
   ]
  },
  {
   "cell_type": "markdown",
   "metadata": {},
   "source": [
    "Gender, Class:  Fraction Survived\n",
    "Male, Class 1:  0.287\n",
    "Male, Class 2:  0.139\n",
    "Male, Class 3:  0.127\n",
    "Female, Class 1:  0.755\n",
    "Female, Class 2:  0.671\n",
    "Female, Class 3:  0.431\n",
    "\n",
    "The above data suggests both class warfare and male chivalry both influenced the survival rates of different groups on the titanic. \n",
    "\n",
    "Male Chivalry: Even the lowest class women survived at a greater rate than the highest class men. For each class, women survived at a greater rate than the men of the same class. \n",
    "\n",
    "Class Warfare: There is a clear trend of increasing survival rates with increasing class (decreasing class number). "
   ]
  },
  {
   "cell_type": "markdown",
   "metadata": {},
   "source": [
    "---\n",
    "[Back to top](#top)"
   ]
  }
 ],
 "metadata": {
  "celltoolbar": "Raw Cell Format",
  "kernelspec": {
   "display_name": "Python 3",
   "language": "python",
   "name": "python3"
  },
  "language_info": {
   "codemirror_mode": {
    "name": "ipython",
    "version": 3
   },
   "file_extension": ".py",
   "mimetype": "text/x-python",
   "name": "python",
   "nbconvert_exporter": "python",
   "pygments_lexer": "ipython3",
   "version": "3.6.5"
  }
 },
 "nbformat": 4,
 "nbformat_minor": 2
}
