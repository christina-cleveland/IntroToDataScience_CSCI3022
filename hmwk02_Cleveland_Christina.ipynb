{
 "cells": [
  {
   "cell_type": "markdown",
   "metadata": {},
   "source": [
    "<a/ id='top'></a>\n",
    "# Homework 2: Introduction to Probability and Simulation \n",
    "***\n",
    "\n",
    "**Name**: \n",
    "\n",
    "***\n",
    "\n",
    "This assignment is due on Moodle by **5 PM on Friday June 15**. Your solutions to theoretical questions should be **done in Markdown/MathJax** directly below the associated question.  Your solutions to computational questions should include any specified Python code and results as well as written commentary on your conclusions.  Remember that you are encouraged to discuss the problems with your instructors and classmates, but **you must write all code and solutions on your own**. \n",
    "\n",
    "**NOTES**: \n",
    "\n",
    "- It is **bad form** to make your reader interpret numerical output from your code.  If a question asks you to compute some value from the data you should show your code output **AND** write a summary of the results in Markdown directly below your code.\n",
    "- Because you can technically evaluate notebook cells in a non-linear order, it's a good idea to do Cell $\\rightarrow$ Run All as a check before submitting your solutions.  That way if we need to run your code you will know that it will work as expected. \n",
    "- Submit only this Jupyter notebook to Moodle.  Do not compress it using tar, rar, zip, etc. \n",
    "\n",
    "---\n",
    "**Shortcuts:**  [Problem 1](#p1) | [Problem 2](#p2) | [Problem 3](#p3) | [Problem 4](#p4)\n",
    "\n",
    "---"
   ]
  },
  {
   "cell_type": "code",
   "execution_count": 275,
   "metadata": {
    "collapsed": true,
    "scrolled": true
   },
   "outputs": [],
   "source": [
    "import pandas as pd\n",
    "import numpy as np\n",
    "import matplotlib.pylab as plt\n",
    "%matplotlib inline"
   ]
  },
  {
   "cell_type": "markdown",
   "metadata": {},
   "source": [
    "***\n",
    "<a/ id='p1'></a>\n",
    "[Back to top](#top)\n",
    "\n",
    "### [20 pts] Problem 1\n",
    "\n",
    "Access the data from URL https://www.stat.berkeley.edu/~statlabs/data/babies.data and store the information in a Pandas DataFrame.  These data are a subset from a much larger study dealing with child health and development.  A description of the variables can be found at https://www.stat.berkeley.edu/~statlabs/labs.html#babies, and a brief summary is given below.\n",
    "\n",
    "- **bwt**: birth weight (ounces; 999 if unknown) \n",
    "- **gestation**: length of pregnancy in days (999 if unknown)\n",
    "- **parity**: 0=first born, 9=unknown\n",
    "- **age**: mother's age in years\n",
    "- **height**: mother's height in inches (99 if unknown)\n",
    "- **weight**: mother's prepregnancy weight in pounds (999 if unknown)\n",
    "- **smoke**: smoking status of mother; 0=not now, 1=yes now, 9=unknown\n",
    "\n",
    "These data are also available on the course Piazza page, under the Resources tab."
   ]
  },
  {
   "cell_type": "code",
   "execution_count": 276,
   "metadata": {
    "collapsed": true
   },
   "outputs": [
    {
     "data": {
      "text/html": [
       "<div>\n",
       "<style scoped>\n",
       "    .dataframe tbody tr th:only-of-type {\n",
       "        vertical-align: middle;\n",
       "    }\n",
       "\n",
       "    .dataframe tbody tr th {\n",
       "        vertical-align: top;\n",
       "    }\n",
       "\n",
       "    .dataframe thead th {\n",
       "        text-align: right;\n",
       "    }\n",
       "</style>\n",
       "<table border=\"1\" class=\"dataframe\">\n",
       "  <thead>\n",
       "    <tr style=\"text-align: right;\">\n",
       "      <th></th>\n",
       "      <th>bwt</th>\n",
       "      <th>gestation</th>\n",
       "      <th>parity</th>\n",
       "      <th>age</th>\n",
       "      <th>height</th>\n",
       "      <th>weight</th>\n",
       "      <th>smoke</th>\n",
       "    </tr>\n",
       "  </thead>\n",
       "  <tbody>\n",
       "    <tr>\n",
       "      <th>0</th>\n",
       "      <td>120</td>\n",
       "      <td>284</td>\n",
       "      <td>0</td>\n",
       "      <td>27</td>\n",
       "      <td>62</td>\n",
       "      <td>100</td>\n",
       "      <td>0</td>\n",
       "    </tr>\n",
       "    <tr>\n",
       "      <th>1</th>\n",
       "      <td>113</td>\n",
       "      <td>282</td>\n",
       "      <td>0</td>\n",
       "      <td>33</td>\n",
       "      <td>64</td>\n",
       "      <td>135</td>\n",
       "      <td>0</td>\n",
       "    </tr>\n",
       "    <tr>\n",
       "      <th>2</th>\n",
       "      <td>128</td>\n",
       "      <td>279</td>\n",
       "      <td>0</td>\n",
       "      <td>28</td>\n",
       "      <td>64</td>\n",
       "      <td>115</td>\n",
       "      <td>1</td>\n",
       "    </tr>\n",
       "    <tr>\n",
       "      <th>3</th>\n",
       "      <td>123</td>\n",
       "      <td>999</td>\n",
       "      <td>0</td>\n",
       "      <td>36</td>\n",
       "      <td>69</td>\n",
       "      <td>190</td>\n",
       "      <td>0</td>\n",
       "    </tr>\n",
       "    <tr>\n",
       "      <th>4</th>\n",
       "      <td>108</td>\n",
       "      <td>282</td>\n",
       "      <td>0</td>\n",
       "      <td>23</td>\n",
       "      <td>67</td>\n",
       "      <td>125</td>\n",
       "      <td>1</td>\n",
       "    </tr>\n",
       "    <tr>\n",
       "      <th>5</th>\n",
       "      <td>136</td>\n",
       "      <td>286</td>\n",
       "      <td>0</td>\n",
       "      <td>25</td>\n",
       "      <td>62</td>\n",
       "      <td>93</td>\n",
       "      <td>0</td>\n",
       "    </tr>\n",
       "    <tr>\n",
       "      <th>6</th>\n",
       "      <td>138</td>\n",
       "      <td>244</td>\n",
       "      <td>0</td>\n",
       "      <td>33</td>\n",
       "      <td>62</td>\n",
       "      <td>178</td>\n",
       "      <td>0</td>\n",
       "    </tr>\n",
       "    <tr>\n",
       "      <th>7</th>\n",
       "      <td>132</td>\n",
       "      <td>245</td>\n",
       "      <td>0</td>\n",
       "      <td>23</td>\n",
       "      <td>65</td>\n",
       "      <td>140</td>\n",
       "      <td>0</td>\n",
       "    </tr>\n",
       "    <tr>\n",
       "      <th>8</th>\n",
       "      <td>120</td>\n",
       "      <td>289</td>\n",
       "      <td>0</td>\n",
       "      <td>25</td>\n",
       "      <td>62</td>\n",
       "      <td>125</td>\n",
       "      <td>0</td>\n",
       "    </tr>\n",
       "    <tr>\n",
       "      <th>9</th>\n",
       "      <td>143</td>\n",
       "      <td>299</td>\n",
       "      <td>0</td>\n",
       "      <td>30</td>\n",
       "      <td>66</td>\n",
       "      <td>136</td>\n",
       "      <td>1</td>\n",
       "    </tr>\n",
       "  </tbody>\n",
       "</table>\n",
       "</div>"
      ],
      "text/plain": [
       "   bwt  gestation  parity  age  height  weight  smoke\n",
       "0  120        284       0   27      62     100      0\n",
       "1  113        282       0   33      64     135      0\n",
       "2  128        279       0   28      64     115      1\n",
       "3  123        999       0   36      69     190      0\n",
       "4  108        282       0   23      67     125      1\n",
       "5  136        286       0   25      62      93      0\n",
       "6  138        244       0   33      62     178      0\n",
       "7  132        245       0   23      65     140      0\n",
       "8  120        289       0   25      62     125      0\n",
       "9  143        299       0   30      66     136      1"
      ]
     },
     "execution_count": 276,
     "metadata": {},
     "output_type": "execute_result"
    }
   ],
   "source": [
    "df = pd.read_csv(\"https://www.stat.berkeley.edu/~statlabs/data/babies.data\", delim_whitespace=True)\n",
    "df.head(10)"
   ]
  },
  {
   "cell_type": "markdown",
   "metadata": {},
   "source": [
    "**Part A**: Create a clean data set that removes subjects if any observations on the subject are unknown.  Note that that collectors of the data set used values like $9$, $99$, $999$, to denote unknown values.  You can look at the documentation linked in the problem description to determine which unknown-value marker was used for each characteristics.  Store the modified data set in a Pandas DataFrame called dfBabies. "
   ]
  },
  {
   "cell_type": "code",
   "execution_count": 277,
   "metadata": {
    "collapsed": true
   },
   "outputs": [
    {
     "name": "stdout",
     "output_type": "stream",
     "text": [
      "Original:  1236\n",
      "Clean:  1175\n"
     ]
    }
   ],
   "source": [
    "condition1 = df[\"bwt\"] != 999\n",
    "condition2 = df[\"gestation\"] != 999\n",
    "condition3 = df[\"parity\"] != 9\n",
    "condition4 = df[\"age\"] >= 0\n",
    "condition5 = df[\"height\"] != 99\n",
    "condition6 = df[\"weight\"] != 999\n",
    "condition7 = df[\"smoke\"] != 9\n",
    "dfBabies = df.loc[condition1&condition2&condition3&condition4&condition5&condition6&condition7].copy()\n",
    "\n",
    "print(\"Original: \", len(df))\n",
    "print(\"Clean: \", len(dfBabies))"
   ]
  },
  {
   "cell_type": "markdown",
   "metadata": {},
   "source": [
    "**Part B**: Use the information in dfBabies to create a density histogram of the birth weights of babies whose mothers have never smoked (smoke=0) and another histogram placed directly below the first in the same graphics device for the birth weights of babies whose mothers currently smoke (smoke=1).  Make the range of the horizontal axis $30$ to $180$ (ounces) for both histograms.  Make sure to give each subplot titles and label axes. "
   ]
  },
  {
   "cell_type": "code",
   "execution_count": 278,
   "metadata": {
    "collapsed": true
   },
   "outputs": [
    {
     "data": {
      "image/png": "[encoded data removed]",
      "text/plain": [
       "<Figure size 576x864 with 2 Axes>"
      ]
     },
     "metadata": {},
     "output_type": "display_data"
    }
   ],
   "source": [
    "fig, axes = plt.subplots(nrows=2, ncols=1, figsize=(8,12))\n",
    "dfBabies.loc[dfBabies['smoke']==0].hist(column = 'weight', bins=np.arange(27.5, 252.5, 4), ax = axes[0], edgecolor = \"white\")\n",
    "axes[0].set_title(\"Weight Distribution: Non-smoking Mothers\", fontsize=20)\n",
    "axes[0].set_xlabel(\"Birth Weight (ounces)\", fontsize=16)\n",
    "axes[0].set_ylabel(\"Frequency\", fontsize=16)\n",
    "dfBabies.loc[dfBabies['smoke']==1].hist(column = 'weight', bins=np.arange(27.5, 252.5, 4), ax = axes[1], facecolor = \"green\", edgecolor = \"white\")\n",
    "axes[1].set_title(\"Weight Distribution: Smoking Mothers\", fontsize=20)\n",
    "axes[1].set_xlabel(\"Birth Weight (ounces)\", fontsize=16)\n",
    "axes[1].set_ylabel(\"Frequency\", fontsize=16)\n",
    "\n",
    "axes[0].set_xlim([30,180])\n",
    "axes[1].set_xlim([30,180])\n",
    "\n",
    "axes[0].grid(alpha=0.25)\n",
    "axes[0].set_axisbelow(True)\n",
    "\n",
    "axes[1].grid(alpha=0.25)\n",
    "axes[1].set_axisbelow(True)\n",
    "\n",
    "fig.subplots_adjust(hspace=.5)"
   ]
  },
  {
   "cell_type": "markdown",
   "metadata": {},
   "source": [
    "**Part C**: Based on the histograms in **Part B**, characterize the distribution of baby birth weights for both non-smoking and smoking mothers."
   ]
  },
  {
   "cell_type": "markdown",
   "metadata": {},
   "source": [
    "**Non-Smoking Mothers:**\n",
    "\n",
    "Unimodal and symmetric/slightly positively skewed\n",
    "\n",
    "**Smoking Mothers:**\n",
    "\n",
    "possibly multimodal(modes around 110, 130, and 150 ounces) and positively skewed"
   ]
  },
  {
   "cell_type": "markdown",
   "metadata": {},
   "source": [
    "**Part D**: What are the mean and median weight difference between babies of smokers and non-smokers?  Can you think of any reason not to use the mean as a measure of center to compare birth weights for this problem? "
   ]
  },
  {
   "cell_type": "code",
   "execution_count": 279,
   "metadata": {
    "collapsed": true
   },
   "outputs": [
    {
     "name": "stdout",
     "output_type": "stream",
     "text": [
      "Smoker?\tMean (oz)\tMedian (oz)\n",
      "Yes\t126.94\t\t125.00\n",
      "No\t129.48\t\t126.00\n",
      "\n",
      "Mean Difference: 2.54\n",
      "Median Difference: 1.00\n"
     ]
    }
   ],
   "source": [
    "nonSmMean = dfBabies.loc[dfBabies['smoke']==0]['weight'].mean()\n",
    "smMean = dfBabies.loc[dfBabies['smoke']==1]['weight'].mean()\n",
    "nonSmMed = dfBabies.loc[dfBabies['smoke']==0]['weight'].median()\n",
    "smMed = dfBabies.loc[dfBabies['smoke']==1]['weight'].median()\n",
    "\n",
    "print(\"Smoker?\\tMean (oz)\\tMedian (oz)\\nYes\\t\"+'%.2f'%smMean+'\\t\\t'+'%.2f'%smMed+'\\nNo\\t'+'%.2f'%nonSmMean+'\\t\\t'+'%.2f'%nonSmMed)\n",
    "print()\n",
    "print(\"Mean Difference: \"+'%.2f'%(nonSmMean-smMean))\n",
    "print(\"Median Difference: \"+'%.2f'%(nonSmMed-smMed))"
   ]
  },
  {
   "cell_type": "markdown",
   "metadata": {},
   "source": [
    "Since the histogram of birth weights for the smoking mothers is not symmetric and multimodal the mean is the average of multiple populations not at the actual value of the mean, so it doesn't directly represent the most common birth weights.  "
   ]
  },
  {
   "cell_type": "markdown",
   "metadata": {},
   "source": [
    "**Part E**: Create side-by-side box-and-whisker plots to compare the birth weights of babies whose mothers never smoked and those who currently smoke.  Use the box-and-whisker plot conventions discussed in lecture, and be sure to label your axes and any relevant components of the plot!"
   ]
  },
  {
   "cell_type": "code",
   "execution_count": 307,
   "metadata": {
    "collapsed": true
   },
   "outputs": [
    {
     "data": {
      "image/png": "[encoded data removed]",
      "text/plain": [
       "<Figure size 720x864 with 2 Axes>"
      ]
     },
     "metadata": {},
     "output_type": "display_data"
    }
   ],
   "source": [
    "fig, axes = plt.subplots(nrows=1, ncols=2, figsize=(10,12))\n",
    "dfBabies.loc[dfBabies['smoke']==0].boxplot(column = 'weight', ax = axes[0])\n",
    "dfBabies.loc[dfBabies['smoke']==1].boxplot(column = 'weight', ax = axes[1])\n",
    "\n",
    "axes[0].set_title(\"Birth Weight Distribution\", fontsize=14)\n",
    "axes[1].set_title(\"Birth Weight Distribution\", fontsize=14)\n",
    "\n",
    "axes[0].set_ylim([80,260])\n",
    "axes[1].set_ylim([80,260])\n",
    "\n",
    "axes[0].set_xlabel(\"Non-smoking Mothers\", fontsize=14)\n",
    "axes[1].set_xlabel(\"Smoking Mothers\", fontsize=14)\n",
    "\n",
    "axes[0].set_ylabel(\"Weight (ounces)\", fontsize=14)\n",
    "axes[1].set_ylabel(\"Weight (ounces)\", fontsize=14)\n",
    "\n",
    "fig.subplots_adjust(hspace=.5);\n"
   ]
  },
  {
   "cell_type": "markdown",
   "metadata": {},
   "source": [
    "**Part F**: Using the box-and-whisker plots from **Part E** comment on the distributions of body weights of babies within each smoking / non-smoking groups as well as the comparison of the two classes. "
   ]
  },
  {
   "cell_type": "markdown",
   "metadata": {},
   "source": [
    "**Non-Smoking Mothers:**\n",
    "\n",
    "The median bisects the IQR pretty evenly, however it is slightly lower than halfway in-between, so the number with smaller birth weights is slightly larger than those with birthweights above the median. The outliers above the upper bound whisker have a pretty large range. \n",
    "\n",
    "**Smoking Mothers:**\n",
    "\n",
    "The median bisects the IQR almost in the middle, so the weights are distributed pretty evenly on either side of the median. The outliers above the upper bound whisker are mostly clustered near the whisker. \n",
    "\n",
    "**Smoking vs. Non-Smoking Mothers:**\n",
    "\n",
    "Overall, the plots are pretty similar.The medians are close, but this is because the IQR for the non-smoking mothers is slightly higher than the IQR for smoking mothers while the median of the non-smoking mothers is skewed slightly negative, so the two differences sort of cancel out such that the medians for the two classes are roughly the same. The spread and number of outliers above the upper whisker are greater for the non-smoking mothers than for the smoking mothers."
   ]
  },
  {
   "cell_type": "markdown",
   "metadata": {},
   "source": [
    "***\n",
    "<a/ id='p2'></a>\n",
    "[Back to top](#top)\n",
    "\n",
    "### [20 points] Problem 2\n",
    "\n",
    "To play a game, you have a bag containing 28 fair [four-sided dice](https://en.wikipedia.org/wiki/Four-sided_die), with faces `{1,2,3,4}`.  This bag also contains 10 fair six-sided dice (faces `{1,2,3,4,5,6}`) and 2 fair twenty-sided dice (faces `{1,2,3,4,...,19,20}`).  Call these 3 classes of die \"Four\", \"Six\" and \"Twenty\" (or F, S, and T, for short).  You grab one die at random from the box.  \n",
    "\n",
    "Work the following problems by hand unless otherwise stated (but don't be afraid to simulate to check your result!). "
   ]
  },
  {
   "cell_type": "markdown",
   "metadata": {},
   "source": [
    "**Part A**: You roll your die one time.  What is the probability of the event $R_5$, that you roll a 5?  Include at least 4 decimal places in your answer."
   ]
  },
  {
   "cell_type": "markdown",
   "metadata": {},
   "source": [
    "\n",
    "$ p(R_5) = p(R_5|F)p(F) + p(R_5|S)p(S) + p(R_5|T)p(T)$\n",
    "\n",
    "$p(R_5|F) = 0 \\hspace{1 cm} p(F) = \\frac {28}{40}$\n",
    "\n",
    "$p(R_5|S) = \\frac16 \\hspace{1 cm} p(S) = \\frac {10}{40}$\n",
    "\n",
    "$p(R_5|T) = \\frac1{20} \\hspace{1 cm} p(T) = \\frac {2}{40}$\n",
    "\n",
    "Substituting in the values above:\n",
    "\n",
    "$ p(R_5) = 0.0442$\n"
   ]
  },
  {
   "cell_type": "markdown",
   "metadata": {},
   "source": [
    "**Part B**: Suppose you roll a 5.  What is the probability that the die you chose from the box is a Six-sided die? "
   ]
  },
  {
   "cell_type": "markdown",
   "metadata": {},
   "source": [
    "$$p(S|R_5) = \\frac{p(S \\cap R_5)}{p(R_5)}$$\n",
    "\n",
    "$$p(S \\cap R_5) = p(R_5|S)p(S)$$\n",
    "\n",
    "$$p(S|R_5) = \\frac{p(R_5|S)p(S)}{p(R_5)}$$\n",
    "$$p(S|R_5) = \\frac{(\\frac16)(\\frac14)}{0.0442}$$\n",
    "\n",
    "$$p(S|R_5) = 0.943$$"
   ]
  },
  {
   "cell_type": "markdown",
   "metadata": {},
   "source": [
    "**Part C:**  Are the events $R_5$ and $S$ independent?  Justify your answer **using math**."
   ]
  },
  {
   "cell_type": "markdown",
   "metadata": {},
   "source": [
    "If $R_5$ and $S$ are independent then:\n",
    "\n",
    "$$p(S|R_5) = p(S)$$\n",
    "\n",
    "However, from the calculations above, we know:\n",
    "\n",
    "$$p(S|R_5)= 0.943 \\neq 0.25 = p(S)$$\n",
    "\n",
    "So the two events are **not independent**"
   ]
  },
  {
   "cell_type": "markdown",
   "metadata": {},
   "source": [
    "**Part D:**  Suppose you roll your die $n$ times and record each outcome.  Obviously, if you roll 5 or 6 you know you did *not* pick a Four-sided die, and if you roll a 7 or higher, you must have picked a Twenty-sided die.\n",
    "\n",
    "But, if you roll $n$ times in a row and get only 1, 2, 3 or 4, you would have a stronger belief that you in fact grabbed one of the Four-sided dice.  Let $E_n$ be the event that you roll $n$ rolls of 1, 2, 3 or 4 in a row.  For example, one outcome in $E_3$ is the sequence 2, 3, 1.\n",
    "\n",
    "Given that you roll a single value of 1, 2, 3 or 4, what is the probability that you have grabbed a Four-sided die?  That is, calculate **by hand** $P(F \\mid E_1)$."
   ]
  },
  {
   "cell_type": "markdown",
   "metadata": {},
   "source": [
    "$$p(F|E_1) = \\frac{p(F \\cap E_1)}{p(E_1)} = \\frac{p(E_1|F)p(F)}{p(E_1)}$$\n",
    "\n",
    "$$p(E_1) = p(E_1|F)p(F) + p(E_1|S)p(S) + p(E_1|T)p(T)$$\n",
    "\n",
    "$$p(E_1) = (1)(\\frac{28}{40}) + (\\frac46)(\\frac{10}{40}) + (\\frac4{20})(\\frac2{40}) = 0.8767$$\n",
    "\n",
    "$$p(F|E_1) = \\frac{(1)(\\frac{28}{40})}{0.8767} $$\n",
    "\n",
    "$$p(F|E_1) =0.7985$$"
   ]
  },
  {
   "cell_type": "markdown",
   "metadata": {},
   "source": [
    "**Part E**:  \n",
    "\n",
    "First, work out **by hand** a formula for the probability in general that you are rolling a Four-sided die, given that you have rolled $n$ values in a row that are 1, 2, 3 or 4 (that is, $E_n$).  So you want a formula for $P(F \\mid E_n)$ in terms of $n$.\n",
    "\n",
    "Then, define a function `prob_four` to calculate $P(F \\mid E_n)$.  This function should only take one positive integer argument, $n$.\n",
    "\n",
    "Verify that your function is performing as expected by checking your answer to **Part C**."
   ]
  },
  {
   "cell_type": "markdown",
   "metadata": {},
   "source": [
    "$$p(F|E_n) = \\frac{p(F \\cap E_n)}{p(E_n)} = \\frac{p(E_n|F)p(F)}{p(E_n)}$$\n",
    "\n",
    "$$ p(E_n) = p(E_1|F)^np(F) + p(E_1|S)^np(S) + p(E_1|T)^np(T)$$\n",
    "\n",
    "$$p(E_n|F) = 1$$\n",
    "\n",
    "$$p(F|E_n) = \\frac{\\frac{28}{40}}{(1)^n(\\frac{28}{40}) + (\\frac46)^n(\\frac{10}{40}) + (\\frac4{20})^n(\\frac2{40})}$$\n",
    "\n",
    "$$p(F|E_n) = \\frac{28}{28 + (\\frac23)^n(10) + (\\frac15)^n(2)}$$\n"
   ]
  },
  {
   "cell_type": "code",
   "execution_count": 281,
   "metadata": {},
   "outputs": [
    {
     "name": "stdout",
     "output_type": "stream",
     "text": [
      "Answer to Part C:  0.7985\n"
     ]
    }
   ],
   "source": [
    "def prob_four(n):\n",
    "    return 28/(28+10*(2/3)**n+2*(1/5)**n)\n",
    "\n",
    "print(\"Answer to Part C: \", '%.4f'%prob_four(1))"
   ]
  },
  {
   "cell_type": "markdown",
   "metadata": {},
   "source": [
    "Part C Answer (by hand): 0.7985\n",
    "\n",
    "Part C Answer (by prob_four): 0.7985"
   ]
  },
  {
   "cell_type": "markdown",
   "metadata": {},
   "source": [
    "**Part F:**  What is the smallest value of $n$ successive rolls of 1, 2, 3 or 4 that would make you believe that there's a better-than-95% chance that the die you grabbed is Four-sided?  Plugging larger and larger values for $n$ into your `prob_four` function is a very reasonable way to check this."
   ]
  },
  {
   "cell_type": "code",
   "execution_count": 282,
   "metadata": {
    "collapsed": true
   },
   "outputs": [
    {
     "name": "stdout",
     "output_type": "stream",
     "text": [
      "The minimum number of successive rolls is 6\n"
     ]
    }
   ],
   "source": [
    "n = 1\n",
    "prob = 0\n",
    "while prob <= 0.95:\n",
    "    prob = prob_four(n)\n",
    "    n += 1\n",
    "print(\"The minimum number of successive rolls is\", n)"
   ]
  },
  {
   "cell_type": "markdown",
   "metadata": {},
   "source": [
    "***\n",
    "<a/ id='p3'></a>\n",
    "[Back to top](#top)\n",
    "\n",
    "### [30 points] Problem 3\n",
    "\n",
    "When Chris and Dan leave work in the CU Engineering Center ($E$), they each head for one of five other locations: the Gym to get big ($G$), the Library to get learned ($L$), the Boulder Reservoir to have a nice swim ($R$), the Hill to have a sandwich ($H$), or to Brewing Market to have a nice Coffee ($C$).  \n",
    "\n",
    "Here are some rules governing their movements throughout the fair city of Boulder:\n",
    "* When Chris and/or Dan is leaving one location, they randomly select one of the available adjacent locations, with equal probability.\n",
    "* This includes back-tracking, but note that to return to their original location would require 2 moves.\n",
    "* Assume that all moves require the same amount of time.\n",
    "* They are also not allowed to stay put; they always must move to some *other* adjacent location.\n",
    "* Chris and Dan, being the think-for-yourselfers that they are, also act **independently** of one another. That is, the probability that Chris goes from one place to another is independent of the probability of Dan's movements.\n",
    "\n",
    "<img src=\"http://www.cs.colorado.edu/~tonyewong/home/resources/chris_and_dan_statespace.png\" style=\"width: 300px;\"/>"
   ]
  },
  {
   "cell_type": "markdown",
   "metadata": {},
   "source": [
    "**Part A**: Compute (by hand) the probability that Dan ends up at the the Library ($L$) after first visiting one other location, after he is initially at the Engineering Center ($E$). "
   ]
  },
  {
   "cell_type": "markdown",
   "metadata": {},
   "source": [
    "$$p(L) = p(L|R)p(R) + p(L|G)p(G) + p(L|L)p(L) + p(L|C)p(C)$$\n",
    "\n",
    "$$p(L) = 0 + (\\frac14)(\\frac14) + 0 + (\\frac13)(\\frac14)$$\n",
    "\n",
    "$$p(L) = 0.1458$$"
   ]
  },
  {
   "cell_type": "markdown",
   "metadata": {},
   "source": [
    "**Part B**: Compute (by hand) the probability that Chris ends up at the Gym _either_ as his first _or_ second location visited after leaving the Reservsoir. (Again, assume that Chris wanders the streets of Boulder randomly using the same rules described above.)"
   ]
  },
  {
   "cell_type": "markdown",
   "metadata": {},
   "source": [
    "$G_1 = $ gym as first location\n",
    "\n",
    "$G_2 = $ gym as second location\n",
    "\n",
    "$p(G) = p(G_1) + p(G_2)$\n",
    "\n",
    "$p(G_1) = \\frac12$\n",
    "\n",
    "$p(G_2) = p(G|E)p(E) = \\frac14*\\frac12 = \\frac18$\n",
    "\n",
    "$p(G) = \\frac58 = 0.625$"
   ]
  },
  {
   "cell_type": "markdown",
   "metadata": {},
   "source": [
    "**Part C**: Suppose that Chris works late at the Engineering Center, while Dan goes to the Hill.  Later, they both leave and wander around, randomly and independently of one another, as described above. \n",
    "1. What is the probability that they run into each other in the same location on the first location visited?  \n",
    "2. Given their two initial locations, what is the probability that they meet at the Hill after 2 moves?"
   ]
  },
  {
   "cell_type": "markdown",
   "metadata": {},
   "source": [
    "**1.**\n",
    "\n",
    "$R_1$ = running into each other on first move\n",
    "\n",
    "$X_Y$ = Y person goes to place X\n",
    "\n",
    "$p(R_1) = p(G_D)p(G_C) + p(L_D)p(L_C) + p(C_D)p(C_C)$\n",
    "\n",
    "$p(R_1) = (\\frac13*\\frac14) + (\\frac13*\\frac14) + (\\frac13*\\frac14)$\n",
    "\n",
    "$p(R_1) = \\frac3{12}=0.25$\n",
    "\n",
    "**2.**\n",
    "\n",
    "$X_{Yn}$ = Y person goes to place X on the $n^{th}$ move\n",
    "\n",
    "$p($both go to the hill on move 2$) = p(H_{C2})*p(H_{D2})$\n",
    "\n",
    "$p(H_{C2}) = p(H_{C2}|C_{C1})p(C_{C1}) + p(H_{C2}|L_{C1})p(L_{C1})+p(H_{C2}|G_{C1})p(G_{C1}) + p(H_{C2}|R_{C1})p(R_{C1})$\n",
    "\n",
    "$p(H_{C2}) = (\\frac13*\\frac14) + (\\frac14*\\frac14)+(\\frac14*\\frac14) + 0$\n",
    "\n",
    "$p(H_{C2}) = \\frac5{24}$\n",
    "\n",
    "$p(H_{D2}) = p(H_{D2}|C_{D1})p(C_{D1}) + p(H_{D2}|L_{D1})p(L_{D1})+p(H_{D2}|G_{D1})p(G_{D1})$\n",
    "\n",
    "$p(H_{D2}) = (\\frac13*\\frac13) + (\\frac14*\\frac13)+(\\frac14*\\frac13)$\n",
    "\n",
    "$p(H_{D2}) = \\frac{15}{54}$\n",
    "\n",
    "$p($both go to the hill on move 2$) = \\frac5{24}*\\frac{15}{54}$\n",
    "\n",
    "$p($both go to the hill on move 2$) = 0.0579$"
   ]
  },
  {
   "cell_type": "markdown",
   "metadata": {},
   "source": [
    "**Part D**: Write a simulation to confirm that your by-hand calculations in **Part A**, **Part B**, and **Part C** (both parts of C) are correct. Make sure you run your simulations for enough trials that your estimates are reasonably close to your analytic results. In addition to showing your code, you should explain in Markdown (not just in code comments) what your code is doing and why it is a reasonable approximation of the probabilities in **Part A**, **Part B**, and **Part C**.  "
   ]
  },
  {
   "cell_type": "code",
   "execution_count": 306,
   "metadata": {
    "collapsed": true
   },
   "outputs": [
    {
     "name": "stdout",
     "output_type": "stream",
     "text": [
      "Part A Simulation:  0.1418\n",
      "Part B Simulation:  0.6218\n",
      "Part C, Part 1 Simulation:  0.2478\n",
      "Part C, Part 2 Simulation:  0.0625\n"
     ]
    }
   ],
   "source": [
    "#locations and their respective possible moves\n",
    "movesFromH = {'place' : np.array([\"C\",\"L\",\"G\"]), 'probs' : np.full(3, 1/3)}\n",
    "movesFromC = {'place' : np.array([\"H\",\"L\",\"E\"]), 'probs' : np.full(3, 1/3)}\n",
    "movesFromL = {'place' : np.array([\"H\",\"C\",\"E\", \"G\"]), 'probs' : np.full(4, 1/4)}\n",
    "movesFromG = {'place' : np.array([\"H\",\"L\",\"E\", \"R\"]), 'probs' : np.full(4, 1/4)}\n",
    "movesFromE = {'place' : np.array([\"C\",\"L\",\"G\", \"R\"]), 'probs' : np.full(4, 1/4)}\n",
    "movesFromR = {'place' : np.array([\"E\",\"G\"]), 'probs' : np.full(2, 1/2)}\n",
    "#mapping the location key to their movesFromX from above\n",
    "keys = [\"H\",\"C\",\"L\",\"G\", \"E\", \"R\"]\n",
    "values = [movesFromH, movesFromC, movesFromL, movesFromG, movesFromE, movesFromR]\n",
    "allMoves= dict(zip(keys, values))\n",
    "\n",
    "def nextMove(X): #given starting place, return random adjacent location\n",
    "    return np.random.choice(allMoves[X]['place'], p = allMoves[X]['probs'])\n",
    "\n",
    "def multiMove(X,n): #will keep moving along map for the number of specified steps, n, starting at location X, returns final position\n",
    "    if n == 1:\n",
    "        return nextMove(X) \n",
    "    return multiMove(nextMove(X), n-1)\n",
    "\n",
    "num_samples = 10000\n",
    "\n",
    "#Part A\n",
    "start = 'E'\n",
    "end = 'L'\n",
    "steps = 2\n",
    "\n",
    "allSecMoves = np.array([multiMove(start,steps) for ii in range(num_samples)])\n",
    "\n",
    "endAtL = allSecMoves == end\n",
    "\n",
    "partA = sum(endAtL)/num_samples\n",
    "print(\"Part A Simulation: \", '%.4f'%partA)\n",
    "\n",
    "#Part B\n",
    "start = 'R'\n",
    "end = 'G'\n",
    "\n",
    "firstLoc = np.array([multiMove(start,1) for ii in range(num_samples)])\n",
    "secLoc = np.array([multiMove(start,2) for ii in range(num_samples)])\n",
    "\n",
    "endAtG1 = firstLoc == end\n",
    "endAtG2 = secLoc == end\n",
    "\n",
    "partB = sum(endAtG1)/num_samples + sum(endAtG2)/num_samples\n",
    "\n",
    "print(\"Part B Simulation: \", '%.4f'%partB)\n",
    "\n",
    "#Part C\n",
    "#Part 1\n",
    "\n",
    "start1 = 'E'\n",
    "start2 = 'H'\n",
    "\n",
    "meetAtFirst = np.array([multiMove(start1,1)==multiMove(start2,1) for ii in range(num_samples)])\n",
    "\n",
    "partC1 = sum(meetAtFirst)/num_samples\n",
    "\n",
    "#Part 2\n",
    "\n",
    "meetAtHillSec = np.array([((multiMove(start1,2)=='H')and(multiMove(start2,2)=='H')) for ii in range(num_samples)])\n",
    "\n",
    "partC2= sum(meetAtHillSec)/num_samples\n",
    "\n",
    "print(\"Part C, Part 1 Simulation: \", '%.4f'%partC1)\n",
    "\n",
    "print(\"Part C, Part 2 Simulation: \", '%.4f'%partC2)"
   ]
  },
  {
   "cell_type": "markdown",
   "metadata": {},
   "source": [
    "The nextMove function uses sets of possible moves from each location and their associated probabilities and randomly chooses the next location based on the starting point passed into the function. \n",
    "\n",
    "The recursive function multiMove returns the final position after n steps by recursively calling the function passing the nextMove position and decrementing n by 1 each call. \n",
    "\n",
    "For part A, the code calls multiMove, starting at the given position and moving 2 steps. The final position for each trial is stored in an array and compared to the target final position. From the final position comparisons the probability is computed. \n",
    "\n",
    "For part B, multiMove is called twice with the same starting point but two different step sizes, 1 and 2. The final positions are stored in separate arrays for each step size and then compared to the target final position as above to find the simulated probability of ending at the target location using either step size. \n",
    "\n",
    "For partC1, multiMove is called twice with a different starting location but same step size each time. The results are compared to each other to determine if the final locations are the same. The array storing the results is used to calculate the simulated probability of ending at the same location starting at the different locations.\n",
    "\n",
    "For part C2, multiMove is called twice with a different starting location but same step size each time. The results are compared to the target final location and the result of the comparisons is stored in an array. If both end at the target location, then a 1 is stored, otherwise a 0 (as with any bool). This array of results is used to calculate the simulated probability of both people ending at 'H' after two steps.\n",
    "\n",
    "All of the simulations are run 10,000 times each, so the final outcomes for each part should be a good approximation of the actual probability. "
   ]
  },
  {
   "cell_type": "markdown",
   "metadata": {},
   "source": [
    "***\n",
    "<a/ id='p4'></a>\n",
    "[Back to top](#top)\n",
    "\n",
    "### [30 points] Problem 4\n",
    "\n",
    "\n",
    "In this problem you will write some code to simulate the game of **Miniopoly** (a very rough approximation of [Monopoly](https://en.wikipedia.org/wiki/Monopoly_(game)).  The game consists of a round board with 40 \"squares\" numbered from $0$ to $40$, where squares $0$ and $40$ are [coincident](https://en.wikipedia.org/wiki/Coincident) and called **GO**.  A player starts on **GO** with \\$200 in their pocket.  On each turn the player rolls a pair of dice and then moves a number of spaces equal to the sum of the dice.  Landing on different squares have different results: \n",
    "\n",
    "- Squares 2, 7, 17, 22, 33, and 36 cause you to draw a card.  The cards tell you to collect \\$50, \\$100 or \\$200, or pay the bank \\$50 or \\$100.  There is always an equal probability associated with each of these possible cards.\n",
    "\n",
    "<p> </p>\n",
    "\n",
    "- Squares 0, 10, and 20 do not trigger any action \n",
    "\n",
    "<p> </p>\n",
    "\n",
    "- Square 30 is **Go To Jail**, which sends the player directly to **Jail** and ends the turn \n",
    "\n",
    "<p> </p>\n",
    "\n",
    "- If a player starts a turn from **Jail** she rolls two dice: \n",
    "\n",
    "    - If the player rolls doubles (i.e. the dice have equal values) the player moves from Square 10 a number of squares equal to the sum of the dice\n",
    "    \n",
    "    - If the player rolls anything other than doubles she pays the bank \\$20 and remains in **Jail** \n",
    "    \n",
    "<p> </p>\n",
    "\n",
    "- If the player passes or lands on **GO** she collects \\$200. \n",
    "\n",
    "<p> </p>\n",
    "\n",
    "- If the player lands on any other square not mentioned above, she pays the bank an amount equal to the square's number (e.g. if she lands on Square 29 she pays the bank \\$29). \n",
    "\n",
    "<p> </p>\n",
    "\n",
    "If at any point the player has \\$0 or less they go bankrupt and the game ends. \n",
    "\n",
    "<br>\n",
    "\n",
    "**Part A**: Complete the function miniopoly_turn below. The function should simulate one turn of Miniopoly.  It should take as arguments the player's current location on the board as well as the player's current cash reserves, and return the player's new location and cash reserves after the turn has completed. Note that if a player goes bankrupt during the game you should return their cash as 0 instead of a negative value.  "
   ]
  },
  {
   "cell_type": "code",
   "execution_count": 297,
   "metadata": {
    "collapsed": true,
    "scrolled": true
   },
   "outputs": [],
   "source": [
    "sixSided = {'roll' : np.array(range(1,7)), 'probs' : np.full(6, 1/6)}\n",
    "cards = {'card' : np.array([-100, -50, 50, 100, 200]), 'probs' : np.full(5, 1/5)}\n",
    "drawCard = [2,7,17,22,33,36]\n",
    "noAct = [0,10,20]\n",
    "def rollTwice(): #returns the sum of two rolls, and whether the rolls were the same #\n",
    "    roll1 = np.random.choice(sixSided['roll'], p=sixSided['probs'])\n",
    "    roll2 = np.random.choice(sixSided['roll'], p=sixSided['probs'])\n",
    "    return (roll1+roll2, roll1==roll2)\n",
    "\n",
    "def miniopoly_turn(state, cash):\n",
    "    rollResults = rollTwice()\n",
    "    if state == 30: #start in jail\n",
    "        if rollResults[1] == 1: #get out of jail\n",
    "            state = (10 + rollResults[0])\n",
    "        else: #stay in jail, lose $, do nothing\n",
    "            cash = cash -20\n",
    "            if cash<0:\n",
    "                cash = 0\n",
    "            return state, cash\n",
    "    else: #start not in jail!\n",
    "        state += rollResults[0] #move forward\n",
    "        if state >= 40: #if land on or pass Go\n",
    "            cash += 200 #get $\n",
    "            state = state%40 #modify state so it loops\n",
    "            \n",
    "    #after moving, check position and act accordingly\n",
    "    if state not in noAct:\n",
    "        if state in drawCard: #draw card if landing on appropriate square\n",
    "            cash += np.random.choice(cards['card'], p = cards['probs']) #randomly picks card and modifies cash\n",
    "        elif state == 30: #if land in jail\n",
    "            return state, cash #do nothing\n",
    "        else: #for all other positions, subtract position value from cash\n",
    "            cash -= state\n",
    "    if cash < 0: #if bankrupt at end, set cash = 0\n",
    "        cash = 0\n",
    "    return state, cash \n",
    "\n"
   ]
  },
  {
   "cell_type": "markdown",
   "metadata": {},
   "source": [
    "**Part B**: Use your function from **Part A** to Simulate at least 5000 30-turn games of Miniopoly and make a frequency histogram of the player's cash at the end of the game. Be sure to label your axes!"
   ]
  },
  {
   "cell_type": "code",
   "execution_count": 298,
   "metadata": {
    "collapsed": true
   },
   "outputs": [],
   "source": [
    "def simGame(numTurns):\n",
    "    cash = 200\n",
    "    state = 0\n",
    "    jail = False\n",
    "    while numTurns > 0 and cash !=0:\n",
    "        if state == 30:\n",
    "            jail = True\n",
    "        results = miniopoly_turn(state, cash)\n",
    "        state = results[0]\n",
    "        cash = results[1]\n",
    "        if state == 30:\n",
    "            jail = True\n",
    "        numTurns -= 1\n",
    "    return cash, jail\n",
    "numSims = 5000\n",
    "allSims = np.array([simGame(30)[0] for i in range(numSims)])\n",
    "simWentToJail = np.array([simGame(30)[1] for i in range(numSims)])        "
   ]
  },
  {
   "cell_type": "code",
   "execution_count": 305,
   "metadata": {},
   "outputs": [
    {
     "data": {
      "image/png": "[encoded data removed]",
      "text/plain": [
       "<Figure size 432x288 with 1 Axes>"
      ]
     },
     "metadata": {},
     "output_type": "display_data"
    }
   ],
   "source": [
    "my_bins = np.arange(-0.5, 2500.5, 50)\n",
    "plt.hist(allSims, bins = my_bins)\n",
    "plt.title('Simulations of 5000 30-Turn Miniopoly', fontsize=18);\n",
    "plt.ylabel('Frequency of Cash Value',fontsize=14 )\n",
    "plt.xlabel('Final Player Cash (fake $)',fontsize=14 );\n"
   ]
  },
  {
   "cell_type": "markdown",
   "metadata": {},
   "source": [
    "**Part C**: Use your codes to estimate the probability that a player goes bankrupt in the first 30 turns of the game. "
   ]
  },
  {
   "cell_type": "code",
   "execution_count": 303,
   "metadata": {
    "collapsed": true
   },
   "outputs": [
    {
     "name": "stdout",
     "output_type": "stream",
     "text": [
      "Probability Going Bankrupt in <= 30 Turns:  0.1466\n"
     ]
    }
   ],
   "source": [
    "bankrupt = allSims == 0\n",
    "probBankrupt = sum(bankrupt)/numSims\n",
    "print(\"Probability Going Bankrupt in <= 30 Turns: \", '%.4f'%probBankrupt)"
   ]
  },
  {
   "cell_type": "markdown",
   "metadata": {},
   "source": [
    "**Part D**: Use your codes to estimate the probability that a player goes bankrupt in the first 30 turns _given_ that they went to **Jail** at least once.  Is a player more or less likely to go bankrupt if they've been to **Jail**?  "
   ]
  },
  {
   "cell_type": "code",
   "execution_count": 304,
   "metadata": {
    "collapsed": true
   },
   "outputs": [
    {
     "name": "stdout",
     "output_type": "stream",
     "text": [
      "Prob. of Bankruptcy Given Jail:  0.1440\n"
     ]
    }
   ],
   "source": [
    "numWentToJail = sum(simWentToJail)\n",
    "jailAndBankrupt = simWentToJail.copy()\n",
    "\n",
    "nojailAndBankrupt = simWentToJail.copy()\n",
    "condition1 = simWentToJail == 1\n",
    "condition2 = bankrupt == 1\n",
    "for i in range(numSims):\n",
    "    x = 0\n",
    "    if simWentToJail[i] == 1 and bankrupt[i] == 1:\n",
    "        x=1\n",
    "    jailAndBankrupt[i] = x\n",
    "\n",
    "\n",
    "\n",
    "numJailAndBankrupt = sum(jailAndBankrupt)\n",
    "\n",
    "probBgivenJ = numJailAndBankrupt/numWentToJail\n",
    "\n",
    "print(\"Prob. of Bankruptcy Given Jail: \", '%.4f'%probBgivenJ)"
   ]
  },
  {
   "cell_type": "markdown",
   "metadata": {},
   "source": [
    "**Part E**: Use your code from **Part A** to estimate the probability (either directly or using Bayes' Rule) that a player has gone to jail at least once, given that the player went bankrupt in the first 30 turns."
   ]
  },
  {
   "cell_type": "markdown",
   "metadata": {},
   "source": [
    "$$p(J|B) = \\frac{p(B|J)p(J)}{p(B)}$$\n",
    "\n",
    "so still need to find $p(J)$"
   ]
  },
  {
   "cell_type": "code",
   "execution_count": 302,
   "metadata": {
    "collapsed": true
   },
   "outputs": [
    {
     "name": "stdout",
     "output_type": "stream",
     "text": [
      "Prob. of Jail >= 1 time Given Bankruptcy:  0.5017\n"
     ]
    }
   ],
   "source": [
    "pJ = numWentToJail/numSims\n",
    "pJgivenB = (probBgivenJ*pJ)/probBankrupt\n",
    "print(\"Prob. of Jail >= 1 time Given Bankruptcy: \", '%.4f'%pJgivenB)"
   ]
  },
  {
   "cell_type": "code",
   "execution_count": null,
   "metadata": {},
   "outputs": [],
   "source": []
  }
 ],
 "metadata": {
  "kernelspec": {
   "display_name": "Python 3",
   "language": "python",
   "name": "python3"
  },
  "language_info": {
   "codemirror_mode": {
    "name": "ipython",
    "version": 3
   },
   "file_extension": ".py",
   "mimetype": "text/x-python",
   "name": "python",
   "nbconvert_exporter": "python",
   "pygments_lexer": "ipython3",
   "version": "3.6.5"
  }
 },
 "nbformat": 4,
 "nbformat_minor": 2
}
