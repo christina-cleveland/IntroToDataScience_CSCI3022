{
 "cells": [
  {
   "cell_type": "markdown",
   "metadata": {},
   "source": [
    "<a/ id='top'></a>\n",
    "# Homework 4: More Simulation and the Central Limit Theorem \n",
    "***\n",
    "\n",
    "**Name**:\n",
    "\n",
    "***\n",
    "\n",
    "This assignment is due on Moodle by **5 PM on Friday 29 June**. Your solutions to theoretical questions should be done in Markdown/MathJax directly below the associated question.  Your solutions to computational questions should include any specified Python code and results as well as written commentary on your conclusions.  Remember that you are encouraged to discuss the problems with your instructors and classmates, but **you must write all code and solutions on your own**.\n",
    "\n",
    "**NOTES**: \n",
    "\n",
    "- Do **NOT** load or use any Python packages that are not available in Anaconda 3.6. \n",
    "- Some problems with code may be autograded.  If we provide a function API **do not** change it.  If we do not provide a function API then you're free to structure your code however you like. \n",
    "- Because you can technically evaluate notebook cells is a non-linear order, it's a good idea to do Cell $\\rightarrow$ Run All as a check before submitting your solutions.  That way if we need to run your code you will know that it will work as expected. \n",
    "- Submit only this Jupyter notebook to Moodle.  Do not compress it using tar, rar, zip, etc. \n",
    "- This should go without saying, but... For any question that asks you to calculate something, you **must show all work to receive credit**. Sparse or nonexistent work will receive sparse or nonexistent credit.\n",
    "\n",
    "---\n",
    "**Shortcuts:**  [Problem 1](#p1) | [Problem 2](#p2) | [Problem 3](#p3) | [Problem 4](#p4) | [Problem 5](#p5)\n",
    "\n",
    "---"
   ]
  },
  {
   "cell_type": "code",
   "execution_count": 14,
   "metadata": {
    "collapsed": true,
    "scrolled": true
   },
   "outputs": [],
   "source": [
    "import numpy as np\n",
    "import scipy.stats as stats\n",
    "import matplotlib.pyplot as plt\n",
    "import pandas as pd\n",
    "import math\n",
    "%matplotlib inline"
   ]
  },
  {
   "cell_type": "markdown",
   "metadata": {},
   "source": [
    "<br>\n",
    "\n",
    "---\n",
    "<a/ id='p1'></a>\n",
    "[Back to top](#top)\n",
    "### [35 points] Problem 1 - Monte Carlo Estimation of Definite Integrals\n",
    "\n",
    "One really cool application of random variables is using them to approximate integrals/area under a curve.  This method of approximating integrals is used frequently in computational science to approximate really difficult integrals that we never want to do by hand.  In this exercise you'll figure out how we can do this in practice and test your method on a relatively simple integral. "
   ]
  },
  {
   "cell_type": "markdown",
   "metadata": {},
   "source": [
    "<br>\n",
    "\n",
    "**Part A.**  Let $X$ be a random variable representing how delicious a pie you bake is, as measured by the **Deliciousness Index** (DI).  Suppose the probability density function for $X$ is described by the raised cosine probability density function that we examined in Homework 3:\n",
    "\n",
    "$$\n",
    "f(x) = \\begin{cases}\n",
    "         \\dfrac{1}{\\pi}\\left(\\cos{(x)} + 1\\right) & 0 \\leq x \\leq \\pi \\\\\n",
    "         0                           & \\text{otherwise}\n",
    "         \\end{cases}\n",
    "$$\n",
    "\n",
    "A Deliciousness Index of $\\pi$ is the most delicious pie you can ever hope to create, and a DI of $0$ is the most disgusting pie you have ever tasted.  \n",
    "\n",
    "Compute **by hand**, the integral of $f(x)$ for $0 \\leq x \\leq \\dfrac{\\pi}{2}$.  Write a sentence or two to interpret your result physically, in the context of this problem set-up."
   ]
  },
  {
   "cell_type": "markdown",
   "metadata": {},
   "source": [
    "**Solution: Part A**\n",
    "\n",
    "$$\\frac1{\\pi}\\int_0^{\\frac{\\pi}{2}}(\\cos x + 1) dx$$\n",
    "\n",
    "$$ \\frac1{\\pi}\\big((\\sin x + x) \\big\\rvert_0^{\\frac{\\pi}{2}}\\big) = \\frac1{\\pi}(1-0 +\\frac{\\pi}{2} - 0) = \\frac{2+\\pi}{2\\pi} \\approx 0.82 $$\n",
    "\n",
    "\n",
    "\n",
    "So the probability that any pie you bake has $0 \\leq DI \\leq \\frac{\\pi}2$ is roughly 0.82, so most pies you make are bad.\n"
   ]
  },
  {
   "cell_type": "markdown",
   "metadata": {},
   "source": [
    "<br>\n",
    "\n",
    "**Part B.** Suppose we sample a random variable $X$ from $U(0,\\frac{\\pi}{2})$ and another random variable $Y$ from $U(0,1)$ and think of them as $x$- and $y$-coordinates of a point in the box $[0,\\frac{\\pi}{2}] \\times [0,1]$.  If we compute the ratio of points that fall under the curve $f(x)$ to the total points sampled, what does this value estimate? "
   ]
  },
  {
   "cell_type": "markdown",
   "metadata": {},
   "source": [
    "**Solution: Part B** \n",
    "\n",
    "This value estimates the fraction of the area in the region sampled that falls under the curve f(x).  From this value you can estimate the integral over the range by multiplying this fraction by the total area sampled from. "
   ]
  },
  {
   "cell_type": "code",
   "execution_count": 62,
   "metadata": {},
   "outputs": [
    {
     "name": "stdout",
     "output_type": "stream",
     "text": [
      "Probability any random coordinates picked in [0,pi/2]x[0,1] fall under f(x): 0.52\n"
     ]
    }
   ],
   "source": [
    "def randCoords(ub):\n",
    "    X = np.random.uniform(0,ub)\n",
    "    Y = np.random.uniform(0,1)\n",
    "    return X,Y\n",
    "def raised_cosine(x):\n",
    "    return (np.cos(x)+1)/np.pi\n",
    "\n",
    "def testInfx(results):\n",
    "    if results[1] < raised_cosine(results[0]):\n",
    "        return 1\n",
    "    return 0\n",
    "\n",
    "num_samples = 50000\n",
    "results = [testInfx(randCoords(math.pi/2)) for x in range(num_samples)]\n",
    "probInfx = (sum(results)/num_samples)\n",
    "integral = probInfx*math.pi/2\n",
    "print(\"Probability any random coordinates picked in [0,pi/2]x[0,1] fall under f(x): %.2f\"%probInfx)"
   ]
  },
  {
   "cell_type": "markdown",
   "metadata": {},
   "source": [
    "<br>\n",
    "\n",
    "**Part C.** How could we modify the process outlined in **Part B** so that our estimator estimates the value of the desired integral?  If you need inspiration, check out the in-class notebook on Stochastic Simulation (#4), specifically, the exercise where we estimated $\\pi$."
   ]
  },
  {
   "cell_type": "markdown",
   "metadata": {},
   "source": [
    "**Solution: Part C**\n",
    "\n",
    "As mentioned in part B, the integral over the given range can be estimated by taking the fraction of the sampled area that falls under the curve and multiplying that fraction by the total area sampled from. "
   ]
  },
  {
   "cell_type": "markdown",
   "metadata": {},
   "source": [
    "<br>\n",
    "\n",
    "**Part D.** Write a function `integrate` to compute an approximation to the definition integral $\\int_0^{\\text{ub}} f(x)dx$.  Your function should take as arguments:\n",
    "1. `num_samples` -- the number of points to sample,\n",
    "2. `ub` -- a number between $0$ and $\\pi$ that is the upper bound of the integral, and\n",
    "3. `isPlot` -- a Boolean flag for whether or not to display a plot of the results.\n",
    "\n",
    "Your function should return an approximation of the definite integral by sampling $X$ from $U(0,\\text{ub})$ and $Y$ from $U(0,1)$. For each random draw $(X,Y)$, define the random variable $Z$ that represents whether or not the sampled $Y$ value is less than $f(X)$ for the corresponding $X$ value.\n",
    "\n",
    "Your function should perform three tasks: \n",
    "\n",
    "1. return the estimate of the value of the integral,\n",
    "2. return the sample variance of the random variable $Z$ being simulated, using the np.var function, and\n",
    "3. if `isPlot` is True, plot the curve $f(x)$ as well as the location of the points $(X,Y)$, colored according to whether they fall above or below the curve. \n",
    "\n",
    "Run your simulation with `isPlot=True` and `ub=`$\\frac{\\pi}{2}$ for 1,000 samples so we can see your plot. Then, run your simulation (with `isPlot=False`) with at least 10,000 samples and estimate the value of the given integral.  Does your estimate agree with the exact value of the integral you computed in **Part A**? "
   ]
  },
  {
   "cell_type": "code",
   "execution_count": 74,
   "metadata": {
    "collapsed": true
   },
   "outputs": [
    {
     "data": {
      "image/png": "[encoded data removed]",
      "text/plain": [
       "<Figure size 576x576 with 1 Axes>"
      ]
     },
     "metadata": {},
     "output_type": "display_data"
    }
   ],
   "source": [
    "# And the declaration for free!\n",
    "def integrate(num_samples=1000, ub=math.pi, isPlot=False):\n",
    "    allCoords = pd.Series([randCoords(ub) for x in range(num_samples)])\n",
    "    results = pd.Series([testInfx(coord) for coord in allCoords])\n",
    "    variance = np.var(results)\n",
    "    approxIntegral = (sum(results)/num_samples)*ub\n",
    "    if isPlot:\n",
    "        belowCurve = allCoords * results\n",
    "        belowX = []\n",
    "        belowY = []\n",
    "        inverseResults = results == 0\n",
    "        aboveCurve = allCoords * inverseResults\n",
    "        aboveX = []\n",
    "        aboveY = []\n",
    "        for i in range(num_samples):\n",
    "            if len(belowCurve[i])>0:\n",
    "                belowX.append(belowCurve[i][0])\n",
    "                belowY.append(belowCurve[i][1])\n",
    "            if len(aboveCurve[i])>0:\n",
    "                aboveX.append(aboveCurve[i][0])\n",
    "                aboveY.append(aboveCurve[i][1])\n",
    "        xValues = np.linspace(0,ub,num_samples)\n",
    "        fxValues = [raised_cosine(x) for x in xValues]\n",
    "        \n",
    "        plt.figure(figsize=(8,8))\n",
    "        plt.plot(aboveX, aboveY, 'gs',markersize=2)\n",
    "        plt.plot(belowX, belowY, 'bs',markersize=2)\n",
    "        plt.plot(xValues, fxValues, 'rs', markersize=3)\n",
    "        plt.legend(('Values Above Raised Cosine', 'Values Below Raised Cosine', 'Raised Cosine'),loc=1)\n",
    "        plt.ylabel('Probability Density')\n",
    "        plt.xlabel('Deliciousness Index')\n",
    "        plt.title('Raised Cosine PDF')\n",
    "        plt.show();\n",
    "        \n",
    "    return approxIntegral, variance\n",
    "    \n",
    "integrate(1000, math.pi/2, True);\n",
    "    # your code goes here!\n",
    "    "
   ]
  },
  {
   "cell_type": "code",
   "execution_count": 138,
   "metadata": {},
   "outputs": [
    {
     "name": "stdout",
     "output_type": "stream",
     "text": [
      "Integral Estimate [0,pi/2]:  0.82\n",
      "Integral Estimate Variance: 0.25\n"
     ]
    }
   ],
   "source": [
    "estimate = integrate(50000, math.pi/2, False)\n",
    "\n",
    "print(\"Integral Estimate [0,pi/2]: \", '%.2f'%estimate[0])\n",
    "print(\"Integral Estimate Variance: %.2f\"%estimate[1])"
   ]
  },
  {
   "cell_type": "markdown",
   "metadata": {},
   "source": [
    "The estimated integral of 0.82 matches our computed value of 0.82 from part A."
   ]
  },
  {
   "cell_type": "markdown",
   "metadata": {},
   "source": [
    "<br>\n",
    "\n",
    "**Part E.** In the simulation above, what is distribution of the random variable $Z$ that we're actually sampling? What is/are the parameters of this distribution?  "
   ]
  },
  {
   "cell_type": "markdown",
   "metadata": {},
   "source": [
    "**Solution: Part E**\n",
    "\n",
    "For any set of random coordinates, Z will be 1 with probability $ p = (\\int_0^{ub}f(x)dx )/ A$ \n",
    "\n",
    "where $ub = $ the upper bound \n",
    "\n",
    "and $A = $ the total area $= width*height = ub* 1$\n",
    "\n",
    "Z will be 0 ow. \n",
    "\n",
    "So each determination of Z is a Bernoulli trial with $ p = (\\int_0^{ub}f(x)dx )/ A$, which is the fractional area in the total area sampled that is underneath the pmf. The entire simulation is n, where n is 1000, Bernoulli trials, so the distribution of average Z's is a binomial distribution with n = the number of trials (each with 1000 samplings) and p is the same as above. So in the example simulations below n = 1500\n",
    "\n"
   ]
  },
  {
   "cell_type": "code",
   "execution_count": 73,
   "metadata": {},
   "outputs": [
    {
     "data": {
      "image/png": "[encoded data removed]",
      "text/plain": [
       "<Figure size 432x288 with 1 Axes>"
      ]
     },
     "metadata": {},
     "output_type": "display_data"
    }
   ],
   "source": [
    "num_sims = 1500\n",
    "simulateZ = pd.Series([integrate(ub=np.pi/2)[0] for x in range(num_sims)])\n",
    "plt.hist(simulateZ, bins = np.arange(0.735, 0.935, 0.005));\n",
    "plt.xlabel(\"Simulated Integral\")\n",
    "plt.ylabel(\"Frequency\")\n",
    "plt.title(\"n = 1500 Integral Estimations\");"
   ]
  },
  {
   "cell_type": "markdown",
   "metadata": {},
   "source": [
    "<br>\n",
    "\n",
    "**Part F.**  Compute the expected value of the random variable you described in **Part E** by hand.  Does this value agree with the exact value of the integral you computed in **Part A** and the estimated value you simulated in **Part D**? "
   ]
  },
  {
   "cell_type": "markdown",
   "metadata": {},
   "source": [
    "Z = 1 with probability, p, given by:\n",
    "\n",
    "$$p = \\frac{\\int_0^{ub}f(x)dx }A$$\n",
    "\n",
    "Where ub and A are defined as in part E.\n",
    "\n",
    "Z = 0 with probability 1-p\n",
    "\n",
    "So the expectation is:\n",
    "\n",
    "$$E[Z] = \\sum_i a_i * p(a_i) = 1*p + 0*(1-p)$$\n",
    "\n",
    "$$E[Z] = p = \\frac{\\int_0^{ub}f(x)dx }A $$\n",
    "\n",
    "From Part A, $ A = 1*\\frac{\\pi}2$, $ub = \\frac{\\pi}2$, and thus $\\int_0^{ub}f(x)dx = 0.82$\n",
    "\n",
    "$$E[Z] \\approx 0.52 $$\n",
    "\n",
    "This fractional area matches what was calculated in part B, and the exact integral matches the one in part a and estimated integral in part d."
   ]
  },
  {
   "cell_type": "markdown",
   "metadata": {},
   "source": [
    "<br>\n",
    "\n",
    "**Part G.** Compute the variance of the random variable you described in **Part E** by hand.  Does this value agree with the sample variance observed in your simulation for **Part D**? "
   ]
  },
  {
   "cell_type": "markdown",
   "metadata": {},
   "source": [
    "$$Var(Z) = p(1-p)$$\n",
    "\n",
    "$$Var(Z) = 0.52*0.48 \\approx 0.25$$\n",
    "\n",
    "\n",
    "0.25 fits with the value from part D which was also 0.25"
   ]
  },
  {
   "cell_type": "markdown",
   "metadata": {},
   "source": [
    "<br>\n",
    "\n",
    "---\n",
    "<a/ id='p2'></a>\n",
    "[Back to top](#top)\n",
    "### [30 points] Problem 2 - Mmmm... Donuts...\n",
    "\n",
    "<img src=\"http://astrokentico.s3.amazonaws.com/rojakdaily/media/1nichoras/homer%20simpson%20krispy%20kreme/main.jpg?ext=.jpg\" style=\"width:300px;\"/>\n",
    "\n",
    "You bring many donuts (or _doughnuts_, if you will) to work to share with your coworkers at the Boulder Nuclear Power Planet. But due to the high levels of radiation there, they must be inspected for safety. In particular, if the mean level of radiation in a sample from your batch of donuts is above [200 mSv (millisievert)](#rad), then they are deemed unsafe and you must throw the whole batch away.\n",
    "\n",
    "You know that historically donuts at the power plant have, on average, 190 mSv of radiation, with a standard deviation of 40 mSv. To test the donut radiation levels, you take the donut receipt and pick every fifth donut off it, and sample the radiation levels of those donuts. You end up sampling the radiation levels of 36 donuts out of the batch."
   ]
  },
  {
   "cell_type": "markdown",
   "metadata": {},
   "source": [
    "<br>\n",
    "\n",
    "**Part A.** What type of sample did you collect?  What is the sample frame? What is the ***minimum*** number of donuts you could have bought, in total?"
   ]
  },
  {
   "cell_type": "markdown",
   "metadata": {},
   "source": [
    "**Solution: Part A**\n",
    "\n",
    "The sample type is systematic.\n",
    "\n",
    "The sample frame is the receipt. \n",
    "\n",
    "The minimum number of donuts $ = 36*5 = 180$"
   ]
  },
  {
   "cell_type": "markdown",
   "metadata": {},
   "source": [
    "<br>\n",
    "\n",
    "**Part B.** What is the probability that a donut batch is deemed unsafe?  You should at the very least set up and justify your calculation by hand (in Markdown/Mathjax), before executing any calculations in Python."
   ]
  },
  {
   "cell_type": "markdown",
   "metadata": {},
   "source": [
    "**Solution: Part B**\n",
    "\n",
    "let $\\bar X$ be average radiation level of a donut batch\n",
    "\n",
    "$$\\bar X \\sim\\ N(190, \\frac{40^2}{36})$$\n",
    "\n",
    "$$P(\\bar X>200) = 1 - P(\\bar X \\leq 200)$$\n",
    "\n",
    "Normalizing the distribution:\n",
    "\n",
    "$$P(\\bar X \\leq 200) = P\\bigg(Z \\leq \\frac{\\bar X - \\mu}{\\sigma \\big/ \\sqrt n}\\bigg)= P\\bigg(Z \\leq \\frac{ 200 - 190}{40 \\big/ \\sqrt {36}}\\bigg) = 1.5$$\n",
    "\n",
    "$$1 - P(\\bar X \\leq 200) = 1 - \\Phi(1.5)$$"
   ]
  },
  {
   "cell_type": "code",
   "execution_count": 123,
   "metadata": {},
   "outputs": [
    {
     "name": "stdout",
     "output_type": "stream",
     "text": [
      "The probability that a batch is deemed unsafe is: 0.07\n"
     ]
    }
   ],
   "source": [
    "#Calculations for Part B\n",
    "prob = 1 - stats.norm.cdf(1.5)\n",
    "\n",
    "print(\"The probability that a batch is deemed unsafe is: %.2f\"%prob )"
   ]
  },
  {
   "cell_type": "markdown",
   "metadata": {},
   "source": [
    "<br>\n",
    "\n",
    "**Part C.** You really do not want to throw away donuts that frequently, so you propose to store the donuts in a lead-lined donut box. But lead also is not very good for your health, so you are motivated to use the least amount of lead possible. What is the minimum mean amount of radiation $\\mu$ for our donuts to have such that the probability that we will throw donuts out due to safety concerns is at most 0.001?\n",
    "\n",
    "Calculate this **by hand**, using Python only to perform arithmetic operations and compute critical values of a standard normal random variable."
   ]
  },
  {
   "cell_type": "markdown",
   "metadata": {},
   "source": [
    "**Solution: Part C**\n",
    "\n",
    "for some value y, want to find: \n",
    "$$ 1 - \\Phi(y) = 0.001$$\n",
    "from y we can find the minimum mean, $\\mu$: \n",
    "$$y = \\frac{\\bar X - \\mu}{\\frac{\\sigma}{\\sqrt n}}$$\n",
    "$$\\mu = \\bar X - y{\\frac{\\sigma}{\\sqrt n}}$$\n",
    "$$\\mu = 200 - 3.0902323{\\frac{40}{\\sqrt {36}}}$$\n",
    "$$\\mu \\approx 179.4$$"
   ]
  },
  {
   "cell_type": "code",
   "execution_count": 13,
   "metadata": {},
   "outputs": [
    {
     "name": "stdout",
     "output_type": "stream",
     "text": [
      "The minimum mean amount of radiation is: 179.40\n"
     ]
    }
   ],
   "source": [
    "#Calculations for Part C\n",
    "y = stats.norm.ppf(1-0.001)\n",
    "mu = 200 - y*40/6\n",
    "print(\"The minimum mean amount of radiation is: %.2f\"%mu)"
   ]
  },
  {
   "cell_type": "markdown",
   "metadata": {},
   "source": [
    "<br>\n",
    "\n",
    "**Part D.**  Your supervisor at the plant decides that serving up donuts in a lead-lined box is a bad idea. Fair enough.\n",
    "\n",
    "But he is still imposing the requirement that the probability of a batch of donuts being rejected must be less than 0.001. Suppose the mean and standard deviation are at their original values of $\\mu = 190$ mSv and $\\sigma = 40$ mSv. What is the minimum sample size to satisfy this requirement?\n",
    "\n",
    "Calculate this **by hand**, using Python only to perform arithmetic operations and compute critical values of a standard normal random variable."
   ]
  },
  {
   "cell_type": "markdown",
   "metadata": {},
   "source": [
    "\n",
    "**Solution: Part D**\n",
    "\n",
    "Using the same y value found above in part c and the given $\\sigma$ and $\\mu$, will solve for n:\n",
    "\n",
    "$$y = \\frac{\\bar X - \\mu}{\\frac{\\sigma}{\\sqrt n}}$$\n",
    "$${\\frac{\\sigma}{\\sqrt n}} = \\frac{\\bar X - \\mu}{y}$$\n",
    "$${n}= \\bigg(\\frac{y\\sigma}{\\bar X - \\mu}\\bigg)^2$$\n",
    "$${n}= \\bigg\\lceil \\bigg(\\frac{3.0902323*40}{200 - 190}\\bigg)^2 \\bigg\\rceil$$\n"
   ]
  },
  {
   "cell_type": "code",
   "execution_count": 142,
   "metadata": {},
   "outputs": [
    {
     "name": "stdout",
     "output_type": "stream",
     "text": [
      "The minimum sample size is: 153\n"
     ]
    }
   ],
   "source": [
    "#Calculations for Part D\n",
    "n = (y*40/10)**2\n",
    "print(\"The minimum sample size is: %.0f\"%n) "
   ]
  },
  {
   "cell_type": "markdown",
   "metadata": {},
   "source": [
    "<br>\n",
    "\n",
    "**Part E.** Can you think of any potential issues with using a normal distribution to model the radiation content of our donuts?"
   ]
  },
  {
   "cell_type": "markdown",
   "metadata": {},
   "source": [
    "**Solution: Part E**\n",
    "\n",
    "You can't have negative radiation and a normal distribution has finite mass at negative radiation values. It will also have non-zero probability of having the radiation level of a nuclear bomb, which could not occur. "
   ]
  },
  {
   "cell_type": "markdown",
   "metadata": {},
   "source": [
    "<br>\n",
    "\n",
    "---\n",
    "<a/ id='p3'></a>\n",
    "[Back to top](#top)\n",
    "### [35 points] Problem 3 - Not-so-Easy Peasy Plinko \n",
    "\n",
    "[Plinko](http://priceisright.wikia.com/wiki/Plinko), the shining jewel of the gameshow [Price is Right](https://en.wikipedia.org/wiki/The_Price_Is_Right), is a staple of American culture.  Luckily for us, it's also chalk-full of interesting ideas from probability and statistics. The game involves dropping a disc onto an inclined board of pegs and letting it bounce around until it lands in a bin with an associated cash value. Players get to drop some number of discs down the Plinko board and keep their winnings.\n",
    "\n",
    "In class we looked at a simplified version of Plinko:  \n",
    "\n",
    "![](http://www.cs.colorado.edu/~tonyewong/home/resources/plinko/plinko1.png)\n",
    "\n",
    "In real life, Plinko has boundaries, positioned symmetrically around the center $c$ at positions $\\ell$ and $r$ s.t. $|c-\\ell| = |c+r|$. The effect of the boundaries are that when the Plinko disc hits the boundary, it can only move back toward the center. In other words, if the disc hits the boundary at $\\ell$, it can only go right at that level. Likewise, if the disc hits the boundary at $r$, it can only go left at that level. \n",
    "\n",
    "For instance, the following board depicts a Plinko game with boundaries at $0.5$ (halfway between the centers of Buckets 0 and 1) and $5.5$ (halfway between Buckets 5 and 6)  The red pegs indicate boundary pegs on which the disc always moves toward the center. We assume you must always drop the disc directly above one of the pegs in the top row. \n",
    "\n",
    "![](http://www.cs.colorado.edu/~tonyewong/home/resources/plinko/plinko2.png)\n"
   ]
  },
  {
   "cell_type": "markdown",
   "metadata": {},
   "source": [
    "**Part A.** First, let's consider the case without boundaries. \n",
    "\n",
    "**[1]** Write a simulator of Plinko that models the disc moving through each of the 6 rows of pegs to its final destination in one of the 7 bins. Let $X$ be the random variable corresponding to the Bucket that the disc lands in. Run your simulation for at least 10,000 trials and plot a density histogram estimate of the PMF of $X$ when the probability of moving left when hitting a peg is equal to `p_right=0.5`. Note that in this set-up, you must always drop the disc above bin 3.\n",
    "\n",
    "Your code should take as arguments:\n",
    "* `n` -- number of Plinko trials\n",
    "* `p_right` -- the probability of bouncing right at any given peg\n",
    "\n",
    "Your code should return some kind of an array-like object that can be used to plot a histogram of the results of your `n` Plinko games.\n",
    "\n",
    "**[2]** Then, plot a density histogram of the results.  Run your simulation for at least 10,000 trials.  The bins should be centered above the corresponding bin numbers, and axes should be labeled appropriately."
   ]
  },
  {
   "cell_type": "code",
   "execution_count": 81,
   "metadata": {
    "collapsed": true
   },
   "outputs": [],
   "source": [
    "# Function declaration for free!\n",
    "def oneGame(start, p_right, num_rows):\n",
    "    binNum = start\n",
    "    i = 0\n",
    "    while i < num_rows:\n",
    "        i += 1\n",
    "        binNum += np.random.choice([1/2,-1/2], p = [p_right, 1-p_right])\n",
    "    return binNum\n",
    "def plinko(n=10000, p_right=0.5):\n",
    "    results = [oneGame(3,0.5, 6) for x in range(n)]\n",
    "    return results\n",
    "results = plinko()\n",
    "\n",
    "    # your code goes here!\n",
    "    "
   ]
  },
  {
   "cell_type": "code",
   "execution_count": 82,
   "metadata": {},
   "outputs": [
    {
     "data": {
      "image/png": "[encoded data removed]",
      "text/plain": [
       "<Figure size 432x288 with 1 Axes>"
      ]
     },
     "metadata": {},
     "output_type": "display_data"
    }
   ],
   "source": [
    "plt.hist(results, bins = np.arange(-1.5, 7.5),density = True, ec='white')\n",
    "plt.axis([-1,7,0,0.4])\n",
    "plt.ylabel('Estimated Probability')\n",
    "plt.xlabel('Final Bin Number')\n",
    "plt.title('Estimated Probability Mass for Each Bin in Standard Plinko Game', size = 11)\n",
    "plt.show()"
   ]
  },
  {
   "cell_type": "markdown",
   "metadata": {},
   "source": [
    "<br>\n",
    "\n",
    "**Part B.** Let $X$ be the random variable corresponding to the Bucket that the disc lands in for the situation in **Part A**.  Write down the **true** PMF for $X$. (**Hint**: It might be helpful to reflect back on the discussion from Lecture 11). "
   ]
  },
  {
   "cell_type": "markdown",
   "metadata": {},
   "source": [
    "$$X \\sim\\ Bin(n,p)$$\n",
    "\n",
    "So X's pmf is given by:\n",
    "\n",
    "$$Pr(X = k) = {n\\choose k} p^k (1-p)^{n-k}$$\n",
    "\n",
    "\n",
    "In this case $n = $ number of rows $ = 6$ and $p = 0.5$\n",
    "\n",
    "$$Pr(X = k) = {6\\choose k} 0.5^k 0.5^{6-k}$$\n",
    "\n",
    "$$Pr(X = k) = {6\\choose k} 0.5^6$$"
   ]
  },
  {
   "cell_type": "markdown",
   "metadata": {},
   "source": [
    "<br>\n",
    "\n",
    "**Part C.** \n",
    "\n",
    "**[1]** Now write a simulator for Plinko with boundaries, and an argument for the number of rows. Your code should be similar to your code from **Part A**, with the following arguments:\n",
    "* `n` -- number of Plinko trials\n",
    "* `p_right` -- the probability of bouncing right at any given peg\n",
    "* `left_bound` -- the left boundary\n",
    "* `right_bound` -- the right boundary\n",
    "* `initial` -- the initial bin that you drop the disc above\n",
    "* `n_rows` -- number the rows on the plinko board. The board must have number of pegs in the bottom row equal to `n_rows`.\n",
    "\n",
    "**[2]** As a sanity check, use a 1-row board with `p_right=0.75`, and no left/right boundaries.  Run 10,000 trials and plot a density histogram of the results. The bins should be centered above the corresponding bin numbers, and the axes should be labeled. Does your result match you expect should happen?"
   ]
  },
  {
   "cell_type": "code",
   "execution_count": 110,
   "metadata": {},
   "outputs": [
    {
     "data": {
      "image/png": "[encoded data removed]",
      "text/plain": [
       "<Figure size 432x288 with 1 Axes>"
      ]
     },
     "metadata": {},
     "output_type": "display_data"
    }
   ],
   "source": [
    "def oneGameWithBounds(n_rows, p_right, initial, left_bound=-1, right_bound=-1):\n",
    "    if left_bound == right_bound== -1:\n",
    "        if initial != n_rows/2:\n",
    "            print(\"invalid start position\")\n",
    "        else:\n",
    "            return oneGame(initial, p_right, n_rows)\n",
    "    binNum = initial\n",
    "    i = 0\n",
    "    while i < n_rows:\n",
    "        i += 1\n",
    "        if binNum == left_bound:\n",
    "            binNum += 0.5\n",
    "        if binNum == right_bound:\n",
    "            binNum -= 0.5\n",
    "        else:\n",
    "            binNum += np.random.choice([1/2,-1/2], p = [p_right, 1-p_right])\n",
    "    return binNum\n",
    "\n",
    "sanCheck = [oneGameWithBounds(1,0.75,0.5) for x in range(10000)]\n",
    "plt.hist(sanCheck, bins=np.arange(-0.5, 2, 1), ec = 'white', density = True)\n",
    "plt.title('1 row Plinko Board with Probability(Right) = 0.75')\n",
    "plt.xlabel('Final Bin')\n",
    "plt.xticks([0,1])\n",
    "plt.ylabel('Probability');"
   ]
  },
  {
   "cell_type": "markdown",
   "metadata": {},
   "source": [
    "The result in the histogram above matches what is expected since it is expected to go right 75% of the time and roughly 75% of the final bin values were 1."
   ]
  },
  {
   "cell_type": "markdown",
   "metadata": {},
   "source": [
    "<br>\n",
    "\n",
    "**Part D.**  Run 10,000 trials with left and right boundaries at 0.5 and 5.5, respectively, and a 6-row board. Drop the disc above Bin 3. Plot a density histogram of the results, simiarly to **Part C**."
   ]
  },
  {
   "cell_type": "code",
   "execution_count": 126,
   "metadata": {},
   "outputs": [
    {
     "data": {
      "image/png": "[encoded data removed]",
      "text/plain": [
       "<Figure size 432x288 with 1 Axes>"
      ]
     },
     "metadata": {},
     "output_type": "display_data"
    }
   ],
   "source": [
    "results = [oneGameWithBounds(6,0.5,3,0.5,5.5) for x in range(10000)]\n",
    "plt.hist(results, bins = np.arange(-0.5,7.5), ec = 'white', density = True);\n",
    "plt.title('6 row Plinko Board with Probability(Right) = 0.5')\n",
    "plt.xlabel('Final Bin')\n",
    "plt.xticks([0,1,2,3,4,5,6])\n",
    "plt.ylabel('Probability');"
   ]
  },
  {
   "cell_type": "markdown",
   "metadata": {},
   "source": [
    "<br>\n",
    "\n",
    "**Part E.**  Let $X$ be the random variable corresponding to the Bucket that the disc lands in for the situation in **Part C**.  Compare the approximate PMF for this board to the no-boundary board from **Part A/B**. Explain the mechanism that causes the differences between the two PMFs in words. Then, write down the **true** PMF for $X$."
   ]
  },
  {
   "cell_type": "markdown",
   "metadata": {},
   "source": [
    "**Solution: Part E**\n",
    "\n",
    "The main difference between the two approximate PMF's is that the one from part D has no mass at final bins = 0 or 6. All of that mass is added to the final bins = 1 or 5, respectively. This reallocation of the mass is due to the fact that for each disc that makes it to the point where they could go into bins 0/1 or 5/6 (so all left moves or all right moves), the last move is no longer up to chance but is predetermined.\n",
    "\n",
    "Let $Pr_b(X=k) =$ the pmf for the bounded version of the game in part D\n",
    "Let $Pr_u(X=k) =$ the pmf for the unbounded version of the game in parts A/B\n",
    "\n",
    "\n",
    "\n",
    " $$Pr_b(X=k) = \\begin{cases} \n",
    "      0 & k = 0 \\\\\n",
    "      Pr_u(X=0) + Pr_u(X=1) & k = 1 \\\\\n",
    "      Pr_u(X=k) & 2\\leq k\\leq 4 \\\\\n",
    "      Pr_u(X=5) + Pr_u(X=6) & k = 5 \\\\\n",
    "      0 & k = 6\n",
    "   \\end{cases}$$\n",
    "   "
   ]
  },
  {
   "cell_type": "markdown",
   "metadata": {},
   "source": [
    "<br>\n",
    "\n",
    "**Part F.** Suppose I challenge you to a _friendly_ game of Plinko on the board from **Parts D** and **E**.\n",
    "* If the disc lands in bins 1 or 5, I will pay you \\$1\n",
    "* If the disc lands in bin 3, I will pay you \\$3\n",
    "* If the disc lands in bins 2 or 4, I will pay you nothing\n",
    "* I will also charge you a flat fee for each disc that you play.\n",
    "\n",
    "How much should I charge you per disc so that we break even in the long run? "
   ]
  },
  {
   "cell_type": "code",
   "execution_count": 137,
   "metadata": {},
   "outputs": [
    {
     "name": "stdout",
     "output_type": "stream",
     "text": [
      "You should charge $1.14\n"
     ]
    }
   ],
   "source": [
    "num_sims = 10000\n",
    "results = pd.Series(results)\n",
    "\n",
    "sum1or5 = (results == 1).sum() + (results == 5).sum()\n",
    "prob1or5 = sum1or5/num_sims\n",
    "\n",
    "prob3 = (results==3).sum()/num_sims\n",
    "\n",
    "sum2or4 = (results==2).sum() + (results==4).sum()\n",
    "prob2or4 = sum2or4/num_sims\n",
    "\n",
    "avgLossPerTurn = prob1or5 + prob3*3\n",
    "print(\"You should charge $%.2f\"%avgLossPerTurn)"
   ]
  },
  {
   "cell_type": "markdown",
   "metadata": {},
   "source": [
    "<br>\n",
    "\n",
    "---\n",
    "### Challenge Fun Problem [0 points, but lots of street cred] - Real-Deal Plinko \n",
    "\n",
    "Implement a full-blown Plinko simulator based on the actual board from Price is Right, which allows you to choose where to place the disc at the top of the board.  \n",
    "\n",
    "![alt text](https://i.pinimg.com/736x/7d/4b/5b/7d4b5b9ba5cdeceea16433eaadeeaf13--mash-game-plinko-game.jpg)\n",
    "\n",
    "You can actually do this using mostly your code from **Problem 3** and some careful handling of the boundaries relative to where you drop the disc.  Investigate questions like \"What is the optimal position to drop the disc to maximize expected winnings?\" and \"What are the expected winnings if you play Plinko optimally?\"\n",
    "\n",
    "Once you're done with that, it's time to go full-on Meta-Plinko.  Suppose the boundaries of the Plinko board are in their true positions from the real game show, but the board can have an arbitrary number of rows.  Is there a minimum number of rows the board can have at which point the PMF for the distribution becomes approximately uniform?  If not, is there a Bucket, or set of Buckets, that always have a greater chance of claiming the disc? \n"
   ]
  },
  {
   "cell_type": "markdown",
   "metadata": {},
   "source": [
    "<br>\n",
    "\n",
    "---\n",
    "### Notes\n",
    "\n",
    "<a/ id='rad'></a> 200 mSv is somewhere below Chernobyl levels of exposure, but more radiation than you would want with regard to potentially increasing your risk of cancer. It's probably too high, but it is a nice round number! More information [here](https://www.theguardian.com/news/datablog/2011/mar/15/radiation-exposure-levels-guide).\n",
    "\n",
    "[Back to Problem 2](#p2)"
   ]
  },
  {
   "cell_type": "code",
   "execution_count": null,
   "metadata": {
    "collapsed": true
   },
   "outputs": [],
   "source": []
  }
 ],
 "metadata": {
  "kernelspec": {
   "display_name": "Python 3",
   "language": "python",
   "name": "python3"
  },
  "language_info": {
   "codemirror_mode": {
    "name": "ipython",
    "version": 3
   },
   "file_extension": ".py",
   "mimetype": "text/x-python",
   "name": "python",
   "nbconvert_exporter": "python",
   "pygments_lexer": "ipython3",
   "version": "3.6.5"
  }
 },
 "nbformat": 4,
 "nbformat_minor": 2
}
