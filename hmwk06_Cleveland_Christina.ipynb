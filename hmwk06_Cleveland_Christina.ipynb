{
 "cells": [
  {
   "cell_type": "markdown",
   "metadata": {},
   "source": [
    "<a id='top'></a>\n",
    "\n",
    "# Homework 6: Bootstrapping, Hypothesis Testing, P-Hacking, and Simple Linear Regression \n",
    "***\n",
    "\n",
    "**Name**: \n",
    "\n",
    "***\n",
    "\n",
    "This assignment is due on Moodle by **5 PM on Friday July 13**. Your solutions to theoretical questions should be done in Markdown/MathJax directly below the associated question.  Your solutions to computational questions should include any specified Python code and results as well as written commentary on your conclusions.  Remember that you are encouraged to discuss the problems with your instructors and classmates, but **you must write all code and solutions on your own**. \n",
    "\n",
    "**NOTES**: \n",
    "\n",
    "- Do **NOT** load or use any Python packages that are not available in Anaconda 3.6. \n",
    "- Some problems with code may be autograded.  If we provide a function API **do not** change it.  If we do not provide a function API then you're free to structure your code however you like. \n",
    "- Because you can technically evaluate notebook cells is a non-linear order, it's a good idea to do Cell $\\rightarrow$ Run All as a check before submitting your solutions.  That way if we need to run your code you will know that it will work as expected. \n",
    "- Submit only this Jupyter notebook to Moodle.  Do not compress it using tar, rar, zip, etc. \n",
    "- This should go without saying, but... For any question that asks you to calculate something, you **must show all work to receive credit**. Sparse or nonexistent work will receive sparse or nonexistent credit.\n",
    "\n",
    "---\n",
    "**Shortcuts:**  [Problem 1](#p1) | [Problem 2](#p2) | [Problem 3](#p3) | [Problem 4](#p4) | [Problem 5](#p5)\n",
    "\n",
    "---"
   ]
  },
  {
   "cell_type": "code",
   "execution_count": null,
   "metadata": {},
   "outputs": [],
   "source": []
  },
  {
   "cell_type": "code",
   "execution_count": 1,
   "metadata": {
    "collapsed": true,
    "scrolled": true
   },
   "outputs": [],
   "source": [
    "import numpy as np\n",
    "import matplotlib.pyplot as plt\n",
    "import pandas as pd\n",
    "from scipy import stats \n",
    "%matplotlib inline"
   ]
  },
  {
   "cell_type": "markdown",
   "metadata": {},
   "source": [
    "---\n",
    "[Back to top](#top)\n",
    "<a id='p1'></a>\n",
    "\n",
    "### [12 points] Problem 1 - Hypothesis Testing Whether your Co-worker is a Doofus\n",
    "\n",
    "You are working as a Data Scientist for an internet company. Your co-worker, Daley Jennanigans, is a lovable scamp! Unfortunately, Daley also makes a lot of mistakes throughout the day as the two of you team up to tackle some inference work regarding your company's customers. In each case, clearly explain why Daley's hypothesis testing setup or conclusion is incorrect."
   ]
  },
  {
   "cell_type": "markdown",
   "metadata": {},
   "source": [
    "**Part A**: Daley has some data on the characteristics of customers that visited the company's website over the previous month.  He wants to perform an analysis on the proportion of last month's website visitors that bought something.  Let $X$ be the random variable describing the number of website visitors who bought something in the previous month, and suppose that the population proportion of visitors who bought something is $p$. Daley is particularly interested to see if the data suggests that more than 10% of website visitors actually buy something.  He decides to perform the test with a null hypothesis of $H_0: \\hat{p} = 0.10$. "
   ]
  },
  {
   "cell_type": "markdown",
   "metadata": {},
   "source": [
    "**Solution: Part A**\n",
    "\n",
    "The null hypothesis here is making an assertion about ${\\hat p}$, which is an estimation of the actual proportion, p, based on the sample you have. The null and alternative hypotheses are statements about exact variables describing the population, not about variables describing the sample. ${\\hat p}$ will be compared to the hypothesized population p."
   ]
  },
  {
   "cell_type": "markdown",
   "metadata": {},
   "source": [
    "**Part B**: Daley decides instead to do his hypothesis test with a null hypothesis of $H_0: p < 0.10$.  "
   ]
  },
  {
   "cell_type": "markdown",
   "metadata": {},
   "source": [
    "**Solution: Part B**\n",
    "\n",
    "This is a one-sided test to check if p is greater than 0.10, so the null hypothesis should be the case where there is no difference between p and the value we are checking against, 0.10, i.e., p = 0.10. The null hypothesis he proposes here does not even include p = 0.10. p < 0.10 is a range of continuous values. We would be left without a fixed p used to describe the distribution of p values for our null hypothesis, which we would need to find the probability that our ${\\hat p}$ would occur if the null hypothesis were true. \n"
   ]
  },
  {
   "cell_type": "markdown",
   "metadata": {},
   "source": [
    "**Part C**: Finally on track with reasonable hypotheses of $H_0: p = 0.10$ and $H_1: p > 0.10$, Daley computes a normalized test-statistic of $z = -1.4$ for the sample proportion and concludes that since $z = -1.4 < 0.05$ there is sufficient statistical evidence at the $\\alpha = 0.05$ (95%) significance level that the proportion of customers who buy something is less than 10%."
   ]
  },
  {
   "cell_type": "markdown",
   "metadata": {},
   "source": [
    "**Solution: Part C**\n",
    "\n",
    "The z value just tells you how many standard deviations away from the mean of the distribution your test value is, it does not, without interpretation, directly tell you the proportion of the distribution that you would see at this or a more extreme (farther from 0) z value. The p-value at this z is roughly 0.08 which is greater than 0.05. Also, the hypothesis is a right-tailed test, so the rejection region is to the right of the mean, so sufficiently positive z dependent on $\\alpha$. For the hypothesis set-up as is, you would fail to reject the null with a test-statistic that is a negative z value. "
   ]
  },
  {
   "cell_type": "markdown",
   "metadata": {},
   "source": [
    "**Part D**: Daley is again conducting the hypothesis test of $H_0: p = 0.10$ and $H_1: p > 0.10$. He computes a p-value of $0.03$, and thus concludes that there is only a 3% probability that the null hypothesis is true. "
   ]
  },
  {
   "cell_type": "markdown",
   "metadata": {},
   "source": [
    "**Solution: Part D**\n",
    "\n",
    "The p-value reports the probability of seeing the test-statistic (or more extreme) if the null-hypothesis were true. So in this case, you would expect to see your sample proportion or larger with probability 0.03 if the null hypothesis were true. "
   ]
  },
  {
   "cell_type": "markdown",
   "metadata": {},
   "source": [
    "---\n",
    "[Back to top](#top)\n",
    "<a id='p2'></a>\n",
    "\n",
    "### [20 points] Problem 2 - Evaluating Pizza Delivery Performance \n",
    "\n",
    "The manager of a pizza chain with multiple locations likes to keep meticulous data on his pizza deliveries.  The data from more than 1200 deliveries in May 2014 is stored in [`pizza.csv`](https://piazza.com/class_profile/get_resource/jhaqogsdelf76h/jja0n7mvrrc671). "
   ]
  },
  {
   "cell_type": "code",
   "execution_count": 2,
   "metadata": {},
   "outputs": [
    {
     "data": {
      "text/html": [
       "<div>\n",
       "<style scoped>\n",
       "    .dataframe tbody tr th:only-of-type {\n",
       "        vertical-align: middle;\n",
       "    }\n",
       "\n",
       "    .dataframe tbody tr th {\n",
       "        vertical-align: top;\n",
       "    }\n",
       "\n",
       "    .dataframe thead th {\n",
       "        text-align: right;\n",
       "    }\n",
       "</style>\n",
       "<table border=\"1\" class=\"dataframe\">\n",
       "  <thead>\n",
       "    <tr style=\"text-align: right;\">\n",
       "      <th></th>\n",
       "      <th>day</th>\n",
       "      <th>date</th>\n",
       "      <th>time</th>\n",
       "      <th>operator</th>\n",
       "      <th>branch</th>\n",
       "      <th>driver</th>\n",
       "      <th>temperature</th>\n",
       "      <th>bill</th>\n",
       "      <th>pizzas</th>\n",
       "    </tr>\n",
       "  </thead>\n",
       "  <tbody>\n",
       "    <tr>\n",
       "      <th>0</th>\n",
       "      <td>Thursday</td>\n",
       "      <td>1-May-14</td>\n",
       "      <td>33.708636</td>\n",
       "      <td>Laura</td>\n",
       "      <td>East</td>\n",
       "      <td>Bruno</td>\n",
       "      <td>71.433084</td>\n",
       "      <td>58.4</td>\n",
       "      <td>4</td>\n",
       "    </tr>\n",
       "    <tr>\n",
       "      <th>1</th>\n",
       "      <td>Thursday</td>\n",
       "      <td>1-May-14</td>\n",
       "      <td>29.382070</td>\n",
       "      <td>Melissa</td>\n",
       "      <td>East</td>\n",
       "      <td>Salvatore</td>\n",
       "      <td>64.952920</td>\n",
       "      <td>26.4</td>\n",
       "      <td>3</td>\n",
       "    </tr>\n",
       "    <tr>\n",
       "      <th>2</th>\n",
       "      <td>Thursday</td>\n",
       "      <td>1-May-14</td>\n",
       "      <td>33.580664</td>\n",
       "      <td>Melissa</td>\n",
       "      <td>West</td>\n",
       "      <td>Salvatore</td>\n",
       "      <td>49.113452</td>\n",
       "      <td>58.1</td>\n",
       "      <td>3</td>\n",
       "    </tr>\n",
       "    <tr>\n",
       "      <th>3</th>\n",
       "      <td>Thursday</td>\n",
       "      <td>1-May-14</td>\n",
       "      <td>32.505369</td>\n",
       "      <td>Melissa</td>\n",
       "      <td>East</td>\n",
       "      <td>Salvatore</td>\n",
       "      <td>64.872559</td>\n",
       "      <td>35.2</td>\n",
       "      <td>3</td>\n",
       "    </tr>\n",
       "    <tr>\n",
       "      <th>4</th>\n",
       "      <td>Thursday</td>\n",
       "      <td>1-May-14</td>\n",
       "      <td>25.493613</td>\n",
       "      <td>Melissa</td>\n",
       "      <td>West</td>\n",
       "      <td>Salvatore</td>\n",
       "      <td>59.630052</td>\n",
       "      <td>38.4</td>\n",
       "      <td>2</td>\n",
       "    </tr>\n",
       "  </tbody>\n",
       "</table>\n",
       "</div>"
      ],
      "text/plain": [
       "        day      date       time operator branch     driver  temperature  \\\n",
       "0  Thursday  1-May-14  33.708636    Laura   East      Bruno    71.433084   \n",
       "1  Thursday  1-May-14  29.382070  Melissa   East  Salvatore    64.952920   \n",
       "2  Thursday  1-May-14  33.580664  Melissa   West  Salvatore    49.113452   \n",
       "3  Thursday  1-May-14  32.505369  Melissa   East  Salvatore    64.872559   \n",
       "4  Thursday  1-May-14  25.493613  Melissa   West  Salvatore    59.630052   \n",
       "\n",
       "   bill  pizzas  \n",
       "0  58.4       4  \n",
       "1  26.4       3  \n",
       "2  58.1       3  \n",
       "3  35.2       3  \n",
       "4  38.4       2  "
      ]
     },
     "execution_count": 2,
     "metadata": {},
     "output_type": "execute_result"
    }
   ],
   "source": [
    "dfP = pd.read_csv(\"https://piazza.com/class_profile/get_resource/jhaqogsdelf76h/jja0n7mvrrc671\")\n",
    "dfP.head()"
   ]
  },
  {
   "cell_type": "markdown",
   "metadata": {},
   "source": [
    "**Part A**: The manager's goal is to have an average delivery time across all branches of less than 30 minutes.  Perform an appropriate hypothesis test at the $\\alpha=0.05$ significance level to evaluate whether this goal has been achieved.  Be sure to clearly state your null and alternate hypotheses, describe your testing procedure, and show all calculations in Python. "
   ]
  },
  {
   "cell_type": "markdown",
   "metadata": {},
   "source": [
    "**Solution: Part A**\n",
    "\n",
    "let T = time taken for a pizza delivery\n",
    "\n",
    "$H_0: \\mu = 30 $ and $H_1: \\mu < 30$\n",
    "\n",
    "Will calculate the standardized test-statistic as follows:\n",
    "\n",
    "$ \\bar T = $ mean of the sample T values from the data frame above\n",
    "\n",
    "$\\sigma = $ standard deviation of the T values from the data frame above\n",
    "\n",
    "$ n = $ number of entries in the data frame\n",
    "\n",
    "From the central limit theorem:\n",
    "\n",
    "$$ \\bar T \\sim N\\big(\\mu, \\frac{\\sigma^2}n\\big) $$\n",
    "\n",
    "So the standardized test-statistic, z, is given by:\n",
    "\n",
    "$$ z = \\frac{\\bar T - \\mu}{\\sigma/\\sqrt n}$$\n",
    "\n",
    "This will be compared with $z_\\alpha$ (computed using a scipy function):\n",
    "\n",
    "If $z \\leq z_\\alpha$ then z is in the rejection range and the null hypothesis can be rejected in favor of the alternative hypothesis.\n"
   ]
  },
  {
   "cell_type": "code",
   "execution_count": 3,
   "metadata": {},
   "outputs": [
    {
     "name": "stdout",
     "output_type": "stream",
     "text": [
      "z_alpha is -1.64\n",
      "z is -3.17\n"
     ]
    }
   ],
   "source": [
    "mu = 30 #from null hypothesis\n",
    "\n",
    "times = dfP['time']\n",
    "Tbar = np.mean(times)\n",
    "sigma = np.std(times)\n",
    "n = len(times)\n",
    "\n",
    "z = (Tbar - mu )/(sigma/np.sqrt(n))\n",
    "\n",
    "zalpha = stats.norm.ppf(0.05)\n",
    "print(\"z_alpha is {:0.2f}\".format(zalpha))\n",
    "print(\"z is {:0.2f}\".format(z))\n"
   ]
  },
  {
   "cell_type": "markdown",
   "metadata": {},
   "source": [
    "So $z < z_\\alpha$, thus we reject $H_0$ in favor of $H_1$, in other words the manager already has an average delivery time across all branches of less than 30 minutes at the $\\alpha=0.05$ significance level."
   ]
  },
  {
   "cell_type": "markdown",
   "metadata": {},
   "source": [
    "**Part B**: The pizza shop has fallen on hard times and is considering closing a branch. The manager knows that the East branch is the lowest performing branch, followed by the West branch, as measured by the the mean number of pizzas per delivery."
   ]
  },
  {
   "cell_type": "code",
   "execution_count": 4,
   "metadata": {},
   "outputs": [
    {
     "name": "stdout",
     "output_type": "stream",
     "text": [
      "West   branch mean pizzas/delivery = 3.207\n",
      "Centre branch mean pizzas/delivery = 3.368\n",
      "East   branch mean pizzas/delivery = 2.429\n"
     ]
    }
   ],
   "source": [
    "for branch in set(dfP[\"branch\"]):\n",
    "    print(\"{:6s} branch mean pizzas/delivery = {:0.3f}\".format(branch, dfP.loc[dfP[\"branch\"]==branch, \"pizzas\"].mean()))"
   ]
  },
  {
   "cell_type": "markdown",
   "metadata": {},
   "source": [
    "Can the manager conclude that the East branch is performing statistically significantly lower than the other two branches? Can he conclude that the West branch performs significantly worse than the Centre branch? Conduct hypothesis tests to answer these questions. Both of those questions will help him decide whether or not to close the East branch. The stakes are higher when making the decision to close an entire branch of pizza restaurant, so the manager decides to use the $\\alpha=0.01$ significance level for these tests. Be sure to clearly describe your hypotheses and methodology, and show any relevant computations in Python. "
   ]
  },
  {
   "cell_type": "markdown",
   "metadata": {},
   "source": [
    "**Solution: Part B**\n",
    "\n",
    "let P = pizzas/delivery for the specific branch\n",
    "\n",
    "Need to perform two hypothesis tests, one comparing East to Centre and the other comparing East to West. Centre and West will be generalized below as the Other.\n",
    "\n",
    "$H_0: \\mu_{east} - \\mu_{other} = 0 $ and $H_1: \\mu_{east} - \\mu_{other} < 0$\n",
    "\n",
    "$\\mu_{other}$ and $\\mu_{east}$ values are calculated above\n",
    "\n",
    "Will calculate the standardized test-statistic as follows:\n",
    "\n",
    "$ \\bar P_{branch} = $ mean of the sample P values from the data frame above for the respective branch\n",
    "\n",
    "$\\sigma_{branch} = $ standard deviation of the P values from the data frame above for the respective branch\n",
    "\n",
    "$ n_{branch} = $ number of specific Branch entries in the data frame \n",
    "\n",
    "From the central limit theorem:\n",
    "\n",
    "$$ \\bar P_{east} - \\bar P_{other} \\sim N\\big(\\mu_{east}- \\mu_{other}, \\frac{\\sigma_{east}^2}{n_{east}}+\\frac{\\sigma_{other}^2}{n_{other}}\\big) $$\n",
    "\n",
    "So the standardized test-statistic, z, is given by:\n",
    "\n",
    "$$ z = \\frac{\\bar P_{east} - \\bar P_{other}-0}{\\sqrt{\\frac{\\sigma_{east}^2}{n_{east}}+\\frac{\\sigma_{other}^2}{n_{other}}}}$$\n",
    "\n",
    "This will be compared with $z_\\alpha$ (computed using a scipy function):\n",
    "\n",
    "If $z \\leq z_\\alpha$ then z is in the rejection range and the null hypothesis can be rejected in favor of the alternative hypothesis.\n"
   ]
  },
  {
   "cell_type": "code",
   "execution_count": 5,
   "metadata": {},
   "outputs": [
    {
     "name": "stdout",
     "output_type": "stream",
     "text": [
      "z_alpha is -2.33\n",
      "z_west is -8.31\n",
      "z_centre is -10.19\n"
     ]
    }
   ],
   "source": [
    "z_alpha = stats.norm.ppf(0.01) #used for both hypothesis tests since they have the same confidence level\n",
    "muEast = np.mean(dfP.loc[dfP['branch']=='East', 'pizzas']) #used for both tests\n",
    "sigmaEast = np.std(dfP.loc[dfP['branch']=='East', 'pizzas'])\n",
    "nEast = len(dfP.loc[dfP['branch']=='East', 'pizzas'])\n",
    "\n",
    "#calculations: East vs. West Branch\n",
    "\n",
    "muWest = np.mean(dfP.loc[dfP['branch']=='West', 'pizzas'])\n",
    "sigmaWest = np.std(dfP.loc[dfP['branch']=='West', 'pizzas'])\n",
    "nWest = len(dfP.loc[dfP['branch']=='West', 'pizzas'])\n",
    "\n",
    "z_west = (muEast - muWest )/np.sqrt((sigmaWest**2/(nWest))+sigmaEast**2/(nEast))\n",
    "\n",
    "#Calculations: East vs. Centre\n",
    "\n",
    "muCentre = np.mean(dfP.loc[dfP['branch']=='Centre', 'pizzas'])\n",
    "sigmaCentre = np.std(dfP.loc[dfP['branch']=='Centre', 'pizzas'])\n",
    "nCentre = len(dfP.loc[dfP['branch']=='Centre', 'pizzas'])\n",
    "\n",
    "z_centre = (muEast - muCentre )/np.sqrt((sigmaCentre**2/(nCentre))+sigmaEast**2/(nEast))\n",
    "\n",
    "print(\"z_alpha is {:0.2f}\".format(z_alpha))\n",
    "print(\"z_west is {:0.2f}\".format(z_west))\n",
    "print(\"z_centre is {:0.2f}\".format(z_centre))"
   ]
  },
  {
   "cell_type": "markdown",
   "metadata": {},
   "source": [
    "Since both $z_{other}$ standardized test statistics are well below the $z_\\alpha$ and thus within our rejection range, for both the West and Centre branches we can reject the null hypothesis that the east branch performs as well as the other branch in favor of the alternative hypothesis that the east branch performs worse than the other branch (worse when looking at mean pizzas per delivery only)."
   ]
  },
  {
   "cell_type": "markdown",
   "metadata": {},
   "source": [
    "**Part C**: It has been hypothesized that two of the manager's finest drivers, Mario and Luigi, deliver different numbers of pizzas per delivery. Conduct an appropriate hypothesis test at the $\\alpha = 0.05$ significance level to determine if there is any statistically significant difference between the mean number of pizzas per delivery for the two drivers."
   ]
  },
  {
   "cell_type": "markdown",
   "metadata": {},
   "source": [
    "**Solution: Part C**\n",
    "\n",
    "let $ P_{driver} = $pizzas/delivery for a driver\n",
    "\n",
    "$H_0: \\mu_{mario} -\\mu_{luigi} = 0 $ and $H_1: \\mu_{mario} - \\mu_{luigi} \\neq 0$\n",
    "\n",
    "A standardized test statistic will be calculated as before, except in this case, it is a two-tailed test so there will be two $z_\\alpha$ values, one for the edge of each rejection region (will call these $z_{upper}$ and $z_{lower}$). The probability density within each tail rejection region will sum to the given $\\alpha$\n",
    "\n",
    "$ \\bar P_{driver} = $ mean of the sample P values for the given driver\n",
    "\n",
    "$\\sigma_{driver} = $ standard deviation of of pizza/delivery for respective driver\n",
    "\n",
    "$ n_{driver} = $ number of pizza/delivery for respective driver entries in the data frame \n",
    "\n",
    "So the standardized test-statistic, z, is given by:\n",
    "\n",
    "$$ z = \\frac{\\bar P_{mario} - \\bar P_{luigi}-0}{\\sqrt{\\frac{\\sigma_{mario}^2}{n_{mario}}+\\frac{\\sigma_{luigi}^2}{n_{luigi}}}}$$\n",
    "\n",
    "This will be compared with $z_{upper}$ and $z_{lower}$ (computed using a scipy function):\n",
    "\n",
    "$z_{lower} = z_{\\alpha/2} = -z_{upper}$\n",
    "\n",
    "If $z \\leq z_{lower}$ or $z \\geq z_{upper}$ then z is in the rejection region and the null hypothesis can be rejected in favor of the alternative hypothesis."
   ]
  },
  {
   "cell_type": "code",
   "execution_count": 6,
   "metadata": {},
   "outputs": [
    {
     "name": "stdout",
     "output_type": "stream",
     "text": [
      "z_lower is -1.96\n",
      "z_upper is 1.96\n",
      "z is 1.68\n"
     ]
    }
   ],
   "source": [
    "z_lower = stats.norm.ppf(0.05/2)\n",
    "z_upper = - z_lower\n",
    "\n",
    "Pluigi = np.mean(dfP.loc[dfP['driver']=='Luigi', 'pizzas'])\n",
    "sigmaLuigi = np.std(dfP.loc[dfP['driver']=='Luigi', 'pizzas'])\n",
    "nLuigi = len(dfP.loc[dfP['driver']=='Luigi', 'pizzas'])\n",
    "Pmario = np.mean(dfP.loc[dfP['driver']=='Mario', 'pizzas'])\n",
    "sigmaMario = np.std(dfP.loc[dfP['driver']=='Mario', 'pizzas'])\n",
    "nMario = len(dfP.loc[dfP['driver']=='Mario', 'pizzas'])\n",
    "\n",
    "z = (Pmario - Pluigi )/np.sqrt(sigmaMario**2/nMario + sigmaLuigi**2/nLuigi)\n",
    "\n",
    "print(\"z_lower is {:0.2f}\".format(z_lower))\n",
    "print(\"z_upper is {:0.2f}\".format(z_upper))\n",
    "print(\"z is {:0.2f}\".format(z))\n",
    "\n"
   ]
  },
  {
   "cell_type": "markdown",
   "metadata": {},
   "source": [
    "At the $\\alpha = 0.05$ significance level, there is not a statistically significant difference between Mario and Luigi. According to the results above, since $z_{lower}< z < z_{upper}$, so z is not in either rejection region, thus the null hypothesis that they have the same pizzas/delivery cannot be rejected."
   ]
  },
  {
   "cell_type": "markdown",
   "metadata": {},
   "source": [
    "---\n",
    "[Back to top](#top)\n",
    "<a id='p3'></a>\n",
    "\n",
    "### [20 points] Problem 3 - Naps vs Coffee for Memory? \n",
    "\n",
    "It is estimated that [about 75% of adults](https://www.ncbi.nlm.nih.gov/pmc/articles/PMC4997286/) in the United States drink coffee. Often, coffee is used to replace the need for sleep. It works alright, or so I think. Let's find out, in this exciting homework problem!\n",
    "\n",
    "One recent study investigated the effects of drinking coffee, taking a nap, and having a [\"coffee-nap\"](https://lifehacker.com/naps-vs-coffee-which-is-better-when-youre-exhausted-1730643671) - the practice of drinking some coffee *and then* having a short nap. The study broke participants up into three groups of 10 participants each, where the groups would have a nap, or have a coffee, or have a coffee-nap, then perform a task where their reaction time was measured. In previous experiments the mean reaction time measurement was found to be normally distributed. The reaction time means (milliseconds, ms) and standard deviations for the three groups of participants are given in the table below.\n",
    "\n",
    "$$\n",
    "\\begin{array}{c|c|c|c}\n",
    "\\textrm{Group} & \\textrm{Sample Size} & \\textrm{Mean} & \\textrm{Standard Deviation} \\\\\n",
    "\\hline \n",
    "\\textrm{Coffee+Nap} & 10 & 451.3 & 31.9 \\\\ \n",
    "\\textrm{Coffee} & 10 & 494.2 & 39.6 \\\\ \n",
    "\\textrm{Nap} & 10 & 492.8 & 45.2 \\\\ \n",
    "\\end{array}\n",
    "$$\n",
    "\n",
    "**Part A**: Compute a 95% t-confidence interval for the mean reaction time measurement for participants in each of these three groups. (You should find three separate confidence intervals.) Do all computations in Python, and report the results.  Can you make any conclusions regarding whether coffee, naps or both (coffee-naps) are better for faster reaction times?"
   ]
  },
  {
   "cell_type": "markdown",
   "metadata": {},
   "source": [
    "**Solution: Part A**\n",
    "\n",
    "Each confidence interval will be computed as follows:\n",
    "\n",
    "$$CI = \\bar X \\pm t \\frac{s}{\\sqrt n}$$\n",
    "\n",
    "$\\bar X $ = the mean given above\n",
    "\n",
    "$ s = $ the corresponding standard deviation\n",
    "\n"
   ]
  },
  {
   "cell_type": "code",
   "execution_count": 7,
   "metadata": {},
   "outputs": [
    {
     "name": "stdout",
     "output_type": "stream",
     "text": [
      "The 95% t-confidence interval for the reaction time of the Coffee+Nap Group: [428.48, 474.12] \n",
      "The 95% t-confidence interval for the reaction time of the Coffee Group: [465.87, 522.53] \n",
      "The 95% t-confidence interval for the reaction time of the Nap Group: [460.47, 525.13] \n"
     ]
    }
   ],
   "source": [
    "def CIcalc(Xbar, s, n, t):\n",
    "    return (Xbar - t*s/np.sqrt(n), Xbar + t*s/np.sqrt(n))\n",
    "\n",
    "t = stats.t.ppf(0.975, df = 9) #same t score will be used for all three CI's\n",
    "\n",
    "#Coffee + Nap \n",
    "CIcofnap = CIcalc(451.3, 31.9, 10, t)\n",
    "\n",
    "#Coffee\n",
    "CIcof = CIcalc(494.2, 39.6, 10, t)\n",
    "\n",
    "#Nap\n",
    "CInap = CIcalc(492.8, 45.2, 10, t)\n",
    "\n",
    "print(\"The 95% t-confidence interval for the reaction time of the Coffee+Nap Group: [{:.2f}, {:.2f}] \".format(CIcofnap[0],CIcofnap[1]))\n",
    "print(\"The 95% t-confidence interval for the reaction time of the Coffee Group: [{:.2f}, {:.2f}] \".format(CIcof[0],CIcof[1]))\n",
    "print(\"The 95% t-confidence interval for the reaction time of the Nap Group: [{:.2f}, {:.2f}] \".format(CInap[0],CInap[1]))"
   ]
  },
  {
   "cell_type": "markdown",
   "metadata": {},
   "source": [
    "Since all three CI's overlap each other, we cannot make any conclusions about differences between the true means for the three different groups. "
   ]
  },
  {
   "cell_type": "markdown",
   "metadata": {},
   "source": [
    "**Part B**: Use an appropriate hypothesis test to determine if there sufficient evidence, at the $\\alpha = 0.05$ significance level, to conclude that taking a nap promotes faster reaction time than drinking coffee.  Be sure to clearly explain the test that you're doing and state all hypotheses. Do all computations in Python, and report results."
   ]
  },
  {
   "cell_type": "markdown",
   "metadata": {},
   "source": [
    "**Solution: Part B**\n",
    "\n",
    "If the nap promotes a faster reaction time then the time should be shorter, so the hypotheses are as follows:\n",
    "\n",
    "$H_0: \\mu_{coffee} - \\mu_{nap} = 0 $ and $H_1: \\mu_{coffee} - \\mu_{nap} > 0 $\n",
    "\n",
    "let $ X_{condition} = $ be the reaction time in ms for the respective condition\n",
    "\n",
    "$ \\bar X_{condition} = $ mean of the X for the test condition\n",
    "\n",
    "$\\sigma_{condition} = $ standard deviation of X for respective condition\n",
    "\n",
    "$ n_{condition} = $ sample size for the respective condition\n",
    "\n",
    "Since the sample sizes are small, will perform a t-test.\n",
    "\n",
    "$$t = \\frac{\\bar X_{coffee}-\\bar X_{nap}-0}{\\sqrt{\\frac{\\sigma_{coffee}^2}{n_{coffee}}+\\frac{\\sigma_{nap}^2}{n_{nap}}}}$$\n",
    "\n",
    "This is a one-sided (right) test, so there will be one $t_{crit}$ at $t_{1-\\alpha}$. We will reject the null hypothesis in favor of the alternative hypothesis if $ t \\geq  t_{1-\\alpha}$"
   ]
  },
  {
   "cell_type": "code",
   "execution_count": 8,
   "metadata": {},
   "outputs": [
    {
     "name": "stdout",
     "output_type": "stream",
     "text": [
      "t_1minalpha is 1.73\n",
      "t is 0.07\n"
     ]
    }
   ],
   "source": [
    "t_1minalpha = stats.t.ppf(1-0.05, df = 9 + 9)\n",
    "\n",
    "n = 10\n",
    "XbarCof = 494.2\n",
    "SigmaCof = 39.6\n",
    "XbarNap = 492.8\n",
    "SigmaNap = 45.2\n",
    "\n",
    "t = (XbarCof-XbarNap)/np.sqrt(SigmaCof**2/n+SigmaNap**2/n)\n",
    "\n",
    "print(\"t_1minalpha is {:0.2f}\".format(t_1minalpha))\n",
    "print(\"t is {:0.2f}\".format(t))"
   ]
  },
  {
   "cell_type": "markdown",
   "metadata": {},
   "source": [
    "Since $ t < t_{1-\\alpha} $ we cannot reject the null hypothesis and we cannot conclude that a nap improves reaction time relative to coffee. "
   ]
  },
  {
   "cell_type": "markdown",
   "metadata": {},
   "source": [
    "**Part C**: Use an appropriate hypothesis test to determine if there is sufficient evidence, at the $\\alpha = 0.05$ significance level, to conclude that taking a coffee-nap promotes faster reaction time than only drinking coffee, or only having a nap.  Be sure to clearly explain the test that you're doing and state all hypotheses. Do all computations in Python, and report results."
   ]
  },
  {
   "cell_type": "markdown",
   "metadata": {},
   "source": [
    "**Solution: Part C**\n",
    "\n",
    "If the coffee+nap promotes a faster reaction time then the time should be shorter, so the hypotheses are as follows (subscript other represents the other condition being tested against):\n",
    "\n",
    "$H_0: \\mu_{other} - \\mu_{coffee+nap} = 0 $ and $H_1: \\mu_{other} - \\mu_{coffee+nap} > 0 $\n",
    "\n",
    "let $ X_{condition} = $ be the reaction time in ms for the respective condition\n",
    "\n",
    "$ \\bar X_{condition} = $ mean of the X for the test condition\n",
    "\n",
    "$\\sigma_{condition} = $ standard deviation of X for respective condition\n",
    "\n",
    "$ n_{condition} = $ sample size for the respective condition\n",
    "\n",
    "Since the sample sizes are small, will perform a t-test.\n",
    "\n",
    "$$t_{other} = \\frac{\\bar X_{other}-\\bar X_{coffee+nap}-0}{\\sqrt{\\frac{\\sigma_{other}^2}{n_{other}}+\\frac{\\sigma_{coffee+nap}^2}{n_{coffee+nap}}}}$$\n",
    "\n",
    "This is a one-sided (right) test, so there will be one $t_{crit}$ at $t_{1-\\alpha}$. If $t > t_{1-\\alpha}$ then we can reject the null hypothesis in favor of the alternative hypothesis."
   ]
  },
  {
   "cell_type": "code",
   "execution_count": 9,
   "metadata": {},
   "outputs": [
    {
     "name": "stdout",
     "output_type": "stream",
     "text": [
      "t_1minalpha is 1.73\n",
      "t_nap is 2.37\n",
      "t_cof is 2.67\n"
     ]
    }
   ],
   "source": [
    "#can use values from above, just need coffee+nap variables\n",
    "\n",
    "XbarCN = 451.3\n",
    "SigmaCN = 31.9\n",
    "\n",
    "t_nap = (XbarNap-XbarCN)/np.sqrt(SigmaCN**2/n+SigmaNap**2/n)\n",
    "t_cof = (XbarCof-XbarCN)/np.sqrt(SigmaCof**2/n+SigmaCN**2/n)\n",
    "\n",
    "print(\"t_1minalpha is {:0.2f}\".format(t_1minalpha))\n",
    "print(\"t_nap is {:0.2f}\".format(t_nap))\n",
    "print(\"t_cof is {:0.2f}\".format(t_cof))"
   ]
  },
  {
   "cell_type": "markdown",
   "metadata": {},
   "source": [
    "The standardized TS, t_nap and t_cof, are both well above the t_crit, so for both comparison we can reject the null hypothesis in favor of the alternative hypothesis that the coffee+nap condition improves reaction time relative to the coffee or nap alone. "
   ]
  },
  {
   "cell_type": "markdown",
   "metadata": {},
   "source": [
    "**Part D**: Compute a 95% confidence interval for the standard deviation of reaction time for coffee-nap takers. Do all computations in Python, and report the results."
   ]
  },
  {
   "cell_type": "markdown",
   "metadata": {},
   "source": [
    "**Solution: Part D**\n",
    "\n",
    "The sampling distribution of the variance (and thus standard deviation) is a chi-squared distribution, not a normal, so we will have to calculate the CI as follows:\n",
    "\n",
    "$$ CI = \\bigg[\\sqrt{\\frac{(n-1)s^2}{\\chi_{\\frac{\\alpha}2, n-1}^2}}, \\sqrt{\\frac{(n-1)s^2}{\\chi_{1-\\frac{\\alpha}2, n-1}^2}}     \\bigg]$$\n",
    "\n",
    "s and n are given above."
   ]
  },
  {
   "cell_type": "code",
   "execution_count": 10,
   "metadata": {},
   "outputs": [
    {
     "name": "stdout",
     "output_type": "stream",
     "text": [
      "The 95% CI for the standard deviation of reaction time for the Coffee+Nap Group: [21.94, 58.24] \n"
     ]
    }
   ],
   "source": [
    "alpha = 0.05\n",
    "lowChi = stats.chi2.ppf(alpha/2, n-1)\n",
    "highChi = stats.chi2.ppf(1-alpha/2, n-1)\n",
    "\n",
    "CI = (np.sqrt((n-1)*SigmaCN**2/lowChi), np.sqrt((n-1)*SigmaCN**2/highChi))\n",
    "\n",
    "print(\"The 95% CI for the standard deviation of reaction time for the Coffee+Nap Group: [{:.2f}, {:.2f}] \".format(CI[1],CI[0]))"
   ]
  },
  {
   "cell_type": "markdown",
   "metadata": {},
   "source": [
    "---\n",
    "[Back to top](#top)\n",
    "<a id='p4'></a>\n",
    "\n",
    "### [15 points] Problem 4 - Bad Science for Fun and Profit \n",
    "\n",
    "[Data Dredging](https://en.wikipedia.org/wiki/Data_dredging) and [p-hacking](https://www.explainxkcd.com/wiki/index.php/882:_Significant) are umbrella terms for the dangerous practice of automatically testing a large number of hypotheses on the entirety or subsets of a single dataset in order to find statistically significant results. In this exercise we will focus on the idea of testing hypotheses on subsets of a single data set.  \n",
    "\n",
    "Johnny Nefarious has landed his first data science internship at an online marketing firm.  His primary summer project has been to design and test a new email advertisement for his company's best-selling product. To test his advertisement his supervisors have allowed him to send his ad to 4 targeted customer groups of 50 people every day for a month, and keep track of which email client (Outlook or Gmail) the customers use.\n",
    "\n",
    "The effectiveness of online advertising is typically measured by the ad's [click-through rate](https://en.wikipedia.org/wiki/Click-through_rate) (CTR), which is defined to be the _proportion_ of users that click on an advertisement. The company's standard email advertisement has a CTR of $0.05$.  Johnny is hoping to land a permanent position at the company when he graduates, so he's **really** motivated to show his supervisors that the CTR of his email advertisement is a (statistically) significant improvement over their previous ad. \n",
    "\n",
    "The data from Johnny's summer experiment can be found in [`email.csv`](https://piazza.com/class_profile/get_resource/jhaqogsdelf76h/jja0n7qay9y674). Load this dataset into Pandas. "
   ]
  },
  {
   "cell_type": "code",
   "execution_count": 11,
   "metadata": {},
   "outputs": [
    {
     "data": {
      "text/html": [
       "<div>\n",
       "<style scoped>\n",
       "    .dataframe tbody tr th:only-of-type {\n",
       "        vertical-align: middle;\n",
       "    }\n",
       "\n",
       "    .dataframe tbody tr th {\n",
       "        vertical-align: top;\n",
       "    }\n",
       "\n",
       "    .dataframe thead th {\n",
       "        text-align: right;\n",
       "    }\n",
       "</style>\n",
       "<table border=\"1\" class=\"dataframe\">\n",
       "  <thead>\n",
       "    <tr style=\"text-align: right;\">\n",
       "      <th></th>\n",
       "      <th>Group</th>\n",
       "      <th>Client</th>\n",
       "      <th>Sent</th>\n",
       "      <th>Clicked</th>\n",
       "    </tr>\n",
       "  </thead>\n",
       "  <tbody>\n",
       "    <tr>\n",
       "      <th>0</th>\n",
       "      <td>1</td>\n",
       "      <td>Gmail</td>\n",
       "      <td>50</td>\n",
       "      <td>4</td>\n",
       "    </tr>\n",
       "    <tr>\n",
       "      <th>1</th>\n",
       "      <td>1</td>\n",
       "      <td>Gmail</td>\n",
       "      <td>50</td>\n",
       "      <td>3</td>\n",
       "    </tr>\n",
       "    <tr>\n",
       "      <th>2</th>\n",
       "      <td>1</td>\n",
       "      <td>Gmail</td>\n",
       "      <td>50</td>\n",
       "      <td>1</td>\n",
       "    </tr>\n",
       "    <tr>\n",
       "      <th>3</th>\n",
       "      <td>1</td>\n",
       "      <td>Outlook</td>\n",
       "      <td>50</td>\n",
       "      <td>4</td>\n",
       "    </tr>\n",
       "    <tr>\n",
       "      <th>4</th>\n",
       "      <td>1</td>\n",
       "      <td>Gmail</td>\n",
       "      <td>50</td>\n",
       "      <td>3</td>\n",
       "    </tr>\n",
       "  </tbody>\n",
       "</table>\n",
       "</div>"
      ],
      "text/plain": [
       "   Group   Client  Sent  Clicked\n",
       "0      1    Gmail    50        4\n",
       "1      1    Gmail    50        3\n",
       "2      1    Gmail    50        1\n",
       "3      1  Outlook    50        4\n",
       "4      1    Gmail    50        3"
      ]
     },
     "execution_count": 11,
     "metadata": {},
     "output_type": "execute_result"
    }
   ],
   "source": [
    "dfAd = pd.read_csv(\"https://piazza.com/class_profile/get_resource/jhaqogsdelf76h/jja0n7qay9y674\")\n",
    "dfAd.head()"
   ]
  },
  {
   "cell_type": "markdown",
   "metadata": {},
   "source": [
    "**Part A**: State the null and alternate hypotheses that Johnny should test to see if his ad campaign is an improvement over the company's standard mailer with a CTR of $0.05$. "
   ]
  },
  {
   "cell_type": "markdown",
   "metadata": {},
   "source": [
    "**Solution: Part A**\n",
    "\n",
    "$H_0: p = 0.05 $ and $H_1: p > 0.05 $\n",
    "\n"
   ]
  },
  {
   "cell_type": "markdown",
   "metadata": {},
   "source": [
    "**Part B**: Test the hypothesis from **Part A** at the $\\alpha = 0.05$ significance level using a p-value test. Is there sufficient evidence for Johnny to conclude that his ad campaign is an improvement?   "
   ]
  },
  {
   "cell_type": "markdown",
   "metadata": {},
   "source": [
    "**Solution: Part B**\n",
    "\n",
    "We can perform a z-test since $n \\geq 30$. We will compare our TS, z, to $z_{1-\\alpha}$, if $ z \\geq z_{1-\\alpha}$ then we can reject the null hypothesis in favor of the alternative hypothesis. \n",
    "\n",
    "$$z = \\frac{\\hat p - p}{\\sqrt{\\frac{p(1-p)}{n}}}$$\n",
    "\n",
    "Where $\\hat p$ is our observed proportion."
   ]
  },
  {
   "cell_type": "code",
   "execution_count": 12,
   "metadata": {},
   "outputs": [
    {
     "name": "stdout",
     "output_type": "stream",
     "text": [
      "z_1minalpha is 1.64\n",
      "z is 0.07\n"
     ]
    }
   ],
   "source": [
    "p = 0.05\n",
    "n = len(dfAd)\n",
    "phat = dfAd['Clicked']/dfAd['Sent']\n",
    "z = (np.mean(phat)-p)/np.sqrt((p*(1-p))/n)\n",
    "z_alpha = stats.norm.ppf(1-0.05)\n",
    "print(\"z_1minalpha is {:0.2f}\".format(z_alpha))\n",
    "print(\"z is {:0.2f}\".format(z))"
   ]
  },
  {
   "cell_type": "markdown",
   "metadata": {},
   "source": [
    "Since $z<z_{1-\\alpha}$ we cannot reject the null hypothesis and conclude that Johnny's ad was statistically signifcantly better than the company's standard."
   ]
  },
  {
   "cell_type": "markdown",
   "metadata": {},
   "source": [
    "**Part C**: \"Aw, shucks!\", Johnny thinks. This is the part where he decides to resort to some questionable science.  Maybe there is a reasonable subset of the data for which his alternative hypothesis is supported?  Can he find it?  Can he come up for a reasonable justification for why this subset of the data should be considered while the rest should be discarded? \n",
    "\n",
    "Here are the **rules**: Johnny cannot modify the original data (e.g. by adding nonexistent clicks to certain groups) because his boss will surely notice.  Instead he needs to find a subset of the data for which his hypothesis is supported by a p-value test at the $\\alpha = 0.05$ significance level _and_ be able to explain to his supervisors why his sub-selection of the data is reasonable.  \n",
    "\n",
    "In addition to your explanation of why your successful subset of the data is potentially reasonable, be sure to thoroughly explain the details of the tests that you perform and show all of your Python computation.  "
   ]
  },
  {
   "cell_type": "markdown",
   "metadata": {},
   "source": [
    "**Solution: Part C**\n",
    "\n",
    "Will test different subsets (z or t-test depending on whether the subset size is < 30) to see if any reasonable division of the data results in a statistically significant result. The subsets tested were created based on:\n",
    "\n",
    "1) Group number\n",
    "\n",
    "2) Client type\n",
    "\n",
    "3) Group number and Client Type\n",
    "\n",
    "4) Day of the week the email was sent "
   ]
  },
  {
   "cell_type": "code",
   "execution_count": 13,
   "metadata": {},
   "outputs": [
    {
     "name": "stdout",
     "output_type": "stream",
     "text": [
      "The number of subset division types that resulted in at least one successful subset is 0\n"
     ]
    }
   ],
   "source": [
    "def pValTest(subset, proportion, pval): #function to check sample size and picks a t test if <30, z test otherwise\n",
    "    if len(subset) < 30:\n",
    "        return rightTtestProp(subset, proportion, pval)\n",
    "    return rightZtestProp(subset, proportion, pval)\n",
    "\n",
    "def rightZtestProp(subset, p, alpha):\n",
    "    z = (np.mean(subset)-p)/np.sqrt((p*(1-p))/len(subset))\n",
    "    pval = stats.norm.cdf(z)\n",
    "    return (round(np.mean(subset), 2),round(1- pval,2),(1- pval) <= alpha)\n",
    "\n",
    "def rightTtestProp(subset, p, alpha):\n",
    "    t = (np.mean(subset)-p)/np.sqrt((p*(1-p))/len(subset))\n",
    "    pval = stats.t.cdf(t, df = len(subset)-1)\n",
    "    return (round(np.mean(subset), 2),round(1- pval, 2),(1- pval) <= alpha)\n",
    "\n",
    "#initialize the standard CTR, p, and the significance level, alpha\n",
    "p = 0.05\n",
    "alpha = 0.05\n",
    "\n",
    "#get subset types from the additional columns Group and Client\n",
    "groups = set(dfAd['Group'])\n",
    "clients = set(dfAd['Client'])\n",
    "\n",
    "#p-val tests looking at groups or clients individually \n",
    "\n",
    "#Groups\n",
    "groupResults = {}\n",
    "for group in groups:\n",
    "    subset = dfAd.loc[dfAd['Group']==group, 'Clicked']/dfAd.loc[dfAd['Group']==group, 'Sent']\n",
    "    groupResults[group] = pValTest(subset, p, alpha)\n",
    "\n",
    "#check if group divided subsets succeeded \n",
    "groupSuccess = False\n",
    "\n",
    "for result in groupResults:\n",
    "    if groupResults[result][-1]:\n",
    "        groupSuccess = True\n",
    "    \n",
    "#Clients\n",
    "clientResults = {}\n",
    "for client in clients:\n",
    "    subset = dfAd.loc[dfAd['Client']==client, 'Clicked']/dfAd.loc[dfAd['Client']==client, 'Sent']\n",
    "    clientResults[client] = pValTest(subset, p, alpha)\n",
    "    \n",
    "#check if client divided subsets succeeded \n",
    "clientSuccess = False\n",
    "\n",
    "for result in clientResults:\n",
    "    if clientResults[result][-1]:\n",
    "        clientSuccess = True\n",
    "    \n",
    "#all combinations of clients and groups\n",
    "groupClientResults = {}\n",
    "for group in groups:\n",
    "    groupSub = dfAd.loc[dfAd['Group']==group]\n",
    "    for client in clients:\n",
    "        subset = groupSub.loc[groupSub['Client']==client, 'Clicked']/groupSub.loc[groupSub['Client']==client, 'Sent']\n",
    "        groupClientResults[(group,  client)] = pValTest(subset, p, alpha)\n",
    "\n",
    "#check if client/group divided subsets succeeded \n",
    "groupClientSuccess = False\n",
    "\n",
    "for result in groupClientResults:\n",
    "    if groupClientResults[result][-1]:\n",
    "        groupClientSuccess = True\n",
    "        \n",
    "#by day of week\n",
    "dayOfWkResults = {}\n",
    "dfAd['Weekday'] = (dfAd.index % 30)%7\n",
    "for i in range(7):\n",
    "    subset = dfAd.loc[dfAd['Weekday']==i, 'Clicked']/dfAd.loc[dfAd['Weekday']==i, 'Sent']\n",
    "    dayOfWkResults[i] = pValTest(subset, p, alpha)\n",
    "\n",
    "#check if day of week divided subsets succeeded \n",
    "daySuccess = False\n",
    "\n",
    "for result in dayOfWkResults:\n",
    "    if dayOfWkResults[result][-1]:\n",
    "        daySuccess = True\n",
    "        \n",
    "anySuccessAnywhere = daySuccess + groupClientSuccess + clientSuccess + groupSuccess\n",
    "\n",
    "print(\"The number of subset division types that resulted in at least one successful subset is \"+str(anySuccessAnywhere))        \n"
   ]
  },
  {
   "cell_type": "markdown",
   "metadata": {},
   "source": [
    "After testing all these different subset types, I figured nothing this straightforward would work since his results are obviously not significantly different than the standard CTR. Just to check that this approach is futile, I tested below idealized subsets that exclude the lowest click number iteratively since that would be your best case subset. "
   ]
  },
  {
   "cell_type": "code",
   "execution_count": 14,
   "metadata": {},
   "outputs": [
    {
     "name": "stdout",
     "output_type": "stream",
     "text": [
      "Excluding the lowest clicks did not work, he should give up, but he won't! Integrity? Who needs it? Not this guy.\n"
     ]
    }
   ],
   "source": [
    "#iteratively build subsets by excluding the lowest clicked values\n",
    "clicks = set(dfAd['Clicked'])\n",
    "clickResults = {}\n",
    "for i in clicks:\n",
    "    subset = dfAd.loc[dfAd['Clicked']>i, 'Clicked']/dfAd.loc[dfAd['Clicked']>i, 'Sent']\n",
    "    if len(subset) > 0:\n",
    "        clickResults[i] = pValTest(subset, p, alpha)\n",
    "\n",
    "#check if lowest click(s) excluded subsets succeeded \n",
    "clickSuccess = False\n",
    "\n",
    "for result in clickResults:\n",
    "    if clickResults[result][-1]:\n",
    "        clickSuccess = True\n",
    "        \n",
    "if clickSuccess:\n",
    "    print(\"Excluding lowest clicks worked! There's a glimmer of hope!\")\n",
    "else:\n",
    "    print(\"Excluding the lowest clicks did not work, he should give up, but he won't! Integrity? Who needs it? Not this guy.\")"
   ]
  },
  {
   "cell_type": "markdown",
   "metadata": {},
   "source": [
    "Could try bootstrapping some of the subset types above that result in subsets smaller than 30 and have $\\hat p > 0.05$. For these subsets we can argue that we don't know if at that small sample size the distribution is normal. Basically, I will go through and pick out the minimum number of bootstrapped samples needed to result in a statistically significant result. This is super wrong. "
   ]
  },
  {
   "cell_type": "code",
   "execution_count": 15,
   "metadata": {},
   "outputs": [
    {
     "name": "stdout",
     "output_type": "stream",
     "text": [
      "{}\n",
      "{}\n",
      "{(1, 'Outlook'): ((0.04, 1.0, False), 39000), (1, 'Gmail'): ((0.06, 0.04, True), 3000), (2, 'Outlook'): ((0.04, 1.0, False), 39000), (2, 'Gmail'): ((0.06, 0.03, True), 1000), (3, 'Outlook'): ((0.04, 1.0, False), 39000), (3, 'Gmail'): ((0.06, 0.04, True), 3500), (4, 'Outlook'): ((0.05, 0.05, True), 11500), (4, 'Gmail'): ((0.04, 1.0, False), 39000)}\n",
      "{0: ((0.06, 0.04, True), 1000), 1: ((0.05, 0.28, False), 39000), 2: ((0.05, 0.21, False), 39000), 3: ((0.05, 0.95, False), 39000), 4: ((0.05, 0.5, False), 39000), 5: ((0.04, 1.0, False), 39000), 6: ((0.05, 0.19, False), 39000)}\n"
     ]
    }
   ],
   "source": [
    "#Bootstrapping to get the result we want\n",
    "def bootStrapYeeHaw(subset, p, alpha): #bootstrap to generate large list of means from the bootstrapped samples, use this list to perform pval test\n",
    "    bootSizes = np.arange(500, 20000, 500)\n",
    "    num_boots = 0\n",
    "    for x in bootSizes:\n",
    "        num_boots = x\n",
    "        newSubset = np.array([np.mean(np.random.choice(subset, replace=True, size=len(subset))) for ii in range(num_boots)])\n",
    "        newResults = pValTest(newSubset, p, alpha)\n",
    "        if newResults[-1]: #if null can be rejected, end loop\n",
    "            return newResults, num_boots\n",
    "        num_boots = num_boots*2 #else repeat loop with more re-samplings\n",
    "    return newResults, num_boots\n",
    "\n",
    "#Groups\n",
    "groupResults = {}\n",
    "for group in groups:\n",
    "    subset = np.array(dfAd.loc[dfAd['Group']==group, 'Clicked']/dfAd.loc[dfAd['Group']==group, 'Sent'])\n",
    "    currResult = pValTest(subset, p, alpha)\n",
    "    if currResult[1] > p and len(subset) < 30:\n",
    "        groupResults[group] = bootStrapYeeHaw(subset, p, alpha)\n",
    "\n",
    "\n",
    "    \n",
    "#Clients\n",
    "clientResults = {}\n",
    "for client in clients:\n",
    "    subset = np.array(dfAd.loc[dfAd['Client']==client, 'Clicked']/dfAd.loc[dfAd['Client']==client, 'Sent'])\n",
    "    currResult = pValTest(subset, p, alpha)\n",
    "    if currResult[1] > p and len(subset) < 30:\n",
    "        clientResults[client] = bootStrapYeeHaw(subset, p, alpha)\n",
    "    \n",
    "\n",
    "    \n",
    "#all combinations of clients and groups\n",
    "groupClientResults = {}\n",
    "for group in groups:\n",
    "    groupSub = dfAd.loc[dfAd['Group']==group]\n",
    "    for client in clients:\n",
    "        subset = groupSub.loc[groupSub['Client']==client, 'Clicked']/groupSub.loc[groupSub['Client']==client, 'Sent']\n",
    "        currResult = pValTest(subset, p, alpha)\n",
    "        if currResult[1] > p and len(subset) < 30:\n",
    "            groupClientResults[(group,  client)] = bootStrapYeeHaw(subset, p, alpha)\n",
    "\n",
    "        \n",
    "#by day of week\n",
    "dayOfWkResults = {}\n",
    "dfAd['Weekday'] = (dfAd.index % 30)%7\n",
    "for i in range(7):\n",
    "    subset = dfAd.loc[dfAd['Weekday']==i, 'Clicked']/dfAd.loc[dfAd['Weekday']==i, 'Sent']\n",
    "    currResult = pValTest(subset, p, alpha)\n",
    "    if currResult[1] > p and len(subset) < 30:\n",
    "        dayOfWkResults[i] = bootStrapYeeHaw(subset, p, alpha)\n",
    "print(groupResults)\n",
    "print(clientResults)\n",
    "print(groupClientResults)\n",
    "print(dayOfWkResults)"
   ]
  },
  {
   "cell_type": "code",
   "execution_count": 16,
   "metadata": {},
   "outputs": [
    {
     "name": "stdout",
     "output_type": "stream",
     "text": [
      "The successful subsets are: \n",
      "\n",
      "Groups: \n",
      "\n",
      "Client: \n",
      "\n",
      "Group, Client: \n",
      "Group, Client:  (1, 'Gmail')\n",
      "Number of resamplings:  3000\n",
      "Group, Client:  (2, 'Gmail')\n",
      "Number of resamplings:  1000\n",
      "Group, Client:  (3, 'Gmail')\n",
      "Number of resamplings:  3500\n",
      "Group, Client:  (4, 'Outlook')\n",
      "Number of resamplings:  11500\n",
      "\n",
      "Day of Week: \n",
      "Day of month mod 7:  0\n",
      "Number of resamplings:  1000\n"
     ]
    }
   ],
   "source": [
    "print(\"The successful subsets are: \")\n",
    "print()\n",
    "print(\"Groups: \")\n",
    "for result in groupResults:\n",
    "    if groupResults[result][0][-1]:\n",
    "        print(\"Group number: \", result)\n",
    "        print(\"Number of resamplings: \", groupResults[result][1])\n",
    "print()\n",
    "\n",
    "print(\"Client: \")\n",
    "for result in clientResults:\n",
    "    if clientResults[result][0][-1]:\n",
    "        print(\"Client: \", result)\n",
    "        print(\"Number of resamplings: \", clientResults[result][1])\n",
    "        \n",
    "print()\n",
    "\n",
    "print(\"Group, Client: \")\n",
    "for result in groupClientResults:\n",
    "    if groupClientResults[result][0][-1]:\n",
    "        print(\"Group, Client: \", result)\n",
    "        print(\"Number of resamplings: \", groupClientResults[result][1])\n",
    "\n",
    "print() \n",
    "print(\"Day of Week: \")\n",
    "for result in dayOfWkResults:\n",
    "    if dayOfWkResults[result][0][-1]:\n",
    "        print(\"Day of month mod 7: \", result)\n",
    "        print(\"Number of resamplings: \", dayOfWkResults[result][1])\n"
   ]
  },
  {
   "cell_type": "markdown",
   "metadata": {},
   "source": [
    "So for each of my subset types, except the client/group subsets since the sample sizes are large enough for the CLT to apply thus I can't argue that the distribution might be non-normal, I was able to find certain subsets that could be bootstrapped until statistically significant results were produced. Johnny could take the group/client subsets and argue that his company may not care about outlook users (perhaps they are an older demographic or something), and that group 4 may not be as good as the other 3 for some reason, and so just looking at groups 1-3 and gmail users, his results are statistically significantly better than the standard CTR.  "
   ]
  },
  {
   "cell_type": "markdown",
   "metadata": {},
   "source": [
    "---\n",
    "[Back to top](#top)\n",
    "<a id='p5'></a>\n",
    "\n",
    "### [15 points] Problem 5 - Simple Linear Regression for the Consumption of Ice Cream Treats\n",
    "\n",
    "The data in [`icecream.csv`](https://piazza.com/class_profile/get_resource/jhaqogsdelf76h/jja0n80849467a) contains information on a particular runner's ice cream eaten (in scoops) and miles run on particular days over the past year. In this exercise you will construct a simple linear regression model for the response variable \"amount of ice cream consumed\" (`scoops`), using \"number of miles run\" (`miles`) as the feature. Load the data into a Pandas DataFrame."
   ]
  },
  {
   "cell_type": "code",
   "execution_count": 17,
   "metadata": {},
   "outputs": [
    {
     "data": {
      "text/html": [
       "<div>\n",
       "<style scoped>\n",
       "    .dataframe tbody tr th:only-of-type {\n",
       "        vertical-align: middle;\n",
       "    }\n",
       "\n",
       "    .dataframe tbody tr th {\n",
       "        vertical-align: top;\n",
       "    }\n",
       "\n",
       "    .dataframe thead th {\n",
       "        text-align: right;\n",
       "    }\n",
       "</style>\n",
       "<table border=\"1\" class=\"dataframe\">\n",
       "  <thead>\n",
       "    <tr style=\"text-align: right;\">\n",
       "      <th></th>\n",
       "      <th>miles</th>\n",
       "      <th>scoops</th>\n",
       "    </tr>\n",
       "  </thead>\n",
       "  <tbody>\n",
       "    <tr>\n",
       "      <th>0</th>\n",
       "      <td>14.300531</td>\n",
       "      <td>8.922252</td>\n",
       "    </tr>\n",
       "    <tr>\n",
       "      <th>1</th>\n",
       "      <td>9.361511</td>\n",
       "      <td>4.720254</td>\n",
       "    </tr>\n",
       "    <tr>\n",
       "      <th>2</th>\n",
       "      <td>13.929330</td>\n",
       "      <td>8.567314</td>\n",
       "    </tr>\n",
       "    <tr>\n",
       "      <th>3</th>\n",
       "      <td>12.673436</td>\n",
       "      <td>8.855122</td>\n",
       "    </tr>\n",
       "    <tr>\n",
       "      <th>4</th>\n",
       "      <td>16.055107</td>\n",
       "      <td>9.409772</td>\n",
       "    </tr>\n",
       "  </tbody>\n",
       "</table>\n",
       "</div>"
      ],
      "text/plain": [
       "       miles    scoops\n",
       "0  14.300531  8.922252\n",
       "1   9.361511  4.720254\n",
       "2  13.929330  8.567314\n",
       "3  12.673436  8.855122\n",
       "4  16.055107  9.409772"
      ]
     },
     "execution_count": 17,
     "metadata": {},
     "output_type": "execute_result"
    }
   ],
   "source": [
    "dfTreats = pd.read_csv(\"https://piazza.com/class_profile/get_resource/jhaqogsdelf76h/jja0n80849467a\")\n",
    "dfTreats.head()"
   ]
  },
  {
   "cell_type": "markdown",
   "metadata": {},
   "source": [
    "**Part A**: Perform a simple linear regression with `miles` as the feature and `scoops` as the response.  Report the estimated regression model in the form $Y = \\alpha + \\beta x$. Do all computations in Python. "
   ]
  },
  {
   "cell_type": "markdown",
   "metadata": {},
   "source": [
    "**Solution: Part A**\n",
    "\n",
    "$$\\hat\\beta = \\frac{\\sum_{i = 1}^{n}(x_i - \\bar x)(y_i - \\bar y)}{\\sum_{i = 1}^{n}(x_i - \\bar x)^2}$$\n",
    "\n",
    "$$\\hat\\alpha = \\bar y - \\hat\\beta\\bar x$$\n"
   ]
  },
  {
   "cell_type": "code",
   "execution_count": 18,
   "metadata": {},
   "outputs": [
    {
     "name": "stdout",
     "output_type": "stream",
     "text": [
      " y = 2.88 + 0.42x\n"
     ]
    }
   ],
   "source": [
    "def regression(x,y):\n",
    "    xbar = x.mean()\n",
    "    ybar = y.mean()\n",
    "    numerator = np.array((x-xbar)*(y-ybar)).sum()\n",
    "    denominator = np.array((x-xbar)*(x-xbar)).sum()\n",
    "    betaHat = numerator/denominator\n",
    "    alphaHat = ybar - betaHat*xbar\n",
    "    return alphaHat, betaHat\n",
    "\n",
    "estRegression = regression(dfTreats['miles'],dfTreats['scoops'])\n",
    "\n",
    "print(\" y = {:0.2f} + {:0.2f}x\".format(estRegression[0], estRegression[1]))\n"
   ]
  },
  {
   "cell_type": "markdown",
   "metadata": {},
   "source": [
    "**Part B**: Make a scatter-plot of the data with `miles` as the feature and `scoops` as the response, and overlay the estimated regression line.  Clearly label all relevant plot elements and include a legend."
   ]
  },
  {
   "cell_type": "code",
   "execution_count": 19,
   "metadata": {},
   "outputs": [
    {
     "data": {
      "image/png": "[encoded data removed]",
      "text/plain": [
       "<Figure size 720x432 with 1 Axes>"
      ]
     },
     "metadata": {},
     "output_type": "display_data"
    }
   ],
   "source": [
    "#Solution Part B\n",
    "fig, ax = plt.subplots(figsize=(10,6))\n",
    "scatter = ax.scatter(dfTreats['miles'],dfTreats['scoops'],color='gray',marker='o',label=\"data\")\n",
    "xValues = np.linspace(0,17,10000)\n",
    "yhat = estRegression[0] + estRegression[1]*xValues\n",
    "line = ax.plot(xValues,yhat,color='black',label=\"Least Squares fit\")\n",
    "\n",
    "ax.set_xlabel(\"Number of Miles Run (miles)\", fontsize=16)\n",
    "ax.set_ylabel(\"Ice Cream Consumed (scoops)\", fontsize=16)\n",
    "\n",
    "ax.set_xlim([0,17])\n",
    "plt.legend(loc = 2);"
   ]
  },
  {
   "cell_type": "markdown",
   "metadata": {},
   "source": [
    "**Part C**: Give a physical interpretation of the coefficients $\\hat{\\alpha}$ and $\\hat{\\beta}$, estimated from your model. Is the relationship between run lengths and ice cream consumption positive or negative? Fully justify your responses."
   ]
  },
  {
   "cell_type": "markdown",
   "metadata": {},
   "source": [
    "**Solution: Part C**\n",
    "\n",
    "$\\hat\\alpha$ is how much ice cream a runner would eat when they haven't run at all (so number of miles run = 0)\n",
    "\n",
    "$\\hat\\beta$ is how many more scoops of ice cream a runner will eat for additional distance run (in miles)\n",
    "\n",
    "The sign of $\\hat\\beta$ tells you the relationship between the feature and the response variable. If they are positively correlated $\\hat\\beta > 0 $ since the response variable, in this case amount of ice cream consumed, will increase as the feature, miles run, increases (and they will decrease together as well).$\\hat\\beta < 0 $ means they are negatively correlated since an increase in one corresponds to a decrease in the other, and vice versa.$\\hat\\beta = 0 $ means the two are not related. In our case, $\\hat\\beta > 0 $ so ice cream consumed and miles run are positively related. \n"
   ]
  },
  {
   "cell_type": "markdown",
   "metadata": {},
   "source": [
    "**Part D**: How much ice cream does your simple linear regression model predict the runner will consume if they run a marathon (26.2 miles)? What are potential drawbacks to this model for ice cream consumption?"
   ]
  },
  {
   "cell_type": "code",
   "execution_count": 20,
   "metadata": {},
   "outputs": [
    {
     "name": "stdout",
     "output_type": "stream",
     "text": [
      "Ice cream consumed after running 26.2 miles is approximately 13.77 scoops\n"
     ]
    }
   ],
   "source": [
    "#Solution Part D\n",
    "\n",
    "x = 26.2\n",
    "\n",
    "y = estRegression[0] + estRegression[1]*x\n",
    "\n",
    "print(\"Ice cream consumed after running 26.2 miles is approximately {:0.2f} scoops\".format(y))"
   ]
  },
  {
   "cell_type": "markdown",
   "metadata": {},
   "source": [
    "One drawback is that this model can be extrapolated to distances that humans would be incapable of running in one day and return an ice cream value for any distance up to infinity. There is also an upper bound on the amount of ice cream a person could even consume, however this model would allow the number of scoops to reach infinity as well. The model could also allow for a negative intercept value depending on the data, even though you can't eat negative amounts of something. Another drawback, is that the model only considers distance run, when other features may play a role in how much ice cream a runner eats. "
   ]
  },
  {
   "cell_type": "markdown",
   "metadata": {},
   "source": [
    "**Part E**: Are there any other features you think should be added to the model, making this a *multiple* linear regression model?"
   ]
  },
  {
   "cell_type": "markdown",
   "metadata": {},
   "source": [
    "You could add in the temperature during the day as another feature, which would probably also be positively correlated. You could also include something like average calories consumed per day for the runners, since a runner who generally eats more (due to body size, activity level, etc.) would probably be able to eat more ice cream than one who eats less. Another feature could be some measure of how much a given runner even likes ice cream. "
   ]
  },
  {
   "cell_type": "markdown",
   "metadata": {},
   "source": [
    "---\n",
    "[Back to top](#top)\n",
    "<a id='p6'></a>\n",
    "\n",
    "### [15 points] Problem 6 - \"Central Limit-ish Theorem\" for the Log-normal Distribution\n",
    "\n",
    "The log-normal distribution arises in many applications, such as (but not limited to!) modeling the distribution of extreme values like monthly rainfall, modeling the distribution of income for the bulk of the population, and the length of some board games. It is useful, but can be a little tough to wrap your head around at first. There is a \"logarithm\" right in the name, after all. So let's tame this beast.\n",
    "\n",
    "Execute the code below to obtain a sample of 10,000 random draws from a [log-normal distribution](https://docs.scipy.org/doc/numpy/reference/generated/numpy.random.lognormal.html) with parameters $\\mu = 3$ and $\\sigma = 0.25$."
   ]
  },
  {
   "cell_type": "code",
   "execution_count": 21,
   "metadata": {},
   "outputs": [
    {
     "data": {
      "image/png": "[encoded data removed]",
      "text/plain": [
       "<Figure size 576x360 with 1 Axes>"
      ]
     },
     "metadata": {},
     "output_type": "display_data"
    }
   ],
   "source": [
    "sigma = 0.25\n",
    "mu = 3\n",
    "n = 10000\n",
    "x = pd.Series(np.random.lognormal(mean=mu, sigma=sigma, size=n))\n",
    "\n",
    "fig, ax = plt.subplots(nrows=1, ncols=1, figsize=(8,5))\n",
    "x.hist(ax=ax, edgecolor=\"white\", bins=20, density=True)\n",
    "ax.set_xlim([0,50])\n",
    "ax.set_xlabel('X')\n",
    "ax.set_ylabel('Density')\n",
    "ax.set_title('X ~ LogNorm({}, {})'.format(mu,sigma))\n",
    "ax.set_axisbelow(True)\n",
    "ax.grid(alpha=0.25);"
   ]
  },
  {
   "cell_type": "markdown",
   "metadata": {},
   "source": [
    "**Part A**: Recall that the log-normal pdf for a random variable $X$ is given by\n",
    "$$f(x \\mid \\mu, \\sigma) = \\dfrac{1}{x\\sigma \\sqrt{2 \\pi}} e^{-\\frac{1}{2}\\left(\\frac{\\log{x} - \\mu}{\\sigma}\\right)^2}$$\n",
    "\n",
    "Thus, if you have a random variable $X \\sim LogNorm(\\mu, \\sigma)$, the transformed random variable $Y = \\log(X)$ must have $Y \\sim N(\\mu, \\sigma^2)$. Verify this by plotting a density histogram of $Y = \\log(X)$, along with the normal pdf $f(y \\mid \\mu, \\sigma^2)$. Be sure to label everything in your _single-panel_ figure and include a legend. Write 1-2 sentences commenting on the agreement."
   ]
  },
  {
   "cell_type": "code",
   "execution_count": 22,
   "metadata": {},
   "outputs": [
    {
     "data": {
      "image/png": "[encoded data removed]",
      "text/plain": [
       "<Figure size 576x288 with 1 Axes>"
      ]
     },
     "metadata": {},
     "output_type": "display_data"
    }
   ],
   "source": [
    "num_samples = 500000\n",
    "Logx = pd.Series(np.log(np.random.lognormal(mean=mu, sigma=sigma, size=num_samples)))\n",
    "pdf = pd.Series(np.random.normal(mu, sigma, size=num_samples))\n",
    "my_bins = np.linspace(1.5, 4.5, 100)\n",
    "fig, ax = plt.subplots(nrows=1, ncols=1, figsize=(8,4))\n",
    "Logx.hist(alpha=0.5, bins = my_bins,edgecolor=\"white\", label=\"Y = log(X)\", density=True)\n",
    "pdf.hist(alpha=0.5, bins = my_bins, edgecolor=\"white\", label=\"pdf f(y|mu,sigma^2)\", density=True)\n",
    "ax.set_xlabel('Y')\n",
    "ax.set_ylabel('Density')\n",
    "ax.grid(alpha=0.25)\n",
    "ax.set_axisbelow(True)\n",
    "plt.legend()\n",
    "plt.show();"
   ]
  },
  {
   "cell_type": "markdown",
   "metadata": {},
   "source": [
    "The overlayed histograms look identical, so $log(X)$ is normally distributed for the random variable X that has a log-normal distribution. "
   ]
  },
  {
   "cell_type": "markdown",
   "metadata": {},
   "source": [
    "**Part B**: Now, read in the file [`lognorm.csv`](https://piazza.com/class_profile/get_resource/jhaqogsdelf76h/jja0n7bg98m66x), available linked here and on Piazza. These are 25 samples from a log-normal distribution with unknown parameters $\\mu$ and $\\sigma$. Use bootstrapping with at least 1,000 re-sampling iterations to obtain 95% confidence intervals for each of the median and the parameter $\\mu$ of the unknown log-normal distribution from which these data originate. Note that the two are related by $\\tilde{x} = e^{\\mu}$, so the two confidence intervals are related."
   ]
  },
  {
   "cell_type": "code",
   "execution_count": 23,
   "metadata": {},
   "outputs": [
    {
     "data": {
      "text/html": [
       "<div>\n",
       "<style scoped>\n",
       "    .dataframe tbody tr th:only-of-type {\n",
       "        vertical-align: middle;\n",
       "    }\n",
       "\n",
       "    .dataframe tbody tr th {\n",
       "        vertical-align: top;\n",
       "    }\n",
       "\n",
       "    .dataframe thead th {\n",
       "        text-align: right;\n",
       "    }\n",
       "</style>\n",
       "<table border=\"1\" class=\"dataframe\">\n",
       "  <thead>\n",
       "    <tr style=\"text-align: right;\">\n",
       "      <th></th>\n",
       "      <th>0</th>\n",
       "    </tr>\n",
       "  </thead>\n",
       "  <tbody>\n",
       "    <tr>\n",
       "      <th>0</th>\n",
       "      <td>10.676829</td>\n",
       "    </tr>\n",
       "    <tr>\n",
       "      <th>1</th>\n",
       "      <td>12.436454</td>\n",
       "    </tr>\n",
       "    <tr>\n",
       "      <th>2</th>\n",
       "      <td>13.765776</td>\n",
       "    </tr>\n",
       "    <tr>\n",
       "      <th>3</th>\n",
       "      <td>14.930567</td>\n",
       "    </tr>\n",
       "    <tr>\n",
       "      <th>4</th>\n",
       "      <td>9.339963</td>\n",
       "    </tr>\n",
       "  </tbody>\n",
       "</table>\n",
       "</div>"
      ],
      "text/plain": [
       "           0\n",
       "0  10.676829\n",
       "1  12.436454\n",
       "2  13.765776\n",
       "3  14.930567\n",
       "4   9.339963"
      ]
     },
     "execution_count": 23,
     "metadata": {},
     "output_type": "execute_result"
    }
   ],
   "source": [
    "dfLN = pd.read_csv(\"https://piazza.com/class_profile/get_resource/jhaqogsdelf76h/jja0n7bg98m66x\", header = None)\n",
    "dfLN.head()"
   ]
  },
  {
   "cell_type": "code",
   "execution_count": 24,
   "metadata": {},
   "outputs": [
    {
     "name": "stdout",
     "output_type": "stream",
     "text": [
      "The 95% CI for mu is:  [2.44008414 2.60491952]\n",
      "The 95% CI for the median is:  [11.47400613 13.5301363 ]\n"
     ]
    }
   ],
   "source": [
    "logX = np.log(dfLN)\n",
    "logX.head()\n",
    "num_boots = 1000\n",
    "mu = np.array([np.mean(np.random.choice(logX[0], replace=True, size=len(logX))) for ii in range(num_boots)])\n",
    "L, U = np.percentile(mu, 2.5), np.percentile(mu, 97.5)\n",
    "CImu = np.array([L, U])\n",
    "CImed = np.e**CImu\n",
    "print(\"The 95% CI for mu is: \", CImu)\n",
    "\n",
    "print(\"The 95% CI for the median is: \", CImed)"
   ]
  },
  {
   "cell_type": "markdown",
   "metadata": {},
   "source": [
    "**Part C**: If $Y$ is normally distributed with mean $\\mu$ and standard deviation $\\sigma$, the Central Limit Theorem and what is commonly known as the [\"68-95-99.7 Rule\"](https://en.wikipedia.org/wiki/68%E2%80%9395%E2%80%9399.7_rule) suggest that:\n",
    "* 68.3% of the data for $Y$ fall within the interval $[\\mu - \\sigma, \\mu + \\sigma]$\n",
    "* 95.4% of the data fall within the interval $[\\mu - 2\\sigma, \\mu + 2\\sigma]$\n",
    "* 99.7% of the data fall within the interval $[\\mu - 3\\sigma, \\mu + 3\\sigma]$\n",
    "\n",
    "If we have $X \\sim LogNorm(\\mu, \\sigma)$, then $Y = \\log(X) \\sim N(\\mu, \\sigma^2)$ follows this 68-95-99.7 Rule for normal distributions. Since $Y = \\log(X)$ is a one-to-one function, we can develop a similar 68-95-99.7 Rule for the log-normal distribution. This is just one of many reasons why we love one-to-one functions! Take the 68% part of the rule, for example.\n",
    "\n",
    "* 68.3% of the data for $Y$ are within $[\\mu - \\sigma, \\mu + \\sigma]$.\n",
    "* This means that 68.3% of the data for $X = e^Y$ are within $\\left[ e^{\\mu - \\sigma}, e^{\\mu + \\sigma}\\right] = \\left[ e^{\\mu}/e^{\\sigma}, ~~ e^{\\mu} e^{\\sigma}\\right]$\n",
    "* For brevity's sake, we often rewrite $m = e^{\\mu}$ and $s = e^{\\sigma}$, so that this interval becomes $[m/s, ms]$. Note that $m = \\tilde{x}$ is the median.\n",
    "\n",
    "Formulate a hypothesis regarding the form for the 95 and 99.7% parts of the Rule are for the log-normal distribution. Then, finish the code below to verify that your hypotheses are correct."
   ]
  },
  {
   "cell_type": "markdown",
   "metadata": {},
   "source": [
    "**Solution: Part C**\n",
    "\n",
    "The rest of the rule for the log-normal distribution would be:\n",
    "\n",
    "* 95.4% of the data fall within the interval $\\left[ e^{\\mu}/e^{2\\sigma}, ~~ e^{\\mu} e^{2\\sigma}\\right]$\n",
    "* 99.7% of the data fall within the interval $\\left[ e^{\\mu}/e^{3\\sigma}, ~~ e^{\\mu} e^{3\\sigma}\\right]$"
   ]
  },
  {
   "cell_type": "code",
   "execution_count": 25,
   "metadata": {},
   "outputs": [
    {
     "name": "stdout",
     "output_type": "stream",
     "text": [
      "Results from Testing the 95.4% Rule: \n",
      "Interval from the data: [ 12.21 , 32.97 ]\n",
      "Interval from the rule: [ 12.18 , 33.12 ]\n",
      "\n",
      "Results from Testing the 99.7% Rule: \n",
      "Interval from the data: [ 9.56 , 41.72 ]\n",
      "Interval from the rule: [ 9.49 , 42.52 ]\n"
     ]
    }
   ],
   "source": [
    "sigma = 0.25\n",
    "mu = 3\n",
    "n = 100000\n",
    "x = pd.Series(np.random.lognormal(mean=mu, sigma=sigma, size=n))\n",
    "\n",
    "# Testing 95.4%\n",
    "\n",
    "#From the data\n",
    "lower = (100-95.4)/2\n",
    "L, U = np.percentile(x, lower), np.percentile(x, 100-lower)\n",
    "\n",
    "#From the Rule\n",
    "Lrule, Urule = np.e**mu/np.e**(2*sigma), np.e**mu*np.e**(2*sigma)\n",
    "print(\"Results from Testing the 95.4% Rule: \")\n",
    "print(\"Interval from the data: [\", round(L,2),\",\",round(U,2), \"]\")\n",
    "print(\"Interval from the rule: [\", round(Lrule, 2),\",\", round(Urule, 2),\"]\\n\")\n",
    "\n",
    "# Testing 99.7%\n",
    "\n",
    "#From the data\n",
    "lower = (100-99.7)/2\n",
    "L, U = np.percentile(x, lower), np.percentile(x, 100-lower)\n",
    "\n",
    "#From the Rule\n",
    "Lrule, Urule = np.e**mu/np.e**(3*sigma), np.e**mu*np.e**(3*sigma)\n",
    "\n",
    "print(\"Results from Testing the 99.7% Rule: \")\n",
    "print(\"Interval from the data: [\", round(L,2),\",\",round(U,2), \"]\")\n",
    "print(\"Interval from the rule: [\", round(Lrule, 2),\",\", round(Urule, 2),\"]\")"
   ]
  },
  {
   "cell_type": "markdown",
   "metadata": {},
   "source": [
    "For 95.4% and 99.7% the two intervals, one from the generated distribution and the other from the proposed rule, are in agreement (within reason, since the percentages we are using are approximations of the actual percentages), so the hypothesized rest of the rule seems valid."
   ]
  },
  {
   "cell_type": "code",
   "execution_count": null,
   "metadata": {},
   "outputs": [],
   "source": []
  },
  {
   "cell_type": "code",
   "execution_count": null,
   "metadata": {},
   "outputs": [],
   "source": []
  }
 ],
 "metadata": {
  "kernelspec": {
   "display_name": "Python 3",
   "language": "python",
   "name": "python3"
  },
  "language_info": {
   "codemirror_mode": {
    "name": "ipython",
    "version": 3
   },
   "file_extension": ".py",
   "mimetype": "text/x-python",
   "name": "python",
   "nbconvert_exporter": "python",
   "pygments_lexer": "ipython3",
   "version": "3.6.5"
  }
 },
 "nbformat": 4,
 "nbformat_minor": 2
}
