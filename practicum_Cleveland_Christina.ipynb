{
 "cells": [
  {
   "cell_type": "markdown",
   "metadata": {},
   "source": [
    "<a id='top'></a>\n",
    "\n",
    "# CSCI 3022: Intro to Data Science - Summer 2018 Practicum \n",
    "***\n",
    "\n",
    "This practicum is due on Moodle by **11:55 PM on Monday July 23**. Your solutions to theoretical questions should be done in Markdown/MathJax directly below the associated question.  Your solutions to computational questions should include any specified Python code and results as well as written commentary on your conclusions.  \n",
    "\n",
    "**Here are the rules:** \n",
    "\n",
    "1. All work, code and analysis, must be your own. \n",
    "1. You may use your course notes, posted lecture slides, textbooks, in-class notebooks, and homework solutions as resources.  You may also search online for answers to general knowledge questions like the form of a probability distribution function or how to perform a particular operation in Python/Pandas. \n",
    "1. This is meant to be like a coding portion of your final exam. So, I will be much less helpful than I typically am with homework. For example, I will not check answers, help debug your code, and so on.\n",
    "1. If something is left open-ended, it is probably because I intend for you to code it up however you want, and only care about the plots/analysis I see at the end. Feel free to ask clarifying questions though.\n",
    "2. You may **NOT** post to message boards or other online resources asking for help.\n",
    "3. You may **NOT** copy-paste solutions *from anywhere*.\n",
    "4. You may **NOT** collaborate with classmates or anyone else.  \n",
    "5. In short, **your work must be your own**. It really is that simple.\n",
    "\n",
    "Violation of the above rules will result in an immediate academic sanction (*at the very least*, you will receive a 0 on the practicum or an F in the course, depending on severity), and a trip to the Honor Code Council.\n",
    "\n",
    "***\n",
    "\n",
    "**By writing your name below you agree to abide by the rules given above:**\n",
    "\n",
    "**Name**:  \n",
    "Christina Cleveland\n",
    "\n",
    "***\n",
    "\n",
    "\n",
    "**NOTES**: \n",
    "\n",
    "- You may not use late days on the practicum nor can you drop your practicum grade. \n",
    "- If you have a question for Tony, post it as a **PRIVATE** message on Piazza.  If I decide that the question is appropriate for the entire class I add it to a Practicum clarifications thread. \n",
    "- Do **NOT** load or use any Python packages that are not available in Anaconda 3.6. \n",
    "- Some problems with code may be autograded.  If we provide a function API **do not** change it.  If we do not provide a function API then you're free to structure your code however you like. \n",
    "- Submit only this Jupyter notebook to Moodle.  Do not compress it using tar, rar, zip, etc. \n",
    "- This should go without saying, but... For any question that asks you to calculate something, you **must show all work to receive credit**. Sparse or nonexistent work will receive sparse or nonexistent credit.\n",
    "\n",
    "---\n",
    "**Shortcuts:**  [Problem 1](#p1) | [Problem 2](#p2) | [Problem 3](#p3) | [Problem 4](#p4)\n",
    "\n",
    "---"
   ]
  },
  {
   "cell_type": "code",
   "execution_count": 2,
   "metadata": {},
   "outputs": [],
   "source": [
    "from scipy import stats\n",
    "import numpy as np \n",
    "import statsmodels.api as sm\n",
    "import pandas as pd\n",
    "import matplotlib.pyplot as plt\n",
    "%matplotlib inline"
   ]
  },
  {
   "cell_type": "markdown",
   "metadata": {},
   "source": [
    "<br>\n",
    "\n",
    "---\n",
    "[Back to top](#top)\n",
    "<a id='p1'></a>\n",
    "\n",
    "### [25 points] Problem 1: CSCI 3022 goes bowling!\n",
    "\n",
    "**Part A:** Build a function `bowling_game_simple` to simulate a **simplified version** of a single game of traditional [10-pin bowling](https://en.wikipedia.org/wiki/Ten-pin_bowling). If you are not familiar with bowling, you are encouraged to watch some videos on YouTube. Even better, you can go to the UMC and actually go bowling!\n",
    "\n",
    "Here is a summary of the simplified rules for the first part of this problem:\n",
    "* There are 10 frames (like rounds).\n",
    "* You get 2 rolls in each frame.\n",
    "* Each frame begins with 10 pins.\n",
    "* It is possible to knock down zero pins (a \"gutter ball\" - womp womp).\n",
    "* Your score for each frame is the total number of pins knocked down by your two rolls.\n",
    "* If you knock all 10 pins down with your first roll, that is called a \"strike\" and you do not get a second roll for that frame.\n",
    "* If you knock all 10 pins down but require both rolls in a frame, that is called a \"spare\".\n",
    "* Assume that the probability of knocking down a single pin is a parameter $p$.\n",
    "    \n",
    "You should use an appropriate distribution that you have learned to model the knocking down of pins for each roll. In Markdown/MathJax, you must name and fully justify your choice of distribution and other modeling choices. Note that the parameter(s) of this distribution might change, depending on the current sitution (i.e., how many pins are left). Simplifications are okay, as long as you mention and justify them."
   ]
  },
  {
   "cell_type": "markdown",
   "metadata": {},
   "source": [
    "**Solution Part A**\n",
    "\n",
    "For each roll, the distribution used to model the knocking down of the remaining pins will be a binomial distribution. Whether or not each individual pin gets knocked down is a Bernoulli trial with probability p and the two possible outcomes are knocked down (success) and standing (failure). After each roll you want to know how many of the n trials, where n is the number of remaining pins, resulted in a success, where the probability of k successes is given by:\n",
    "\n",
    "$$P(k) = {n\\choose k}p^k(1-p)^{n-k}$$\n",
    "\n",
    "If you randomly sample from a binomial distribution, with n = number of pins remaining and p = probability of knocking down any single pin, then for each roll you will get how many pins you knocked down in that roll."
   ]
  },
  {
   "cell_type": "code",
   "execution_count": 3,
   "metadata": {
    "collapsed": true
   },
   "outputs": [],
   "source": [
    "def bowling_game_simple(p):\n",
    "    score = 0\n",
    "    for i in range(10):\n",
    "        pins = 10\n",
    "        rolls = 0\n",
    "        while rolls < 2 and pins > 0: \n",
    "            pins -= np.random.binomial(pins, p)\n",
    "            rolls += 1\n",
    "        score += 10 - pins\n",
    "    # your code goes here!\n",
    "    return score"
   ]
  },
  {
   "cell_type": "markdown",
   "metadata": {},
   "source": [
    "**Part B:** Simulate 1,000 games of bowling with $p=0.5$ and plot a density histogram of the resulting total scores. Be sure to label your axes.\n",
    "\n",
    "What is the empirical expected value of total score from your simulations? Explain fully why this does or does not match what you would expect."
   ]
  },
  {
   "cell_type": "code",
   "execution_count": 4,
   "metadata": {},
   "outputs": [
    {
     "data": {
      "image/png": "[encoded data removed]",
      "text/plain": [
       "<Figure size 1008x576 with 1 Axes>"
      ]
     },
     "metadata": {},
     "output_type": "display_data"
    }
   ],
   "source": [
    "simGames = [bowling_game_simple(0.5) for x in range(1000)]\n",
    "\n",
    "fig, ax = plt.subplots(nrows=1, ncols=1, figsize=(14,8))\n",
    "plt.hist(simGames, ec = 'white', bins = np.arange(0,100,2), color = 'slategrey', density = True)\n",
    "plt.xlabel('Final Score')\n",
    "plt.ylabel('Fraction of Games')\n",
    "plt.xlim(55,95)\n",
    "plt.title('Scores from 1000 Simulated Simplified Bowling Games: p = 0.5');"
   ]
  },
  {
   "cell_type": "markdown",
   "metadata": {},
   "source": [
    "Based on the histogram above, there is a clear mean at score = 75. This is consistent with what is expected when p = 0.5. For each frame in a game you would expect to knock down half of the pins on your first roll, so $\\frac{10}2 = 5$ pins. You would go into your second roll with 5 pins and again expect to knock down half of those pins, $\\frac{5}2 = 2.5$. So in total for each frame you would expect to knock down 7.5 pins. Multiply this expected score per frame by the number of frames, 10, and your expected score per game is 75. "
   ]
  },
  {
   "cell_type": "markdown",
   "metadata": {},
   "source": [
    "**Part C:** Build a function `bowling_game` to simulate a more realistic version of a single game of traditional [10-pin bowling](https://en.wikipedia.org/wiki/Ten-pin_bowling).  Here are the additional [rules](https://en.wikipedia.org/wiki/Ten-pin_bowling#Rules_of_play) to add:\n",
    "* *Generally*, your score for each frame is the total number of pins knocked down by your two rolls.\n",
    "* If you get a strike, then:\n",
    "    * you do not get a second roll for that frame, and\n",
    "    * your score for that frame is the 10 from what you just knocked down _plus_ the total number of pins you knock down on your next 2 rolls.\n",
    "* If you get a spare, then your score for that frame is the 10 from what you just knocked down _plus_ the number of pins you knock down on your next roll.\n",
    "* The tenth frame has a few of special rules too:\n",
    "    * If you get a strike on your first roll, then you are awarded two extra rolls.\n",
    "    * If you get a spare on your second roll, then you are awarded one extra roll.\n",
    "    * Your score for the tenth frame is simply the total number of pins knocked down.\n",
    "    \n",
    "An example bowling game and the total score will be provided in a \"Practicum Q&A\" Piazza post."
   ]
  },
  {
   "cell_type": "code",
   "execution_count": 5,
   "metadata": {
    "collapsed": true
   },
   "outputs": [],
   "source": [
    "def count_bowling_score(frames): #counts up score for a given list of frames\n",
    "    finalScores = [(0,0)]*(len(frames))\n",
    "    #print(frames)\n",
    "    for i,x in enumerate(frames):\n",
    "        currScore = x\n",
    "        if sum(currScore) == 10 and i < 9: #if spare or strike and not last frame\n",
    "            if x[0] == 10: #strike\n",
    "                #print(i, x, frames[i+1], len(frames[i+1]))\n",
    "                if len(frames[i+1]) >= 2: #if next 2 rolls in next frame\n",
    "                    currScore.append(frames[i+1][0])\n",
    "                    currScore.append(frames[i+1][1])\n",
    "                else: #if next two rolls split between next and next + 1 frames\n",
    "                    currScore.append(frames[i+1][0])\n",
    "                    currScore.append(frames[i+2][0])\n",
    "            else: #spare\n",
    "                currScore.append(frames[i+1][0])\n",
    "        finalScores[i] = currScore\n",
    "    #print(finalScores)\n",
    "    score = 0\n",
    "    for x in finalScores:\n",
    "        score += sum(x)\n",
    "    return score\n",
    "                \n",
    "\n",
    "def bowling_game( p ):\n",
    "    frames = []\n",
    "    for i in range(9): #first 9 frames\n",
    "        pins = 10\n",
    "        rolls = 0\n",
    "        currFrame = list()\n",
    "        while rolls < 2 and pins > 0: \n",
    "            knockedDown= np.random.binomial(pins, p)\n",
    "            pins -= knockedDown\n",
    "            rolls += 1\n",
    "            currFrame.append(knockedDown)\n",
    "        frames.append(currFrame)\n",
    "    #10th frame\n",
    "    pins = 10\n",
    "    rolls = 0\n",
    "    maxRolls = 2\n",
    "    currFrame = list()\n",
    "    while rolls < maxRolls and pins > 0: \n",
    "        #print(pins)\n",
    "        knockedDown= np.random.binomial(pins, p)\n",
    "        #print(knockedDown)\n",
    "        if rolls == 0 and knockedDown == 10:\n",
    "            maxRolls += 1\n",
    "        elif rolls ==1 and pins == knockedDown:\n",
    "            maxRolls += 1\n",
    "            pins = 10\n",
    "        else:\n",
    "            pins -= knockedDown\n",
    "        rolls += 1\n",
    "        currFrame.append(knockedDown)\n",
    "    frames.append(currFrame)    \n",
    "    return count_bowling_score(frames)"
   ]
  },
  {
   "cell_type": "markdown",
   "metadata": {},
   "source": [
    "**Part D:** Use your `bowling_game` function to simulate 1,000 games of more realistic bowling with $p=0.5$. Plot a density histogram of the scores. Compare the distributions with and without the strike, spare and tenth frame bonuses using concepts from this class. That is, compare your results from Part B with the results here. Write a few sentences commenting on any key differences you see."
   ]
  },
  {
   "cell_type": "code",
   "execution_count": 6,
   "metadata": {},
   "outputs": [
    {
     "data": {
      "image/png": "[encoded data removed]",
      "text/plain": [
       "<Figure size 1008x576 with 1 Axes>"
      ]
     },
     "metadata": {},
     "output_type": "display_data"
    }
   ],
   "source": [
    "simGames = [bowling_game(0.5) for x in range(1000)]\n",
    "\n",
    "fig, ax = plt.subplots(nrows=1, ncols=1, figsize=(14,8))\n",
    "plt.hist(simGames, ec = 'white', bins = np.arange(0,200,2), color = 'slategrey', density = True)\n",
    "plt.xlabel('Final Score')\n",
    "plt.ylabel('Fraction of Games')\n",
    "plt.xlim(55,120)\n",
    "plt.title('Scores from 1000 Simulated Bowling Games: p = 0.5');"
   ]
  },
  {
   "cell_type": "markdown",
   "metadata": {},
   "source": [
    "The histogram above differs from the one in part b most noticeably at higher scores. Specifically, the histogram above is positively skewed while the one in part B is symmetric. The mode is still around 75 however the mean would likely be larger than this value. It makes sense that there would still be the most mass around 75, especially since the expected frames (roll1 = 5, roll2 = 2.5) that would result in that score do not include any spares or strikes so most sets of frames that originally resulted in a score of 75 wouldn't be affected by the additional rules. The distribution here is also more spread out since some of the lower scores that contained any single strike or spare would be adjusted to a higher score when the additional rules are considered, thus redistributing the mass over the larger observed range. \n"
   ]
  },
  {
   "cell_type": "markdown",
   "metadata": {},
   "source": [
    "**Part E:** Compare the effects of the strike, spare and 10th frame bonuses for a better bowler, with $p=0.75$. Include any new simulations, figures and/or statistics that you think are relevant. Write a few sentences to comment on any differences you notice."
   ]
  },
  {
   "cell_type": "code",
   "execution_count": 7,
   "metadata": {},
   "outputs": [
    {
     "data": {
      "image/png": "[encoded data removed]",
      "text/plain": [
       "<Figure size 1008x576 with 1 Axes>"
      ]
     },
     "metadata": {},
     "output_type": "display_data"
    }
   ],
   "source": [
    "simGamesSimp = pd.Series([bowling_game_simple(0.75) for x in range(1000)])\n",
    "simGames = pd.Series([bowling_game(0.75) for x in range(1000)])\n",
    "\n",
    "my_bins = np.arange(0,300,4)\n",
    "fig, ax = plt.subplots(nrows=1, ncols=1, figsize=(14,8))\n",
    "simGamesSimp.hist(alpha=0.5, bins = my_bins, edgecolor=\"white\", label=\"Simplified Scoring/Game\", density=True)\n",
    "simGames.hist(alpha=0.5, bins = my_bins,edgecolor=\"white\", label=\"Full Scoring/Game\", density=True)\n",
    "ax.set_xlabel('Final Score')\n",
    "ax.set_ylabel('Density')\n",
    "ax.set_xlim(70,200)\n",
    "ax.grid(alpha=0.25)\n",
    "ax.set_axisbelow(True)\n",
    "plt.title('Scores from 1000 Simulated Simplified and Full Bowling Games: p = 0.75');\n",
    "plt.legend()\n",
    "plt.show();"
   ]
  },
  {
   "cell_type": "code",
   "execution_count": 8,
   "metadata": {},
   "outputs": [
    {
     "name": "stdout",
     "output_type": "stream",
     "text": [
      "Simple Game Mean (p = 0.75):  93.711\n",
      "Game Mean (p = 0.75):  134.292\n"
     ]
    }
   ],
   "source": [
    "print(\"Simple Game Mean (p = 0.75): \",simGamesSimp.mean() )\n",
    "print(\"Game Mean (p = 0.75): \",simGames.mean() )"
   ]
  },
  {
   "cell_type": "markdown",
   "metadata": {},
   "source": [
    "The simulations with the more complicated scoring/game has a much broader and higher distribution (mean score = 134), while the simple game is clustered more tightly around a lower mean (mean score = 94). The shape of the more complicated game's distribution is becoming more normal, likely because the probability of the other rules and scoring applying to any game is much higher so the set of factors determing the final score is more complicated. Both distributions are still well below the maximum score of 300. Clearly the probability mass is being redistributed over a wider range according to the more complicated rules, such that there is no longer a tight clustering of the mass about the mean score. "
   ]
  },
  {
   "cell_type": "markdown",
   "metadata": {},
   "source": [
    "<br>\n",
    "\n",
    "---\n",
    "[Back to top](#top)\n",
    "<a id='p2'></a>\n",
    "\n",
    "### [25 points] Problem 2: Absenteeism at work\n",
    "\n",
    "The data set [`Absenteeism_at_work.csv`](https://piazza.com/class_profile/get_resource/jhaqogsdelf76h/jjd2ujdkm674tf) (linked here, and on Piazza) examines a variety of factors surrounding employees at a courier in Brazil between 2007 and 2010. The data include characteristics of the employees like education, age, number of children and pets, and so on, as well as the amount of time absent from work (hours) each occurrence. A file describing the data set is available from the UC Irvine repository, as well as [linked on Piazza](https://piazza.com/class_profile/get_resource/jhaqogsdelf76h/jjd2uj0fzds4t9) under Resources, alongside the data set.\n",
    "\n",
    "**Part A**:  Load the data set `Absenteeism_at_work.csv` as a Pandas data frame and use Pandas rename all of the columns to concise, descriptive, single-word column titles. Use Pandas built-in methods to display the first few rows and the column titles of your new and improved data frame."
   ]
  },
  {
   "cell_type": "code",
   "execution_count": 9,
   "metadata": {},
   "outputs": [
    {
     "name": "stdout",
     "output_type": "stream",
     "text": [
      "['ID', 'Reason for absence', 'Month of absence', 'Day of the week', 'Seasons', 'Transportation expense', 'Distance from Residence to Work', 'Service time', 'Age', 'Work load Average/day ', 'Hit target', 'Disciplinary failure', 'Education', 'Son', 'Social drinker', 'Social smoker', 'Pet', 'Weight', 'Height', 'Body mass index', 'Absenteeism time in hours']\n"
     ]
    }
   ],
   "source": [
    "file = \"https://piazza.com/class_profile/get_resource/jhaqogsdelf76h/jjd2ujdkm674tf\"\n",
    "df = pd.read_csv(file, delimiter = ';')\n",
    "df.head()\n",
    "columns = df.columns.values.tolist()\n",
    "print(columns)"
   ]
  },
  {
   "cell_type": "code",
   "execution_count": 10,
   "metadata": {},
   "outputs": [
    {
     "name": "stdout",
     "output_type": "stream",
     "text": [
      "DataFrame with Simplified Column Titles:\n"
     ]
    },
    {
     "data": {
      "text/html": [
       "<div>\n",
       "<style scoped>\n",
       "    .dataframe tbody tr th:only-of-type {\n",
       "        vertical-align: middle;\n",
       "    }\n",
       "\n",
       "    .dataframe tbody tr th {\n",
       "        vertical-align: top;\n",
       "    }\n",
       "\n",
       "    .dataframe thead th {\n",
       "        text-align: right;\n",
       "    }\n",
       "</style>\n",
       "<table border=\"1\" class=\"dataframe\">\n",
       "  <thead>\n",
       "    <tr style=\"text-align: right;\">\n",
       "      <th></th>\n",
       "      <th>ID</th>\n",
       "      <th>Reason</th>\n",
       "      <th>Month</th>\n",
       "      <th>Weekday</th>\n",
       "      <th>Seasons</th>\n",
       "      <th>Transportation</th>\n",
       "      <th>Distance</th>\n",
       "      <th>Service</th>\n",
       "      <th>Age</th>\n",
       "      <th>Work/Day</th>\n",
       "      <th>...</th>\n",
       "      <th>Disciplinary</th>\n",
       "      <th>Education</th>\n",
       "      <th>Son</th>\n",
       "      <th>Drinker</th>\n",
       "      <th>Smoker</th>\n",
       "      <th>Pet</th>\n",
       "      <th>Weight</th>\n",
       "      <th>Height</th>\n",
       "      <th>BMI</th>\n",
       "      <th>Absenteeism</th>\n",
       "    </tr>\n",
       "  </thead>\n",
       "  <tbody>\n",
       "    <tr>\n",
       "      <th>0</th>\n",
       "      <td>11</td>\n",
       "      <td>26</td>\n",
       "      <td>7</td>\n",
       "      <td>3</td>\n",
       "      <td>1</td>\n",
       "      <td>289</td>\n",
       "      <td>36</td>\n",
       "      <td>13</td>\n",
       "      <td>33</td>\n",
       "      <td>239.554</td>\n",
       "      <td>...</td>\n",
       "      <td>0</td>\n",
       "      <td>1</td>\n",
       "      <td>2</td>\n",
       "      <td>1</td>\n",
       "      <td>0</td>\n",
       "      <td>1</td>\n",
       "      <td>90</td>\n",
       "      <td>172</td>\n",
       "      <td>30</td>\n",
       "      <td>4</td>\n",
       "    </tr>\n",
       "    <tr>\n",
       "      <th>1</th>\n",
       "      <td>36</td>\n",
       "      <td>0</td>\n",
       "      <td>7</td>\n",
       "      <td>3</td>\n",
       "      <td>1</td>\n",
       "      <td>118</td>\n",
       "      <td>13</td>\n",
       "      <td>18</td>\n",
       "      <td>50</td>\n",
       "      <td>239.554</td>\n",
       "      <td>...</td>\n",
       "      <td>1</td>\n",
       "      <td>1</td>\n",
       "      <td>1</td>\n",
       "      <td>1</td>\n",
       "      <td>0</td>\n",
       "      <td>0</td>\n",
       "      <td>98</td>\n",
       "      <td>178</td>\n",
       "      <td>31</td>\n",
       "      <td>0</td>\n",
       "    </tr>\n",
       "    <tr>\n",
       "      <th>2</th>\n",
       "      <td>3</td>\n",
       "      <td>23</td>\n",
       "      <td>7</td>\n",
       "      <td>4</td>\n",
       "      <td>1</td>\n",
       "      <td>179</td>\n",
       "      <td>51</td>\n",
       "      <td>18</td>\n",
       "      <td>38</td>\n",
       "      <td>239.554</td>\n",
       "      <td>...</td>\n",
       "      <td>0</td>\n",
       "      <td>1</td>\n",
       "      <td>0</td>\n",
       "      <td>1</td>\n",
       "      <td>0</td>\n",
       "      <td>0</td>\n",
       "      <td>89</td>\n",
       "      <td>170</td>\n",
       "      <td>31</td>\n",
       "      <td>2</td>\n",
       "    </tr>\n",
       "    <tr>\n",
       "      <th>3</th>\n",
       "      <td>7</td>\n",
       "      <td>7</td>\n",
       "      <td>7</td>\n",
       "      <td>5</td>\n",
       "      <td>1</td>\n",
       "      <td>279</td>\n",
       "      <td>5</td>\n",
       "      <td>14</td>\n",
       "      <td>39</td>\n",
       "      <td>239.554</td>\n",
       "      <td>...</td>\n",
       "      <td>0</td>\n",
       "      <td>1</td>\n",
       "      <td>2</td>\n",
       "      <td>1</td>\n",
       "      <td>1</td>\n",
       "      <td>0</td>\n",
       "      <td>68</td>\n",
       "      <td>168</td>\n",
       "      <td>24</td>\n",
       "      <td>4</td>\n",
       "    </tr>\n",
       "    <tr>\n",
       "      <th>4</th>\n",
       "      <td>11</td>\n",
       "      <td>23</td>\n",
       "      <td>7</td>\n",
       "      <td>5</td>\n",
       "      <td>1</td>\n",
       "      <td>289</td>\n",
       "      <td>36</td>\n",
       "      <td>13</td>\n",
       "      <td>33</td>\n",
       "      <td>239.554</td>\n",
       "      <td>...</td>\n",
       "      <td>0</td>\n",
       "      <td>1</td>\n",
       "      <td>2</td>\n",
       "      <td>1</td>\n",
       "      <td>0</td>\n",
       "      <td>1</td>\n",
       "      <td>90</td>\n",
       "      <td>172</td>\n",
       "      <td>30</td>\n",
       "      <td>2</td>\n",
       "    </tr>\n",
       "  </tbody>\n",
       "</table>\n",
       "<p>5 rows × 21 columns</p>\n",
       "</div>"
      ],
      "text/plain": [
       "   ID  Reason  Month  Weekday  Seasons  Transportation  Distance  Service  \\\n",
       "0  11      26      7        3        1             289        36       13   \n",
       "1  36       0      7        3        1             118        13       18   \n",
       "2   3      23      7        4        1             179        51       18   \n",
       "3   7       7      7        5        1             279         5       14   \n",
       "4  11      23      7        5        1             289        36       13   \n",
       "\n",
       "   Age  Work/Day     ...       Disciplinary  Education  Son  Drinker  Smoker  \\\n",
       "0   33   239.554     ...                  0          1    2        1       0   \n",
       "1   50   239.554     ...                  1          1    1        1       0   \n",
       "2   38   239.554     ...                  0          1    0        1       0   \n",
       "3   39   239.554     ...                  0          1    2        1       1   \n",
       "4   33   239.554     ...                  0          1    2        1       0   \n",
       "\n",
       "   Pet  Weight  Height  BMI  Absenteeism  \n",
       "0    1      90     172   30            4  \n",
       "1    0      98     178   31            0  \n",
       "2    0      89     170   31            2  \n",
       "3    0      68     168   24            4  \n",
       "4    1      90     172   30            2  \n",
       "\n",
       "[5 rows x 21 columns]"
      ]
     },
     "execution_count": 10,
     "metadata": {},
     "output_type": "execute_result"
    }
   ],
   "source": [
    "print('DataFrame with Simplified Column Titles:')\n",
    "rename = {'Reason for absence': 'Reason','Month of absence':'Month', 'Day of the week':'Weekday','Transportation expense':'Transportation','Distance from Residence to Work':\"Distance\",'Service time':'Service','Work load Average/day ': 'Work/Day','Hit target':'Hit','Disciplinary failure':'Disciplinary', 'Social drinker':'Drinker', 'Social smoker': 'Smoker', 'Body mass index': 'BMI','Absenteeism time in hours':'Absenteeism'   }\n",
    "df = df.rename(index=str, columns=rename)\n",
    "df.head()"
   ]
  },
  {
   "cell_type": "markdown",
   "metadata": {},
   "source": [
    "**Part B**: Is any one day of the week more/less likely for employees to be absent at work on that day? Fully justify your response using statistical techniques from this class."
   ]
  },
  {
   "cell_type": "markdown",
   "metadata": {},
   "source": [
    "**Solution Part B**\n",
    "\n",
    "For the first part, will test whether we can reject the null hypothesis, where the null hypothesis is that the average hours absentee (absenteeism column) for all the days are equal. To test this will use a one way ANOVA. For the ANOVA our null and alternative hypothesis are:\n",
    "\n",
    "$H_0 : \\mu_2 = \\mu_3 =\\mu_4 = \\mu_5 = \\mu_6$\n",
    "\n",
    "$H_1 : \\mu_i \\neq \\mu_j $ for some pair of days i and j $\\in \\{2,3,4,5,6\\}$\n",
    "\n",
    "Will test at the $\\alpha = 0.05$ significance level. "
   ]
  },
  {
   "cell_type": "code",
   "execution_count": 11,
   "metadata": {},
   "outputs": [
    {
     "name": "stdout",
     "output_type": "stream",
     "text": [
      "F = 3.27082\n",
      "pval = 0.01135\n"
     ]
    }
   ],
   "source": [
    "possibleDays = df.Weekday.unique()\n",
    "allDays = {}\n",
    "means = []\n",
    "for day in possibleDays:\n",
    "    dfDay = df.loc[df['Weekday']==day]['Absenteeism']\n",
    "    allDays[day] = dfDay\n",
    "    means.append((day, dfDay.mean()))\n",
    "\n",
    "F, pval = stats.f_oneway(allDays[2],allDays[3],allDays[4],allDays[5],allDays[6])\n",
    "print(\"F = {:.5f}\".format(F))\n",
    "print(\"pval = {:.5f}\".format(pval))"
   ]
  },
  {
   "cell_type": "markdown",
   "metadata": {},
   "source": [
    "Since the p-value above is less than our $\\alpha$ then we can reject the null hypothesis that the mean absentee hours per day is the same for all the days. However, this does not tell us which day(s) is(are) significantly different. To find the significantly different pairs of day(s) will use Tukey's HST."
   ]
  },
  {
   "cell_type": "code",
   "execution_count": 12,
   "metadata": {},
   "outputs": [],
   "source": [
    "from statsmodels.stats.multicomp import MultiComparison"
   ]
  },
  {
   "cell_type": "code",
   "execution_count": 13,
   "metadata": {},
   "outputs": [
    {
     "name": "stdout",
     "output_type": "stream",
     "text": [
      "Multiple Comparison of Means - Tukey HSD,FWER=0.05\n",
      "=============================================\n",
      "group1 group2 meandiff  lower   upper  reject\n",
      "---------------------------------------------\n",
      "  2      3    -1.2679  -5.3519  2.816  False \n",
      "  2      4     -2.101  -6.1716  1.9695 False \n",
      "  2      5    -4.8244  -9.1437 -0.5051  True \n",
      "  2      6    -4.1234  -8.2792  0.0323 False \n",
      "  3      4    -0.8331  -4.9489  3.2827 False \n",
      "  3      5    -3.5565  -7.9185  0.8055 False \n",
      "  3      6    -2.8555  -7.0557  1.3446 False \n",
      "  4      5    -2.7234  -7.0729  1.626  False \n",
      "  4      6    -2.0224  -6.2096  2.1647 False \n",
      "  5      6     0.701   -3.7283  5.1303 False \n",
      "---------------------------------------------\n"
     ]
    }
   ],
   "source": [
    "labels = []\n",
    "data = []\n",
    "for day in allDays:\n",
    "    labels += [day]*allDays[day].count()\n",
    "    for x in allDays[day]:\n",
    "        data.append(x)\n",
    "\n",
    "mc = MultiComparison(data, labels)\n",
    "result = mc.tukeyhsd()\n",
    "print(result)"
   ]
  },
  {
   "cell_type": "markdown",
   "metadata": {},
   "source": [
    "Will perform a z-test for each individual day against the mean of all the others at the $\\alpha = 0.10$ level (two-tailed). Expect that day 2 or 5 may be significantly different than the rest if you include the other one in the population. Some of the other days may also be significantly different, like 6 which has a the third largest difference of all the comparisons when compared to 2. \n",
    "\n",
    "$H_0 : \\mu_{day} - \\mu_{otherDays} = 0$\n",
    "\n",
    "$H_1 : \\mu_{day} - \\mu_{otherDays} \\neq 0$"
   ]
  },
  {
   "cell_type": "code",
   "execution_count": 14,
   "metadata": {},
   "outputs": [
    {
     "name": "stdout",
     "output_type": "stream",
     "text": [
      "Weekday:  3 \n",
      "P-value:  0.19\n",
      "Significantly Different?:  False\n",
      "Weekday:  4 \n",
      "P-value:  0.41\n",
      "Significantly Different?:  False\n",
      "Weekday:  5 \n",
      "P-value:  0.0\n",
      "Significantly Different?:  True\n",
      "Significantly Larger or Smaller?: Smaller\n",
      "Weekday:  6 \n",
      "P-value:  0.01\n",
      "Significantly Different?:  True\n",
      "Significantly Larger or Smaller?: Smaller\n",
      "Weekday:  2 \n",
      "P-value:  0.01\n",
      "Significantly Different?:  True\n",
      "Significantly Larger or Smaller?: Larger\n"
     ]
    }
   ],
   "source": [
    "alpha = 0.10\n",
    "for day in allDays:\n",
    "    populationMean = df.loc[df['Weekday'] != day]['Absenteeism'].mean()\n",
    "    populationSTDEV = df.loc[df['Weekday'] != day]['Absenteeism'].std()\n",
    "    n = len(df.loc[df['Weekday'] != day])\n",
    "    z = (np.mean(allDays[day])-populationMean)/np.sqrt(np.std(allDays[day])**2/len(allDays[day])+populationSTDEV**2/n)\n",
    "    pval = stats.norm.cdf(z)\n",
    "    minPval = min(pval, 1-pval)\n",
    "    Upper = minPval == 1-pval\n",
    "    significant = minPval <= alpha/2\n",
    "    print('Weekday: ', day,  '\\nP-value: ', round(minPval,2))\n",
    "    print('Significantly Different?: ', significant)\n",
    "    if significant:\n",
    "        if Upper:\n",
    "            print('Significantly Larger or Smaller?: Larger')\n",
    "        else:\n",
    "            print('Significantly Larger or Smaller?: Smaller')"
   ]
  },
  {
   "cell_type": "markdown",
   "metadata": {},
   "source": [
    "So, comparing each one individually to all the rest using two-tailed z-tests with a significance level of $\\alpha = 0.10$, days 2, 5, and 6 are significantly different as shown above. However, the data seems to follow a trend, so splitting up the data in this way loses that information. Day of week and average absenteeism seem to be negatively correlated (see the plot below). Looking at this plot, day 5 seems significantly different since it deviates most from the trendline. "
   ]
  },
  {
   "cell_type": "code",
   "execution_count": 15,
   "metadata": {},
   "outputs": [
    {
     "data": {
      "image/png": "[encoded data removed]",
      "text/plain": [
       "<Figure size 432x288 with 1 Axes>"
      ]
     },
     "metadata": {},
     "output_type": "display_data"
    }
   ],
   "source": [
    "results = stats.linregress([x[0] for x in means], [x[1] for x in means])\n",
    "plt.plot([x[0] for x in means], [(results[0]*x[0]+results[1]) for x in means], label = 'y = -1.2x + 11.5', color = 'black')\n",
    "plt.scatter([x[0] for x in means], [x[1] for x in means], marker = 's')\n",
    "plt.xlabel('Day of Week')\n",
    "plt.ylabel('Average Absenteeism (hrs)')\n",
    "plt.title('Average Absenteeism vs. Weekday')\n",
    "plt.legend()\n",
    "plt.show();"
   ]
  },
  {
   "cell_type": "markdown",
   "metadata": {},
   "source": [
    "**Part C**: How many distinct employees are represented in the data set? Show in Python how you calculated this (opening and counting in Excel or a text editor is not an option)."
   ]
  },
  {
   "cell_type": "code",
   "execution_count": 16,
   "metadata": {},
   "outputs": [
    {
     "name": "stdout",
     "output_type": "stream",
     "text": [
      "Number of unique employee IDs:  36\n"
     ]
    }
   ],
   "source": [
    "uniqueIDs = df.ID.unique()\n",
    "print(\"Number of unique employee IDs: \", len(uniqueIDs))"
   ]
  },
  {
   "cell_type": "markdown",
   "metadata": {},
   "source": [
    "**Part D**: Create a new data frame with only one row corresponding to each employee. Include the original employee ID, as well as these columns, that we might want to investigate further:\n",
    "* total number of absences\n",
    "* total time of absences\n",
    "* distance to work\n",
    "* age\n",
    "* number of children\n",
    "* whether they are a social drinker\n",
    "* whether they are a social smoker\n",
    "* number of pets"
   ]
  },
  {
   "cell_type": "code",
   "execution_count": 17,
   "metadata": {},
   "outputs": [
    {
     "data": {
      "text/html": [
       "<div>\n",
       "<style scoped>\n",
       "    .dataframe tbody tr th:only-of-type {\n",
       "        vertical-align: middle;\n",
       "    }\n",
       "\n",
       "    .dataframe tbody tr th {\n",
       "        vertical-align: top;\n",
       "    }\n",
       "\n",
       "    .dataframe thead th {\n",
       "        text-align: right;\n",
       "    }\n",
       "</style>\n",
       "<table border=\"1\" class=\"dataframe\">\n",
       "  <thead>\n",
       "    <tr style=\"text-align: right;\">\n",
       "      <th></th>\n",
       "      <th>ID</th>\n",
       "      <th>TotAbsences</th>\n",
       "      <th>SumAbsences</th>\n",
       "      <th>Distance</th>\n",
       "      <th>Age</th>\n",
       "      <th>Children</th>\n",
       "      <th>Drinker</th>\n",
       "      <th>Smoker</th>\n",
       "      <th>Pets</th>\n",
       "    </tr>\n",
       "  </thead>\n",
       "  <tbody>\n",
       "    <tr>\n",
       "      <th>0</th>\n",
       "      <td>11</td>\n",
       "      <td>38</td>\n",
       "      <td>450</td>\n",
       "      <td>36.0</td>\n",
       "      <td>33.0</td>\n",
       "      <td>2.0</td>\n",
       "      <td>1.0</td>\n",
       "      <td>0.0</td>\n",
       "      <td>1.0</td>\n",
       "    </tr>\n",
       "    <tr>\n",
       "      <th>1</th>\n",
       "      <td>36</td>\n",
       "      <td>28</td>\n",
       "      <td>311</td>\n",
       "      <td>13.0</td>\n",
       "      <td>50.0</td>\n",
       "      <td>1.0</td>\n",
       "      <td>1.0</td>\n",
       "      <td>0.0</td>\n",
       "      <td>0.0</td>\n",
       "    </tr>\n",
       "    <tr>\n",
       "      <th>2</th>\n",
       "      <td>3</td>\n",
       "      <td>112</td>\n",
       "      <td>482</td>\n",
       "      <td>51.0</td>\n",
       "      <td>38.0</td>\n",
       "      <td>0.0</td>\n",
       "      <td>1.0</td>\n",
       "      <td>0.0</td>\n",
       "      <td>0.0</td>\n",
       "    </tr>\n",
       "    <tr>\n",
       "      <th>3</th>\n",
       "      <td>7</td>\n",
       "      <td>4</td>\n",
       "      <td>30</td>\n",
       "      <td>5.0</td>\n",
       "      <td>39.0</td>\n",
       "      <td>2.0</td>\n",
       "      <td>1.0</td>\n",
       "      <td>1.0</td>\n",
       "      <td>0.0</td>\n",
       "    </tr>\n",
       "    <tr>\n",
       "      <th>4</th>\n",
       "      <td>10</td>\n",
       "      <td>24</td>\n",
       "      <td>186</td>\n",
       "      <td>52.0</td>\n",
       "      <td>28.0</td>\n",
       "      <td>1.0</td>\n",
       "      <td>1.0</td>\n",
       "      <td>0.0</td>\n",
       "      <td>4.0</td>\n",
       "    </tr>\n",
       "  </tbody>\n",
       "</table>\n",
       "</div>"
      ],
      "text/plain": [
       "   ID  TotAbsences  SumAbsences  Distance   Age  Children  Drinker  Smoker  \\\n",
       "0  11           38          450      36.0  33.0       2.0      1.0     0.0   \n",
       "1  36           28          311      13.0  50.0       1.0      1.0     0.0   \n",
       "2   3          112          482      51.0  38.0       0.0      1.0     0.0   \n",
       "3   7            4           30       5.0  39.0       2.0      1.0     1.0   \n",
       "4  10           24          186      52.0  28.0       1.0      1.0     0.0   \n",
       "\n",
       "   Pets  \n",
       "0   1.0  \n",
       "1   0.0  \n",
       "2   0.0  \n",
       "3   0.0  \n",
       "4   4.0  "
      ]
     },
     "execution_count": 17,
     "metadata": {},
     "output_type": "execute_result"
    }
   ],
   "source": [
    "simpleDict = {'ID':uniqueIDs, 'TotAbsences':[], 'SumAbsences':[], \"Distance\":[], 'Age':[], 'Children':[], 'Drinker':[], \"Smoker\":[], \"Pets\":[]}\n",
    "keys = list(simpleDict.keys())[1:]\n",
    "\n",
    "for ID in uniqueIDs:\n",
    "    currEmp = df.loc[df['ID'] == ID]\n",
    "    #print(currEmp['Distance'])\n",
    "    currEmpDetails = (sum(currEmp['Absenteeism'] > 0), sum(currEmp['Absenteeism']), currEmp['Distance'].mean(), currEmp['Age'].mean(),  currEmp['Son'].mean(), currEmp['Drinker'].mean(), currEmp['Smoker'].mean(), currEmp['Pet'].mean())\n",
    "    for i,key in enumerate(keys):\n",
    "        simpleDict[key].append(currEmpDetails[i])\n",
    "#print(simpleDict)\n",
    "dfSimple = pd.DataFrame(simpleDict, index = list(range(36)))\n",
    "dfSimple.head()"
   ]
  },
  {
   "cell_type": "markdown",
   "metadata": {},
   "source": [
    "**Part E:**  One might hypothesize that employees with pets would be absent from work more often than employees without pets. Use an appropriate statistical technique to obtain 95% confidence interval for the difference in mean total time absent for the employees with pets and those without pets. What can you conclude?"
   ]
  },
  {
   "cell_type": "markdown",
   "metadata": {},
   "source": [
    "**Solution Part E:**\n",
    "\n",
    "Will need to compare the set of employees with pet to those without. Since the size of these susbets is likely less than 30 each since there are only 36 unique employees (confirmed below, see output), will use a t-value to compute our 95% CI.\n",
    "\n",
    "$$CI = (\\mu_{pets}-\\mu_{noPets}) \\pm t  \\sqrt{\\sigma_{pets}^2/n_{pets} + \\sigma_{noPets}^2/n_{noPets}}$$\n"
   ]
  },
  {
   "cell_type": "code",
   "execution_count": 18,
   "metadata": {},
   "outputs": [
    {
     "name": "stdout",
     "output_type": "stream",
     "text": [
      "Pet Subset Size:  17\n",
      "No Pet Subset Size:  19\n",
      "95% Confidence Interval: [ -148.6 , 51.27 ]\n"
     ]
    }
   ],
   "source": [
    "alpha = 0.05\n",
    "dfPets = dfSimple.loc[dfSimple['Pets'] > 0]\n",
    "dfNoPets = dfSimple.loc[dfSimple['Pets'] == 0]\n",
    "muPets = dfPets['SumAbsences'].mean()\n",
    "muNoPets = dfNoPets['SumAbsences'].mean()\n",
    "sPets = dfPets['SumAbsences'].std()\n",
    "sNoPets = dfNoPets['SumAbsences'].std()\n",
    "nPets = len(dfPets)\n",
    "nNoPets = len(dfNoPets)\n",
    "print(\"Pet Subset Size: \", nPets)\n",
    "print(\"No Pet Subset Size: \", nNoPets)\n",
    "t = stats.t.ppf(1-alpha/2, (nPets-1 + nNoPets -1))\n",
    "L,U = (muPets-muNoPets) - t*np.sqrt(sPets**2/nPets + sNoPets**2/nNoPets), (muPets-muNoPets) + t*np.sqrt(sPets**2/nPets + sNoPets**2/nNoPets)\n",
    "\n",
    "\n",
    "print(\"95% Confidence Interval: [\", round(L,2),\",\",round(U,2), \"]\")"
   ]
  },
  {
   "cell_type": "markdown",
   "metadata": {},
   "source": [
    "From our 95% CI interval we cannot conclude that there is a significant difference in mean hours absent from work between employees who own pets and those who do not. Since the CI interval contains 0, the interval contains the possibility that $\\mu_{pets}=\\mu_{noPets}$."
   ]
  },
  {
   "cell_type": "markdown",
   "metadata": {},
   "source": [
    "<br>\n",
    "\n",
    "---\n",
    "[Back to top](#top)\n",
    "<a id='p3'></a>\n",
    "\n",
    "### [30 points] Problem 3: Sharknado Prediction\n",
    "\n",
    "Governor Hickenlooper has charged you with the task of assessing the factors associated with sharknado risk in Colorado. As everyone knows, sharknadoes are a leading cause of sharknado-related illness, and you are a world-renowned data/shark scientist.\n",
    "\n",
    "You decide to use multiple linear regression to understand and predict what factors lead to increased sharknado hazard. Your lead scientist, aptly named Fin, has collected lots of relevant data at a local sharknado hotspot, the Boulder Reservoir[\\*](#footnote). The data cover a variety of sharknado-related environmental and other conditions, and you'll find this data in the file [`sharknadoes.csv`](https://piazza.com/class_profile/get_resource/jhaqogsdelf76h/jjd2uiqgi2l4t6) (linked here, and on Piazza). \n",
    "\n",
    "**Response**: \n",
    "\n",
    "- $\\texttt{sharknado hazard}$: the hazard of a sharknado, where 1 is very unlikely and 100 is highly likely\n",
    "\n",
    "**Features**: \n",
    "\n",
    "- $\\texttt{temperature}$: the outside temperature, measured in degrees Fahrenheit\n",
    "- $\\texttt{clouds}$: what percentage of the sky was covered by clouds (fraction, 0-1)\n",
    "- $\\texttt{humidity}$: relative humidity (percent, 0-100)\n",
    "- $\\texttt{pressure}$: local air pressure (millibar)\n",
    "- $\\texttt{earthquake}$: the intensity of the most recent earthquake measured in the continental United States\n",
    "- $\\texttt{taunts}$: the number of times over the past year that someone has taunted a shark\n",
    "- $\\texttt{ice cream sold}$: the number of units of ice cream sold at the beach concession stand \n",
    "- $\\texttt{shark attacks}$: the number of shark attacks on the day of observation"
   ]
  },
  {
   "cell_type": "markdown",
   "metadata": {},
   "source": [
    "**Part A**: Read the data from `sharknadoes.csv` into a Pandas DataFrame.  Note that since we will be doing a multiple linear regression we will need all of the features, so you should drop any row in the DataFrame that is missing data. "
   ]
  },
  {
   "cell_type": "code",
   "execution_count": 19,
   "metadata": {},
   "outputs": [
    {
     "data": {
      "text/html": [
       "<div>\n",
       "<style scoped>\n",
       "    .dataframe tbody tr th:only-of-type {\n",
       "        vertical-align: middle;\n",
       "    }\n",
       "\n",
       "    .dataframe tbody tr th {\n",
       "        vertical-align: top;\n",
       "    }\n",
       "\n",
       "    .dataframe thead th {\n",
       "        text-align: right;\n",
       "    }\n",
       "</style>\n",
       "<table border=\"1\" class=\"dataframe\">\n",
       "  <thead>\n",
       "    <tr style=\"text-align: right;\">\n",
       "      <th></th>\n",
       "      <th>temperature</th>\n",
       "      <th>clouds</th>\n",
       "      <th>humidity</th>\n",
       "      <th>pressure</th>\n",
       "      <th>earthquake</th>\n",
       "      <th>taunts</th>\n",
       "      <th>shark attacks</th>\n",
       "      <th>ice cream sold</th>\n",
       "      <th>sharknado hazard</th>\n",
       "    </tr>\n",
       "  </thead>\n",
       "  <tbody>\n",
       "    <tr>\n",
       "      <th>0</th>\n",
       "      <td>78.0</td>\n",
       "      <td>1.00</td>\n",
       "      <td>86.41</td>\n",
       "      <td>847.12</td>\n",
       "      <td>7.1</td>\n",
       "      <td>15.0</td>\n",
       "      <td>2.0</td>\n",
       "      <td>273.0</td>\n",
       "      <td>40.22</td>\n",
       "    </tr>\n",
       "    <tr>\n",
       "      <th>1</th>\n",
       "      <td>89.0</td>\n",
       "      <td>1.00</td>\n",
       "      <td>96.67</td>\n",
       "      <td>844.34</td>\n",
       "      <td>7.4</td>\n",
       "      <td>20.0</td>\n",
       "      <td>4.0</td>\n",
       "      <td>184.0</td>\n",
       "      <td>36.42</td>\n",
       "    </tr>\n",
       "    <tr>\n",
       "      <th>2</th>\n",
       "      <td>65.0</td>\n",
       "      <td>1.00</td>\n",
       "      <td>53.85</td>\n",
       "      <td>839.48</td>\n",
       "      <td>7.0</td>\n",
       "      <td>0.0</td>\n",
       "      <td>9.0</td>\n",
       "      <td>141.0</td>\n",
       "      <td>19.54</td>\n",
       "    </tr>\n",
       "    <tr>\n",
       "      <th>3</th>\n",
       "      <td>36.0</td>\n",
       "      <td>0.13</td>\n",
       "      <td>88.72</td>\n",
       "      <td>851.28</td>\n",
       "      <td>7.9</td>\n",
       "      <td>34.0</td>\n",
       "      <td>2.0</td>\n",
       "      <td>146.0</td>\n",
       "      <td>85.00</td>\n",
       "    </tr>\n",
       "    <tr>\n",
       "      <th>4</th>\n",
       "      <td>72.0</td>\n",
       "      <td>1.00</td>\n",
       "      <td>63.08</td>\n",
       "      <td>852.67</td>\n",
       "      <td>7.5</td>\n",
       "      <td>6.0</td>\n",
       "      <td>2.0</td>\n",
       "      <td>178.0</td>\n",
       "      <td>56.34</td>\n",
       "    </tr>\n",
       "  </tbody>\n",
       "</table>\n",
       "</div>"
      ],
      "text/plain": [
       "   temperature  clouds  humidity  pressure  earthquake  taunts  shark attacks  \\\n",
       "0         78.0    1.00     86.41    847.12         7.1    15.0            2.0   \n",
       "1         89.0    1.00     96.67    844.34         7.4    20.0            4.0   \n",
       "2         65.0    1.00     53.85    839.48         7.0     0.0            9.0   \n",
       "3         36.0    0.13     88.72    851.28         7.9    34.0            2.0   \n",
       "4         72.0    1.00     63.08    852.67         7.5     6.0            2.0   \n",
       "\n",
       "   ice cream sold  sharknado hazard  \n",
       "0           273.0             40.22  \n",
       "1           184.0             36.42  \n",
       "2           141.0             19.54  \n",
       "3           146.0             85.00  \n",
       "4           178.0             56.34  "
      ]
     },
     "execution_count": 19,
     "metadata": {},
     "output_type": "execute_result"
    }
   ],
   "source": [
    "dfSharks = pd.read_csv('https://piazza.com/class_profile/get_resource/jhaqogsdelf76h/jjd2uiqgi2l4t6')\n",
    "#no rows are missing data\n",
    "dfSharks.head()"
   ]
  },
  {
   "cell_type": "markdown",
   "metadata": {},
   "source": [
    "**Part B**: Perform the appropriate statistical test at the $\\alpha = 0.01$ significance level to determine if _at least one_ of the features is related to the the response $y$.  Clearly describe your methodology and show all computations in Python. "
   ]
  },
  {
   "cell_type": "markdown",
   "metadata": {},
   "source": [
    "**Solution Part B**\n",
    "\n",
    "Will perform an F-test by fitting our data to an ordinary least squares model. The hypotheses we're testing for our p different features are:\n",
    "\n",
    "$H_0 : \\beta_1 = \\beta_2 =... =\\beta_p = 0$\n",
    "\n",
    "$H_1 : \\beta_i \\neq 0 $ for some feature i\n",
    "\n",
    "If the probability associated with the F-statistics is $\\leq \\alpha$ then at least one feature is significantly related to the response. "
   ]
  },
  {
   "cell_type": "code",
   "execution_count": 20,
   "metadata": {},
   "outputs": [
    {
     "data": {
      "text/html": [
       "<table class=\"simpletable\">\n",
       "<caption>OLS Regression Results</caption>\n",
       "<tr>\n",
       "  <th>Dep. Variable:</th>    <td>sharknado hazard</td> <th>  R-squared:         </th> <td>   0.973</td>\n",
       "</tr>\n",
       "<tr>\n",
       "  <th>Model:</th>                   <td>OLS</td>       <th>  Adj. R-squared:    </th> <td>   0.971</td>\n",
       "</tr>\n",
       "<tr>\n",
       "  <th>Method:</th>             <td>Least Squares</td>  <th>  F-statistic:       </th> <td>   347.2</td>\n",
       "</tr>\n",
       "<tr>\n",
       "  <th>Date:</th>             <td>Mon, 10 Sep 2018</td> <th>  Prob (F-statistic):</th> <td>1.44e-56</td>\n",
       "</tr>\n",
       "<tr>\n",
       "  <th>Time:</th>                 <td>14:06:39</td>     <th>  Log-Likelihood:    </th> <td> -209.89</td>\n",
       "</tr>\n",
       "<tr>\n",
       "  <th>No. Observations:</th>      <td>    85</td>      <th>  AIC:               </th> <td>   437.8</td>\n",
       "</tr>\n",
       "<tr>\n",
       "  <th>Df Residuals:</th>          <td>    76</td>      <th>  BIC:               </th> <td>   459.8</td>\n",
       "</tr>\n",
       "<tr>\n",
       "  <th>Df Model:</th>              <td>     8</td>      <th>                     </th>     <td> </td>   \n",
       "</tr>\n",
       "<tr>\n",
       "  <th>Covariance Type:</th>      <td>nonrobust</td>    <th>                     </th>     <td> </td>   \n",
       "</tr>\n",
       "</table>\n",
       "<table class=\"simpletable\">\n",
       "<tr>\n",
       "         <td></td>           <th>coef</th>     <th>std err</th>      <th>t</th>      <th>P>|t|</th>  <th>[0.025</th>    <th>0.975]</th>  \n",
       "</tr>\n",
       "<tr>\n",
       "  <th>const</th>          <td>-2547.5254</td> <td>   59.894</td> <td>  -42.534</td> <td> 0.000</td> <td>-2666.815</td> <td>-2428.236</td>\n",
       "</tr>\n",
       "<tr>\n",
       "  <th>temperature</th>    <td>   -0.4415</td> <td>    0.046</td> <td>   -9.598</td> <td> 0.000</td> <td>   -0.533</td> <td>   -0.350</td>\n",
       "</tr>\n",
       "<tr>\n",
       "  <th>clouds</th>         <td>   -0.2182</td> <td>    2.356</td> <td>   -0.093</td> <td> 0.926</td> <td>   -4.911</td> <td>    4.475</td>\n",
       "</tr>\n",
       "<tr>\n",
       "  <th>humidity</th>       <td>    0.0134</td> <td>    0.023</td> <td>    0.581</td> <td> 0.563</td> <td>   -0.033</td> <td>    0.060</td>\n",
       "</tr>\n",
       "<tr>\n",
       "  <th>pressure</th>       <td>    3.0696</td> <td>    0.071</td> <td>   43.021</td> <td> 0.000</td> <td>    2.927</td> <td>    3.212</td>\n",
       "</tr>\n",
       "<tr>\n",
       "  <th>earthquake</th>     <td>    2.2193</td> <td>    0.419</td> <td>    5.292</td> <td> 0.000</td> <td>    1.384</td> <td>    3.055</td>\n",
       "</tr>\n",
       "<tr>\n",
       "  <th>taunts</th>         <td>    0.3091</td> <td>    0.036</td> <td>    8.533</td> <td> 0.000</td> <td>    0.237</td> <td>    0.381</td>\n",
       "</tr>\n",
       "<tr>\n",
       "  <th>shark attacks</th>  <td>   -0.0336</td> <td>    0.136</td> <td>   -0.247</td> <td> 0.806</td> <td>   -0.305</td> <td>    0.237</td>\n",
       "</tr>\n",
       "<tr>\n",
       "  <th>ice cream sold</th> <td>    0.0068</td> <td>    0.007</td> <td>    0.972</td> <td> 0.334</td> <td>   -0.007</td> <td>    0.021</td>\n",
       "</tr>\n",
       "</table>\n",
       "<table class=\"simpletable\">\n",
       "<tr>\n",
       "  <th>Omnibus:</th>       <td> 0.444</td> <th>  Durbin-Watson:     </th> <td>   2.066</td>\n",
       "</tr>\n",
       "<tr>\n",
       "  <th>Prob(Omnibus):</th> <td> 0.801</td> <th>  Jarque-Bera (JB):  </th> <td>   0.162</td>\n",
       "</tr>\n",
       "<tr>\n",
       "  <th>Skew:</th>          <td> 0.093</td> <th>  Prob(JB):          </th> <td>   0.922</td>\n",
       "</tr>\n",
       "<tr>\n",
       "  <th>Kurtosis:</th>      <td> 3.105</td> <th>  Cond. No.          </th> <td>1.60e+05</td>\n",
       "</tr>\n",
       "</table><br/><br/>Warnings:<br/>[1] Standard Errors assume that the covariance matrix of the errors is correctly specified.<br/>[2] The condition number is large, 1.6e+05. This might indicate that there are<br/>strong multicollinearity or other numerical problems."
      ],
      "text/plain": [
       "<class 'statsmodels.iolib.summary.Summary'>\n",
       "\"\"\"\n",
       "                            OLS Regression Results                            \n",
       "==============================================================================\n",
       "Dep. Variable:       sharknado hazard   R-squared:                       0.973\n",
       "Model:                            OLS   Adj. R-squared:                  0.971\n",
       "Method:                 Least Squares   F-statistic:                     347.2\n",
       "Date:                Mon, 10 Sep 2018   Prob (F-statistic):           1.44e-56\n",
       "Time:                        14:06:39   Log-Likelihood:                -209.89\n",
       "No. Observations:                  85   AIC:                             437.8\n",
       "Df Residuals:                      76   BIC:                             459.8\n",
       "Df Model:                           8                                         \n",
       "Covariance Type:            nonrobust                                         \n",
       "==================================================================================\n",
       "                     coef    std err          t      P>|t|      [0.025      0.975]\n",
       "----------------------------------------------------------------------------------\n",
       "const          -2547.5254     59.894    -42.534      0.000   -2666.815   -2428.236\n",
       "temperature       -0.4415      0.046     -9.598      0.000      -0.533      -0.350\n",
       "clouds            -0.2182      2.356     -0.093      0.926      -4.911       4.475\n",
       "humidity           0.0134      0.023      0.581      0.563      -0.033       0.060\n",
       "pressure           3.0696      0.071     43.021      0.000       2.927       3.212\n",
       "earthquake         2.2193      0.419      5.292      0.000       1.384       3.055\n",
       "taunts             0.3091      0.036      8.533      0.000       0.237       0.381\n",
       "shark attacks     -0.0336      0.136     -0.247      0.806      -0.305       0.237\n",
       "ice cream sold     0.0068      0.007      0.972      0.334      -0.007       0.021\n",
       "==============================================================================\n",
       "Omnibus:                        0.444   Durbin-Watson:                   2.066\n",
       "Prob(Omnibus):                  0.801   Jarque-Bera (JB):                0.162\n",
       "Skew:                           0.093   Prob(JB):                        0.922\n",
       "Kurtosis:                       3.105   Cond. No.                     1.60e+05\n",
       "==============================================================================\n",
       "\n",
       "Warnings:\n",
       "[1] Standard Errors assume that the covariance matrix of the errors is correctly specified.\n",
       "[2] The condition number is large, 1.6e+05. This might indicate that there are\n",
       "strong multicollinearity or other numerical problems.\n",
       "\"\"\""
      ]
     },
     "execution_count": 20,
     "metadata": {},
     "output_type": "execute_result"
    }
   ],
   "source": [
    "y, X = dfSharks[\"sharknado hazard\"], dfSharks.iloc[:,:-1]\n",
    "X = sm.add_constant(X)\n",
    "modelFull = sm.OLS(y, X).fit() \n",
    "modelFull.summary()\n"
   ]
  },
  {
   "cell_type": "markdown",
   "metadata": {},
   "source": [
    "The $Prob(F-statistic) \\approx 0 \\leq 0.01$ so we can reject the null hypothesis and conclude that at least one feature is significant."
   ]
  },
  {
   "cell_type": "markdown",
   "metadata": {},
   "source": [
    "**Part C**: \n",
    "\n",
    "*First,* write a function `forward_select(df, resp_str, maxk)` that takes in the DataFrame, the name of the column corresponding to the response, and the maximum number of desired features, and returns a list of feature names corresponding to the `maxk` most important features via forward selection.  At each stage in forward selection you should add the feature whose inclusion in the model would result in the lowest sum of squared errors $(SSE)$.\n",
    "\n",
    "*Second,* use your function to determine the best $k=4$ features to include in the model. Clearly indicate which feature was added in each stage. \n",
    "\n",
    "**Note**: The point of this exercise is to see if you can implement **foward_select** yourself.  You may of course use canned routines like statmodels OLS, but you may not call any Python method that explicitly performs forward selection."
   ]
  },
  {
   "cell_type": "code",
   "execution_count": 21,
   "metadata": {},
   "outputs": [],
   "source": [
    "#helper function to find SSE from R^2 and SST\n",
    "def getSSE(r_squared, SST):\n",
    "    return (1-r_squared)*SST\n",
    "\n",
    "\n",
    "def forward_select(df, resp_str, maxk):\n",
    "    finalFeatures = ['const'] #store the maxk features whose inclusion result in lowest SSE\n",
    "    \n",
    "    response = df[resp_str] #y values\n",
    "    y_bar = response.mean()\n",
    "    sst = sum([(y - y_bar)**2 for y in response])\n",
    "    \n",
    "    #prepare features\n",
    "    features = df[df.columns.difference([resp_str])]\n",
    "    features = sm.add_constant(features)\n",
    "    featureColumns = features.columns.values.tolist()\n",
    "    \n",
    "    minSSE = sst + 1 #use to find best single feature\n",
    "    bestFeature = ''\n",
    "    #print(featureColumns)\n",
    "    \n",
    "    #SLR for each feature alone\n",
    "    for feature in featureColumns:\n",
    "        X = features.loc[:, feature]\n",
    "        slrCurr = stats.linregress(features[feature],response)\n",
    "        currSSE = getSSE(slrCurr.rvalue**2, sst)\n",
    "        #print(feature, slrCurr.rvalue**2)\n",
    "        if currSSE < minSSE:\n",
    "            minSSE = currSSE\n",
    "            bestFeature = feature\n",
    "    finalFeatures.append(bestFeature)\n",
    "    \n",
    "    #repeat MLR's with remaining features until maxk features in finalFeatures list\n",
    "    while len(finalFeatures)-1 < maxk:\n",
    "        for feature in featureColumns:\n",
    "            if feature not in finalFeatures:\n",
    "                currFeats = finalFeatures.copy()\n",
    "                currFeats.append(feature)\n",
    "                X = features.loc[:, currFeats]\n",
    "                model = sm.OLS(response, X).fit()\n",
    "                #print(feature, model.rsquared)\n",
    "                currSSE = getSSE(model.rsquared, sst)\n",
    "                if currSSE < minSSE: \n",
    "                    minSSE = currSSE\n",
    "                    bestFeature = feature\n",
    "        finalFeatures.append(bestFeature)   \n",
    "    \n",
    "    return finalFeatures[1:maxk+1]\n",
    "\n"
   ]
  },
  {
   "cell_type": "code",
   "execution_count": 22,
   "metadata": {},
   "outputs": [
    {
     "name": "stdout",
     "output_type": "stream",
     "text": [
      "Forward Selection Features: \n",
      "Order:  ['First', 'Second', 'Third', 'Fourth']\n",
      "Features:  ['pressure', 'temperature', 'taunts', 'earthquake']\n"
     ]
    },
    {
     "name": "stderr",
     "output_type": "stream",
     "text": [
      "/Users/astrangedoor/anaconda3/lib/python3.6/site-packages/scipy/stats/_stats_mstats_common.py:107: RuntimeWarning: invalid value encountered in double_scalars\n",
      "  slope = r_num / ssxm\n",
      "/Users/astrangedoor/anaconda3/lib/python3.6/site-packages/scipy/stats/_stats_mstats_common.py:119: RuntimeWarning: divide by zero encountered in double_scalars\n",
      "  sterrest = np.sqrt((1 - r**2) * ssym / ssxm / df)\n"
     ]
    }
   ],
   "source": [
    "#part ii\n",
    "features = forward_select(dfSharks, 'sharknado hazard', 4)\n",
    "print('Forward Selection Features: ')\n",
    "print('Order: ', ['First', 'Second', 'Third', 'Fourth'])\n",
    "print('Features: ', features)"
   ]
  },
  {
   "cell_type": "markdown",
   "metadata": {},
   "source": [
    "**Part D**: Write down the multiple linear regression model, including estimated parameters, obtained by your forward selection process. "
   ]
  },
  {
   "cell_type": "code",
   "execution_count": 23,
   "metadata": {},
   "outputs": [
    {
     "name": "stdout",
     "output_type": "stream",
     "text": [
      "Feature Coefficients\n",
      "const         -2557.160218\n",
      "pressure          3.083051\n",
      "temperature      -0.423575\n",
      "taunts            0.315070\n",
      "earthquake        2.064030\n",
      "dtype: float64\n"
     ]
    }
   ],
   "source": [
    "#Calculate parameters\n",
    "y, X = dfSharks[\"sharknado hazard\"], dfSharks.loc[:,features]\n",
    "X = sm.add_constant(X)\n",
    "modelReduced = sm.OLS(y, X).fit() \n",
    "print('Feature Coefficients')\n",
    "print(modelReduced.params)"
   ]
  },
  {
   "cell_type": "markdown",
   "metadata": {},
   "source": [
    "The model based on the above is (with parameters rounded to 2 decimal places):\n",
    "\n",
    "$$ y = -2557.16 + 3.08\\times P + (-0.42)\\times T + 0.32\\times Z + 2.06\\times E $$\n",
    "\n",
    "Where P, T, Z, and E are the respective feature variables for pressure, temperature, taunts, and earthquakes. "
   ]
  },
  {
   "cell_type": "markdown",
   "metadata": {},
   "source": [
    "**Part E**: Perform the appropriate statistical test at the $\\alpha = 0.01$ significance level to determine whether there is a statistically significant difference between the full model with all features and the reduced model obtained by forward selection in **Part D**. "
   ]
  },
  {
   "cell_type": "markdown",
   "metadata": {},
   "source": [
    "**Solution Part E** \n",
    "\n",
    "Will perform a partial F-test comparing the full (p features) and reduced (k features) models.\n",
    "\n",
    "$H_0 : \\beta_1 = \\beta_2 =... =\\beta_{p-k} = 0$ for the remaining p-k features\n",
    "\n",
    "$H_1 : \\beta_i \\neq 0 $ for one of the remaining p-k features\n",
    "\n",
    "Will calculate the F-statistic as follows:\n",
    "\n",
    "$$ F = \\frac{(SSE_{reduced}-SSE_{full})/(p-k)}{SSE_{full}/(n-p-1)}$$\n",
    "\n",
    "Will reject $H_0 $ in favor of $H_1$ if $F \\geq F_{\\alpha, p-k, n-p-1}$"
   ]
  },
  {
   "cell_type": "code",
   "execution_count": 24,
   "metadata": {},
   "outputs": [
    {
     "name": "stdout",
     "output_type": "stream",
     "text": [
      "Test Statistic F: 0.33\n",
      "F_alpha:  3.58\n"
     ]
    }
   ],
   "source": [
    "#F-Test\n",
    "alpha = 0.01\n",
    "response = dfSharks['sharknado hazard'] #y values\n",
    "y_bar = response.mean()\n",
    "sst = sum([(y - y_bar)**2 for y in response])\n",
    "n = len(response)\n",
    "\n",
    "features = dfSharks[dfSharks.columns.difference(['sharknado hazard', 'const'])]\n",
    "featureColumns = features.columns.values.tolist()\n",
    "p = len(featureColumns)\n",
    "k = 4\n",
    "\n",
    "#Get SSE values for the full and reduced \n",
    "SSE_full = getSSE(modelFull.rsquared, sst)\n",
    "SSE_red = getSSE(modelReduced.rsquared, sst)\n",
    "\n",
    "\n",
    "#Calculate test statistic F\n",
    "\n",
    "F = ((SSE_red-SSE_full)/(p-k))/(SSE_full/(n-p-1))\n",
    "\n",
    "F_alpha = stats.f.ppf(1-alpha, p-k, n-p-1)\n",
    "print('Test Statistic F:',  round(F, 2))\n",
    "print('F_alpha: ', round(F_alpha, 2))\n"
   ]
  },
  {
   "cell_type": "markdown",
   "metadata": {},
   "source": [
    "Our F value is far below the $F_{\\alpha, p-k, n-p-1}$ so we cannot reject the null hypothesis, which is that the features not included in the reduced have coeficients equal to 0. If you look at the full model coefficients for the features missing in the reduced model there are all close to 0. The full and reduced models are not significantly different and the missing features are not important, so we should use the reduced model to avoid including extraneous features. "
   ]
  },
  {
   "cell_type": "markdown",
   "metadata": {},
   "source": [
    "**Part F**: Based on your conclusions in **Part E**, use the _better_ of the two models to predict the sharknado hazard when the following features are observed: \n",
    "\n",
    "- $\\texttt{temperature}$: 67 degrees F\n",
    "- $\\texttt{clouds}$: 0.8\n",
    "- $\\texttt{humidity}$: 83\n",
    "- $\\texttt{pressure}$: 850 millibar \n",
    "- $\\texttt{earthquake}$: 7\n",
    "- $\\texttt{taunts}$: 47\n",
    "- $\\texttt{shark attacks}$: 11\n",
    "- $\\texttt{ice cream sold}$: 120"
   ]
  },
  {
   "cell_type": "code",
   "execution_count": 25,
   "metadata": {},
   "outputs": [
    {
     "name": "stdout",
     "output_type": "stream",
     "text": [
      "Using the reduced model, y =  64.31\n"
     ]
    }
   ],
   "source": [
    "coefficients = modelReduced.params\n",
    "variables = {'const': 1,'pressure': 850, 'temperature': 67, 'taunts': 47, 'earthquake': 7}\n",
    "keys = list(variables.keys())\n",
    "y = 0\n",
    "for key in keys:\n",
    "    y += coefficients[key]*variables[key]\n",
    "print('Using the reduced model, y = ', round(y,2))"
   ]
  },
  {
   "cell_type": "markdown",
   "metadata": {},
   "source": [
    "<br>\n",
    "\n",
    "---\n",
    "[Back to top](#top)\n",
    "<a id='p4'></a>\n",
    "\n",
    "### [20 points] Problem 4:  Dealer's Choice\n",
    "\n",
    "For this problem, you may use a data set of your choosing. It must **not** be a data set used for any of the in-class notebooks, homework problem sets, or used in the rest of this practicum. \n",
    "\n",
    "**Part A:** \n",
    "\n",
    "1. Give a few sentences summarizing your data set. Provide a few details about where you found it, when it was collected, who/what the sample population was, and what the key quantities of interest are.\n",
    "2. Also provide a hyperlink **and citation** to any relevant scientific paper. Most data sets include a \"cite this work as\" suggestion.\n",
    "3. Then, clearly state a research question that you would like to answer using the data set.  For example, \"Is a random bottle of red or white wine more likely to have a quality of 5 or higher?\""
   ]
  },
  {
   "cell_type": "markdown",
   "metadata": {},
   "source": [
    "**Solution Part A**\n",
    "1. \n",
    "\n",
    "The data set is the *homo sapiens* reference proteome (set of known proteins, so the genome of proteins). The data is FASTA formatted, so each sequnce has a header line marked with a '>' that contains some identifying information about the sequence, *e.g.*, protein name, gene name, origin species, level of evidence for this protein (coded), etc. Following the header line is the protein sequence written using the single letter amino acid codes. \n",
    "\n",
    "2. https://www.uniprot.org/proteomes/UP000005640#\n",
    "To cite UniProt, cite latest publication:\n",
    "The UniProt Consortium \n",
    "UniProt: the universal protein knowledgebase \n",
    "Nucleic Acids Res. 45: D158-D169 (2017)\n",
    "I will compare this database to a selected set of 167 human protein sequences. \n",
    "\n",
    "3. Does my sample set of proteins differ from the human reference proteome significantly. In particular, are the observed frequencies of the 20 common amino acids in the 167 sequence subset significantly different than the frequencies from an similar subset taken from the human reference proteome? Aggregate statistics are released for the whole proteome, however it would be more biologically relevant to compare my subset to a subset with the same range of lengths since size would probably affect amino acid frequencies (*e.g.*, higher frequencies of hydrophobic amino acids in large, globular proteins than in small, unstructured proteins). The range of sequence lengths in the sample set is 20-70, while the range in the uniprot data set is presumably much larger (probably 5-2500+)."
   ]
  },
  {
   "cell_type": "markdown",
   "metadata": {},
   "source": [
    "**Part B:** Read in data set, and perform any cleaning that is necessary. Write a sentence or two to describe any fill-values or missing data and how you dealt with them. If the data set is fine as-is, just say so and thank your lucky stars somebody else took the time to clean it."
   ]
  },
  {
   "cell_type": "code",
   "execution_count": 26,
   "metadata": {},
   "outputs": [],
   "source": [
    "#read in my file of 167 sequences\n",
    "myFile = pd.read_csv('https://drive.google.com/uc?export=download&id=1EHGhOt8zJaD6SYIlvRDhIfHDIPrdzvMH',  header = None)\n",
    "myFileSeqsOnly = pd.DataFrame([myFile.iloc[x] for x in list(range(1,len(myFile), 2))]) #get rid of rows with names not sequences\n"
   ]
  },
  {
   "cell_type": "code",
   "execution_count": 27,
   "metadata": {},
   "outputs": [],
   "source": [
    "#read in UniProt file of all human proteins in their database\n",
    "f = open('uniprot-proteome%3AUP000005640.fasta','r')\n",
    "allLines = f.readlines()  "
   ]
  },
  {
   "cell_type": "code",
   "execution_count": 28,
   "metadata": {},
   "outputs": [
    {
     "name": "stdout",
     "output_type": "stream",
     "text": [
      "Expected number of sequences: 73112\n",
      "Number of sequences read from file: 73112\n"
     ]
    }
   ],
   "source": [
    "allHsapSeqs = []\n",
    "currSeq = ''\n",
    "\n",
    "for line in allLines:\n",
    "    if line[0] != '>':\n",
    "        currSeq += line.strip('\\n')\n",
    "    else:\n",
    "        allHsapSeqs.append(currSeq)\n",
    "        currSeq = ''\n",
    "\n",
    "allHsapSeqs.append(currSeq) #get last sequences, which has no '>' line following it\n",
    "allHsapSeqs.pop(0) #pop off blank first item in list\n",
    "\n",
    "#Check I have all the sequences\n",
    "\n",
    "print(\"Expected number of sequences: 73112\")\n",
    "print(\"Number of sequences read from file:\", len(allHsapSeqs))\n"
   ]
  },
  {
   "cell_type": "markdown",
   "metadata": {},
   "source": [
    "Had to parse the FASTA format. For my small subset, each sequence had a simple header followed by the sequence. Just wanted the sequence so had to alternate which rows were included in my final data set. For the UniProt data set of proteins, not only did the sequences have longer headers, but the sequences were split over multiple lines depending on their length, so had to specially read in each line, concatenating contiguous sequence segments. \n",
    "\n",
    "Header information won't be used so it is thrown out. "
   ]
  },
  {
   "cell_type": "markdown",
   "metadata": {},
   "source": [
    "**Part C:** Perform some exploratory data analysis on your data set. Explain in Markdown/MathJax what you are doing and why. Include any summary statistics or figures that you believe will be helpful to build a case for the analysis you will do in Part D, to answer the research question from Part A. For example:\n",
    "* What are we going to look at, and why?\n",
    "* What techniques are we going to use, and why?\n",
    "* Can you provide some figures or statistics to justify the kind of relationship you hypothesized in Part A?"
   ]
  },
  {
   "cell_type": "code",
   "execution_count": 29,
   "metadata": {},
   "outputs": [
    {
     "data": {
      "image/png": "[encoded data removed]",
      "text/plain": [
       "<Figure size 1008x576 with 1 Axes>"
      ]
     },
     "metadata": {},
     "output_type": "display_data"
    }
   ],
   "source": [
    "#First, will look at distribution of lengths, since my sequences are only 20-70 amino acids\n",
    "allHsapSeqs_lengths = [len(x) for x in allHsapSeqs]\n",
    "mySet_lengths = [len(x) for x in myFileSeqsOnly[0]]\n",
    "\n",
    "fig, ax = plt.subplots(nrows=1, ncols=1, figsize=(14,8))\n",
    "plt.hist(allHsapSeqs_lengths, bins = range(0,7500, 20), density = True, ec = 'white')\n",
    "plt.xlim(0,1500)\n",
    "plt.xlabel('Sequence Length')\n",
    "plt.ylabel('Density')\n",
    "plt.title('All Sequence Lengths UniProt homo sapiens Reference Proteome: ID = UP000005640')\n",
    "plt.show();\n"
   ]
  },
  {
   "cell_type": "markdown",
   "metadata": {},
   "source": [
    "(^^^^Could be log-normal...which is cool, but not relevant to what I am doing here)"
   ]
  },
  {
   "cell_type": "code",
   "execution_count": 30,
   "metadata": {},
   "outputs": [
    {
     "data": {
      "image/png": "[encoded data removed]",
      "text/plain": [
       "<Figure size 1008x576 with 1 Axes>"
      ]
     },
     "metadata": {},
     "output_type": "display_data"
    }
   ],
   "source": [
    "fig, ax = plt.subplots(nrows=1, ncols=1, figsize=(14,8))\n",
    "plt.hist(allHsapSeqs_lengths, bins = range(0,7500, 2), density = True, ec = 'white')\n",
    "plt.xlim(10, 80)\n",
    "plt.xlabel('Sequence Length')\n",
    "plt.ylabel('Density')\n",
    "plt.title('All Sequence Lengths UniProt homo sapiens Reference Proteome: ID = UP000005640 (zoomed in)')\n",
    "plt.show();"
   ]
  },
  {
   "cell_type": "code",
   "execution_count": 31,
   "metadata": {},
   "outputs": [
    {
     "data": {
      "image/png": "[encoded data removed]",
      "text/plain": [
       "<Figure size 1008x576 with 1 Axes>"
      ]
     },
     "metadata": {},
     "output_type": "display_data"
    }
   ],
   "source": [
    "fig, ax = plt.subplots(nrows=1, ncols=1, figsize=(14,8))\n",
    "plt.hist(mySet_lengths, bins = range(0,70, 2), density = True, ec = 'white')\n",
    "plt.xlim(10,80)\n",
    "plt.xlabel('Sequence Length')\n",
    "plt.ylabel('Density')\n",
    "plt.title('My Sequence Lengths')\n",
    "plt.show();\n"
   ]
  },
  {
   "cell_type": "markdown",
   "metadata": {},
   "source": [
    "Clearly most of the sequences that UniProt includes when they report their frequency statistics are much larger than 20-70 amino acids in length (see below, only 12% of the sequence in the reference proteome are in the length range I want).\n",
    "\n",
    "Looking at the length distributions above, my set of proteins doesn't have the same distribution between 20 and 70 aa as the reference proteome. There are some modes in my set that don't appear in the reference set, so the types of proteins in my set are liekly different than any random set in the same range you might see pulling from the reference set. Based on some of the unusual features of my distribution (in particular the population at ~25 aa), I might have a significantly different set of proteins compared to all human proteins and thus the aa frequencies may be statistically significantly different for my set. "
   ]
  },
  {
   "cell_type": "code",
   "execution_count": 120,
   "metadata": {},
   "outputs": [
    {
     "name": "stdout",
     "output_type": "stream",
     "text": [
      "Fraction of Reference Sequences in range on interest:  0.12\n"
     ]
    }
   ],
   "source": [
    "#Create data frame with just reference proteins in target length range, 20 to 70 aa\n",
    "allRefProt = pd.DataFrame({'seq':allHsapSeqs, 'seqLength': allHsapSeqs_lengths})\n",
    "shortRefProt = pd.DataFrame({'seq':allHsapSeqs, 'seqLength': allHsapSeqs_lengths})\n",
    "shortRefProt = shortRefProt.loc[(shortRefProt['seqLength']>= 20) & (shortRefProt['seqLength']<= 70)]\n",
    "shortRefProt.head()\n",
    "print(\"Fraction of Reference Sequences in range on interest: \" ,round(len(shortRefProt)/73112, 2))"
   ]
  },
  {
   "cell_type": "code",
   "execution_count": 121,
   "metadata": {},
   "outputs": [
    {
     "data": {
      "text/html": [
       "<div>\n",
       "<style scoped>\n",
       "    .dataframe tbody tr th:only-of-type {\n",
       "        vertical-align: middle;\n",
       "    }\n",
       "\n",
       "    .dataframe tbody tr th {\n",
       "        vertical-align: top;\n",
       "    }\n",
       "\n",
       "    .dataframe thead th {\n",
       "        text-align: right;\n",
       "    }\n",
       "</style>\n",
       "<table border=\"1\" class=\"dataframe\">\n",
       "  <thead>\n",
       "    <tr style=\"text-align: right;\">\n",
       "      <th></th>\n",
       "      <th>seq</th>\n",
       "      <th>seqLength</th>\n",
       "    </tr>\n",
       "  </thead>\n",
       "  <tbody>\n",
       "    <tr>\n",
       "      <th>1</th>\n",
       "      <td>MSATNNIAQARKLVEQLRIEAGIERIKVSKAASDLMSYCEQHARND...</td>\n",
       "      <td>68</td>\n",
       "    </tr>\n",
       "    <tr>\n",
       "      <th>3</th>\n",
       "      <td>MPRKIEEIKDFLLTARRKDAKSVKIKKNKDNVKFKVRCSRYLYTLV...</td>\n",
       "      <td>70</td>\n",
       "    </tr>\n",
       "    <tr>\n",
       "      <th>5</th>\n",
       "      <td>MVITSENDEDRGGQEKESKEESVLAMLGIIGTILNLIVIIFVYIYTTL</td>\n",
       "      <td>48</td>\n",
       "    </tr>\n",
       "    <tr>\n",
       "      <th>7</th>\n",
       "      <td>MDTSRVQPIKLARVTKVLGRTGSQGQCTQVRVEFMDDTSRSIIRNV...</td>\n",
       "      <td>69</td>\n",
       "    </tr>\n",
       "    <tr>\n",
       "      <th>9</th>\n",
       "      <td>MVAYWRQAGLSYIRYSQICAKAVRDALKTEFKANAEKTSGSNVKIV...</td>\n",
       "      <td>51</td>\n",
       "    </tr>\n",
       "  </tbody>\n",
       "</table>\n",
       "</div>"
      ],
      "text/plain": [
       "                                                 seq  seqLength\n",
       "1  MSATNNIAQARKLVEQLRIEAGIERIKVSKAASDLMSYCEQHARND...         68\n",
       "3  MPRKIEEIKDFLLTARRKDAKSVKIKKNKDNVKFKVRCSRYLYTLV...         70\n",
       "5   MVITSENDEDRGGQEKESKEESVLAMLGIIGTILNLIVIIFVYIYTTL         48\n",
       "7  MDTSRVQPIKLARVTKVLGRTGSQGQCTQVRVEFMDDTSRSIIRNV...         69\n",
       "9  MVAYWRQAGLSYIRYSQICAKAVRDALKTEFKANAEKTSGSNVKIV...         51"
      ]
     },
     "execution_count": 121,
     "metadata": {},
     "output_type": "execute_result"
    }
   ],
   "source": [
    "#create data frame with my set of proteins and their lengths\n",
    "mySet = pd.DataFrame({'seq': myFileSeqsOnly[0], 'seqLength': mySet_lengths})\n",
    "mySet.head()"
   ]
  },
  {
   "cell_type": "code",
   "execution_count": 122,
   "metadata": {},
   "outputs": [],
   "source": [
    "#function to get frequency of amino acids given dataframe with sequences and lengths\n",
    "def getAAcounts(dfSeqs):\n",
    "    aaSingleL = ['I', 'L', 'V', 'F', 'M', 'C', 'A', 'G', 'P', 'T', 'S', 'Y', 'W', 'Q', 'N', 'H', 'E','D','K','R']\n",
    "    aaCounts = 20*[0]\n",
    "    aaFrequency = []\n",
    "    #print(dfSeqs.columns)\n",
    "    totalAA = sum(dfSeqs['seqLength'])\n",
    "    for seq in dfSeqs['seq']:\n",
    "        for i,x in enumerate(aaSingleL):\n",
    "            aaCounts[i] += seq.count(x)\n",
    "    for i,x in enumerate(aaCounts):\n",
    "        aaFrequency.append(x/totalAA)\n",
    "    return aaSingleL, aaFrequency, totalAA\n"
   ]
  },
  {
   "cell_type": "code",
   "execution_count": 140,
   "metadata": {},
   "outputs": [
    {
     "data": {
      "image/png": "[encoded data removed]",
      "text/plain": [
       "<Figure size 1008x576 with 1 Axes>"
      ]
     },
     "metadata": {},
     "output_type": "display_data"
    }
   ],
   "source": [
    "refSet_freq = getAAcounts(shortRefProt)\n",
    "mySet_freq = getAAcounts(mySet)\n",
    "fig, ax = plt.subplots(nrows=1, ncols=1, figsize=(14,8))\n",
    "plt.bar(refSet_freq[0],refSet_freq[1],alpha=0.5,  label=\"Expected Frequency: 20-70 aa\")\n",
    "plt.bar(mySet_freq[0], mySet_freq[1], alpha=0.5, label=\"Observed Frequency\")\n",
    "plt.xlabel('Amino Acid', size = 16)\n",
    "plt.ylabel('Fraction of all AA',size = 16)\n",
    "plt.title('Amino Acid Frequencies: Expected vs. Observed', size = 18)\n",
    "plt.grid(alpha=0)\n",
    "plt.legend(fontsize = 'large')\n",
    "plt.show();\n",
    "\n",
    "fig.savefig('exp20to70aa_v_obs.png') "
   ]
  },
  {
   "cell_type": "markdown",
   "metadata": {},
   "source": [
    "Visually, in the bar graph above, some amino acids, such as Cysteine, look like they could significantly differ between the two sets, however this needs to be confirmed statistically."
   ]
  },
  {
   "cell_type": "markdown",
   "metadata": {},
   "source": [
    "**Part D:** Answer your research question proposed in Part A by carrying out at least one of the following.\n",
    "* confidence interval test\n",
    "* hypothesis test\n",
    "* linear regression (single or multivariate), including inference for coefficients\n",
    "\n",
    "Write a few sentences to summarize your findings. Include one sentence that clearly states your conclusion."
   ]
  },
  {
   "cell_type": "markdown",
   "metadata": {},
   "source": [
    "Will perform two-tailed z-tests ($\\alpha = 0.05$, cause why not) to compare the frequencies (so proportions) for each amino acid. \n",
    "\n",
    "$H_0: p_{aa,obs} - p_{aa,exp} = 0 $ and $H_1: p_{aa,obs} - p_{aa,exp} \\neq 0$ where obs = the observed frequences in my set and exp = the expected frequencies based on the reference proteome and aa is the single letter code of the respective amino acid being tested.\n",
    "\n",
    "So the standardized test-statistic, z, is given by:\n",
    "\n",
    "$$ z = \\frac{\\hat p_{aa,obs} - \\hat p_{aa,exp}-0}{\\sqrt{\\frac {\\hat{p_{aa,obs}}(1-\\hat{p_{aa,obs}})}{n_{aa,obs}} + \\frac {\\hat{p_{aa,exp}}(1-\\hat{p_{aa,exp}})}{n_{aa,exp}}}}$$\n",
    "\n",
    "The n values above are the total amino acids in the respective set (so sum of all the sequence lengths).\n",
    "\n",
    "If $z_{\\alpha/2} \\leq z \\leq z_{1-\\alpha/2}$ then z is in the rejection range and the null hypothesis can be rejected in favor of the alternative hypothesis.\n"
   ]
  },
  {
   "cell_type": "code",
   "execution_count": 36,
   "metadata": {},
   "outputs": [
    {
     "name": "stdout",
     "output_type": "stream",
     "text": [
      "I  has a significantly higher frequency in my set\n",
      "\tP-value:  4.239665830614098e-05\n",
      "L  is not significantly different, cannot reject the null hypothesis\n",
      "V  has a significantly lower frequency in my set\n",
      "\tP-value:  1.001963615696582e-05\n",
      "F  has a significantly higher frequency in my set\n",
      "\tP-value:  0.0034058004014577152\n",
      "M  is not significantly different, cannot reject the null hypothesis\n",
      "C  has a significantly higher frequency in my set\n",
      "\tP-value:  3.9936455038370016e-25\n",
      "A  has a significantly lower frequency in my set\n",
      "\tP-value:  7.392539303570245e-10\n",
      "G  has a significantly higher frequency in my set\n",
      "\tP-value:  0.0030860824945980214\n",
      "P  has a significantly lower frequency in my set\n",
      "\tP-value:  2.448563085915471e-06\n",
      "T  has a significantly lower frequency in my set\n",
      "\tP-value:  0.0029912205788842823\n",
      "S  has a significantly lower frequency in my set\n",
      "\tP-value:  0.014489583850925487\n",
      "Y  has a significantly higher frequency in my set\n",
      "\tP-value:  2.3657401361809304e-13\n",
      "W  has a significantly lower frequency in my set\n",
      "\tP-value:  0.015392253260342693\n",
      "Q  has a significantly lower frequency in my set\n",
      "\tP-value:  0.0017641325013502294\n",
      "N  has a significantly lower frequency in my set\n",
      "\tP-value:  0.008593647201490388\n",
      "H  has a significantly lower frequency in my set\n",
      "\tP-value:  0.0010001783954099916\n",
      "E  has a significantly lower frequency in my set\n",
      "\tP-value:  6.806292642381102e-13\n",
      "D  has a significantly lower frequency in my set\n",
      "\tP-value:  4.6917935657866e-15\n",
      "K  has a significantly higher frequency in my set\n",
      "\tP-value:  1.2024270115774093e-12\n",
      "R  is not significantly different, cannot reject the null hypothesis\n"
     ]
    }
   ],
   "source": [
    "alpha = 0.05\n",
    "n_exp = refSet_freq[2]\n",
    "n_obs = mySet_freq[2]\n",
    "z_upper = stats.norm.ppf(1-alpha/2)\n",
    "z_lower = -z_upper\n",
    "for i,exp in enumerate(refSet_freq[1]):\n",
    "    dif_p = mySet_freq[1][i] - exp\n",
    "    sigma_p = np.sqrt((mySet_freq[1][i]*(1-mySet_freq[1][i]))/n_obs + (exp*(1-exp))/n_exp)\n",
    "    z = dif_p/sigma_p\n",
    "    #print(refSet_freq[0][i],z_lower,  z, z_upper)\n",
    "    if z <= z_lower:\n",
    "        print(refSet_freq[0][i], \" has a significantly lower frequency in my set\")\n",
    "        print('\\tP-value: ', stats.norm.cdf(z))\n",
    "    elif z >= z_upper:\n",
    "        print(refSet_freq[0][i], \" has a significantly higher frequency in my set\")\n",
    "        print('\\tP-value: ', stats.norm.cdf(1-z))\n",
    "    else:\n",
    "        print(refSet_freq[0][i], \" is not significantly different, cannot reject the null hypothesis\")\n",
    "\n",
    "    "
   ]
  },
  {
   "cell_type": "markdown",
   "metadata": {},
   "source": [
    "The findings for each amino acid are listed above. For almost all of the amino acids (except for R, M, and L) there was a significant difference in the frequency in my set vs. the reference set. The p-values from each of these z-tests are quite low, so the probability that these are false positives is also very low. So, based on amino acid composition alone, my set is significantly different than the set of all proteins of the same length in the reference human proteome. "
   ]
  },
  {
   "cell_type": "markdown",
   "metadata": {},
   "source": [
    "<br>\n",
    "\n",
    "---\n",
    "[Back to Problem 3](#p3)\n",
    "\n",
    "<a id='footnote'></a> Yeah yeah - fresh water versus salt water - I know, I know. But sharknadoes also are not real, so..."
   ]
  },
  {
   "cell_type": "code",
   "execution_count": 138,
   "metadata": {
    "collapsed": true
   },
   "outputs": [
    {
     "data": {
      "image/png": "[encoded data removed]",
      "text/plain": [
       "<Figure size 1008x576 with 1 Axes>"
      ]
     },
     "metadata": {},
     "output_type": "display_data"
    }
   ],
   "source": [
    "expectedFreq ={\n",
    "'A':  8.25,  \n",
    "'R':  5.53 ,\n",
    "'N':  4.06  ,\n",
    "'D':  5.45  ,\n",
    "'C':  1.37  ,\n",
    "'Q':  3.93  ,\n",
    "'E':  6.75  ,\n",
    "'G':  7.07  ,\n",
    "'H':  2.27  ,\n",
    "'I':  5.96  ,\n",
    "'L':  9.66  ,\n",
    "'K':  5.84  ,\n",
    "'M':  2.42  ,\n",
    "'F':  3.86  ,\n",
    "'P':  4.70  ,\n",
    "'S':  6.56  ,\n",
    "'T':  5.34  ,\n",
    "'W':  1.08  ,\n",
    "'Y':  2.92  ,\n",
    "'V':  6.87  \n",
    "}\n",
    "x = []\n",
    "y = []\n",
    "for aa in refSet_freq[0]:\n",
    "    x.append(aa)\n",
    "    y.append(expectedFreq[aa]/100)\n",
    "allrefSet_freq = getAAcounts(allRefProt)\n",
    "\n",
    "fig, ax = plt.subplots(nrows=1, ncols=1, figsize=(14,8))\n",
    "plt.bar(x,allrefSet_freq[1],alpha=0.5, color = 'gold', label=\"Expected Frequency: All Seq Lengths\")\n",
    "plt.bar(refSet_freq[0],refSet_freq[1],alpha=0.5,color = 'steelblue',  label=\"Expected Frequency: 20-70 aa\")\n",
    "plt.bar(mySet_freq[0], mySet_freq[1], alpha=0.5,color = 'indianred', label=\"Observed Frequency\")\n",
    "plt.title('Amino Acid Frequencies: Expected vs. Observed', size = 18)\n",
    "plt.xlabel('Amino Acid', size = 16)\n",
    "plt.ylabel('Fraction of all AA', size = 16)\n",
    "plt.grid(alpha=0)\n",
    "plt.legend(fontsize = 'large')\n",
    "plt.show();\n",
    "\n",
    "fig.savefig('exp_v_obs_allLenInOne.png') "
   ]
  },
  {
   "cell_type": "code",
   "execution_count": 135,
   "metadata": {},
   "outputs": [
    {
     "data": {
      "image/png": "[encoded data removed]",
      "text/plain": [
       "<Figure size 1008x576 with 1 Axes>"
      ]
     },
     "metadata": {},
     "output_type": "display_data"
    }
   ],
   "source": [
    "\n",
    "\n",
    "fig, ax = plt.subplots(nrows=1, ncols=1, figsize=(14,8))\n",
    "plt.bar(refSet_freq[0],allrefSet_freq[1],alpha=0.5,  label=\"Expected Frequency: All Sequence Lengths\")\n",
    "plt.bar(mySet_freq[0], mySet_freq[1], alpha=0.5, label=\"Observed Frequency\")\n",
    "plt.xlabel('Amino Acid', size = 16)\n",
    "plt.ylabel('Fraction of all AA',size = 16)\n",
    "plt.title('Amino Acid Frequencies: Expected vs. Observed', size = 18)\n",
    "plt.grid(alpha=0)\n",
    "plt.legend(fontsize = 'large')\n",
    "plt.show();\n",
    "\n",
    "fig.savefig('expAllLengths_v_obs.png') "
   ]
  },
  {
   "cell_type": "code",
   "execution_count": 129,
   "metadata": {},
   "outputs": [
    {
     "data": {
      "image/png": "[encoded data removed]",
      "text/plain": [
       "<Figure size 1008x576 with 1 Axes>"
      ]
     },
     "metadata": {},
     "output_type": "display_data"
    }
   ],
   "source": [
    "fig, ax = plt.subplots(nrows=1, ncols=1, figsize=(14,8))\n",
    "plt.bar(refSet_freq[0],allrefSet_freq[1],alpha=0.5,  label=\"Expected Frequency: hSap Ref Proteome\")\n",
    "plt.bar(mySet_freq[0], y, alpha=0.5, label=\"Expected Frequency: All of Uniprot DB\")\n",
    "plt.xlabel('Amino Acid', size = 16)\n",
    "plt.ylabel('Fraction of all AA',size = 16)\n",
    "plt.title('Amino Acid Frequencies: Expected vs. Observed', size = 18)\n",
    "plt.grid(alpha=0)\n",
    "plt.legend(fontsize = 'large')\n",
    "plt.show();"
   ]
  },
  {
   "cell_type": "code",
   "execution_count": 131,
   "metadata": {},
   "outputs": [
    {
     "name": "stdout",
     "output_type": "stream",
     "text": [
      "['I', 'L', 'V', 'F', 'M', 'C', 'A', 'G', 'P', 'T', 'S', 'Y', 'W', 'Q', 'N', 'H', 'E', 'D', 'K', 'R'] ['I', 'L', 'V', 'F', 'M', 'C', 'A', 'G', 'P', 'T', 'S', 'Y', 'W', 'Q', 'N', 'H', 'E', 'D', 'K', 'R'] ['I', 'L', 'V', 'F', 'M', 'C', 'A', 'G', 'P', 'T', 'S', 'Y', 'W', 'Q', 'N', 'H', 'E', 'D', 'K', 'R']\n"
     ]
    }
   ],
   "source": [
    "print(x, mySet_freq[0], refSet_freq[0])\n",
    "\n",
    "    \n",
    "obsMinExp_all = np.array(mySet_freq[1]) - np.array(allrefSet_freq[1])\n",
    "\n",
    "obsMinExp_20to70aa = np.array(mySet_freq[1]) - np.array(refSet_freq[1])"
   ]
  },
  {
   "cell_type": "code",
   "execution_count": 139,
   "metadata": {},
   "outputs": [
    {
     "data": {
      "image/png": "[encoded data removed]",
      "text/plain": [
       "<Figure size 1008x576 with 1 Axes>"
      ]
     },
     "metadata": {},
     "output_type": "display_data"
    }
   ],
   "source": [
    "fig, ax = plt.subplots(nrows=1, ncols=1, figsize=(14,8))\n",
    "plt.bar(x,obsMinExp_all,alpha=0.5, color = 'indianred', label=\"Reference Sequences: All Lengths\")\n",
    "plt.bar(x,obsMinExp_20to70aa,alpha=0.5,color = 'steelblue',  label=\"Reference Sequences: 20-70 AA\")\n",
    "plt.axhline(0, color='black', linewidth = '0.5')\n",
    "plt.title('Difference Between Observed and Expected Amino Acid Frequencies', size = 18)\n",
    "plt.xlabel('Amino Acid', size = 16)\n",
    "plt.ylabel('Observed - Expected (Fraction of all AA)', size = 16)\n",
    "plt.grid(alpha=0)\n",
    "plt.legend(fontsize = 'large')\n",
    "plt.show();\n",
    "fig.savefig('obsMINexp_allLenInOne.png') "
   ]
  },
  {
   "cell_type": "code",
   "execution_count": null,
   "metadata": {},
   "outputs": [],
   "source": []
  }
 ],
 "metadata": {
  "kernelspec": {
   "display_name": "Python 3",
   "language": "python",
   "name": "python3"
  },
  "language_info": {
   "codemirror_mode": {
    "name": "ipython",
    "version": 3
   },
   "file_extension": ".py",
   "mimetype": "text/x-python",
   "name": "python",
   "nbconvert_exporter": "python",
   "pygments_lexer": "ipython3",
   "version": "3.6.5"
  }
 },
 "nbformat": 4,
 "nbformat_minor": 2
}
